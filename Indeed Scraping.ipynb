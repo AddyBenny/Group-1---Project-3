{
 "cells": [
  {
   "cell_type": "code",
   "execution_count": 1,
   "metadata": {},
   "outputs": [],
   "source": [
    "from splinter import Browser\n",
    "from bs4 import BeautifulSoup\n",
    "import pandas as pd\n",
    "import pymongo "
   ]
  },
  {
   "cell_type": "code",
   "execution_count": 2,
   "metadata": {},
   "outputs": [],
   "source": [
    "executable_path = {'executable_path': 'chromedriver.exe'}\n",
    "browser = Browser('chrome', **executable_path, headless=False)"
   ]
  },
  {
   "cell_type": "code",
   "execution_count": 3,
   "metadata": {},
   "outputs": [],
   "source": [
    "url = 'https://www.indeed.com/jobs?q=Data+Scientist&l=Irvine%2C+CA&radius=100'\n",
    "browser.visit(url)"
   ]
  },
  {
   "cell_type": "code",
   "execution_count": 4,
   "metadata": {},
   "outputs": [],
   "source": [
    "html = browser.html"
   ]
  },
  {
   "cell_type": "code",
   "execution_count": 5,
   "metadata": {},
   "outputs": [],
   "source": [
    "soup = BeautifulSoup(html, 'html.parser')"
   ]
  },
  {
   "cell_type": "code",
   "execution_count": 6,
   "metadata": {},
   "outputs": [
    {
     "name": "stdout",
     "output_type": "stream",
     "text": [
      "[<h2 class=\"title\">\n",
      "<a class=\"jobtitle turnstileLink\" data-tn-element=\"jobTitle\" href=\"/pagead/clk?mo=r&amp;ad=-6NYlbfkN0AnQhcI30S35noZYX7fptC9JHDBVuSQzNzWdPUWRF9nG_TgfFeJcuyvoA_Dmg8a2SWU0CWz29S6MT30H2yhzzsBpPN9y0B6egimIjGTLXX1oUyXsUX7-ksrT2fHw1ZxE675VWanqeqU3t9LUAatd_nATymTC1UVJ8jmJ9jwNZRqU2KUNNNYC4rx0QyRrKMJ4-nMQpLfC3HChSjFxIPNYzp9EYaWJ-JE3s-h28HNrksnwcUtdZQ70ImoNArxqGJpZ0FY2qun-kPX6pPju2rsqx071BvyeOth6ptvCmKDn7wciZe14QuYP0efzt1CPU3fo3ld16Q_BqeIkKG0nmWfNI4naqnAnzeb6IM2dBw8TpvYBgulHeYPGbqJhANMvcseYgHLafI9GFVi7EV6UJItW5X9s_paxx8NdwPVVHPsnDdZVF4RowXg2vHk7syTgPHBX-axjWEVZ6XRQ0rINzBJBxgz&amp;p=0&amp;fvj=1&amp;vjs=3\" id=\"sja0\" onclick=\"setRefineByCookie(['radius']); sjoc('sja0', 1); convCtr('SJ'); rclk(this,jobmap[0],true,1);\" onmousedown=\"sjomd('sja0'); clk('sja0'); rclk(this,jobmap[0],1);\" rel=\"noopener nofollow\" target=\"_blank\" title=\"Educational Data Scientist\">\n",
      "Educational <b>Data</b> <b>Scientist</b></a>\n",
      "</h2>, <h2 class=\"title\">\n",
      "<a class=\"jobtitle turnstileLink\" data-tn-element=\"jobTitle\" href=\"/pagead/clk?mo=r&amp;ad=-6NYlbfkN0AMr11YIOo206dX9CE572HoIBzjTozchv3QrfVeNVhstmAbPwFeZPDdH5w4MW3uUm59zxvwZmewuUare5btROGxqWx-_fSqJeoXHzgLaa8yIT3c-7Q_Qgpv8mTModHRHthZsuQggKKJ9TnHriBpY7kvmeTBHlvkjXeCuKGqTWnOLk1Ejk3aguHuGlN-xPeKuTsZiUIHstHElO1viyoLLmwwcXb53S3N6jkVnSvddUBxQP7es99tyFYd0mgyi5cVCkVkfo21e-qtFqhQdm-RMYzubGNoZFHB_yidFZssr3Aai6NlqdarSlSYDE9-EfpeKxdsvBGFg67KCyWgh7CirTPsUnVDQsuGlw-psuDgwG4oN1_SD7Dk82SgVedWwkC769VQq3OO3XxKci16m2XjhK8DZcMU5vCJSpNJos1cPlx6CVmHZpuvHjKQSl7o_InH9518aK76Qp8QK3tzgt6wk3Gx1Dh2UDXsCqIRVQWHN8khDPP7NHYFTGtpNZ_LnNYKiys=&amp;p=1&amp;fvj=1&amp;vjs=3\" id=\"sja1\" onclick=\"setRefineByCookie(['radius']); sjoc('sja1', 1); convCtr('SJ'); rclk(this,jobmap[1],true,1);\" onmousedown=\"sjomd('sja1'); clk('sja1'); rclk(this,jobmap[1],1);\" rel=\"noopener nofollow\" target=\"_blank\" title=\"Data Scientist\">\n",
      "<b>Data</b> <b>Scientist</b></a>\n",
      "<span class=\"new\">new</span></h2>, <h2 class=\"title\">\n",
      "<a class=\"jobtitle turnstileLink\" data-tn-element=\"jobTitle\" href=\"/pagead/clk?mo=r&amp;ad=-6NYlbfkN0ClvsRMZZYbWkncYKklQZhomgGvtzxN2NDL0Yep_oEtFRBSc398mSurhg85pZ9IK4hwZENIdnfMrd9vgmYaldPQpYZYmqd_RWsMa-UQUHq33lrt1JtH8E7ZxWSo7ImAkgsQHQpZ3y3tmy7gmAY8NN36POy8Dj4luchhEANL0gMVQnX46FuA1Iy7qT5XvJAjTK1mT7ahGreup5ylvNGUHxMdMK1RBaO7e3Mu9DQ0t-5qd2HRHUGeedw0FnXFO-6s1xy5zBsWKgadVQj1xacbPp4oYXjOgCfU595KDqyr4kyCIs2ETtQVJPj1yrTPoXYKoULUZ6P6KSOr0bCBKyWI50AsdJY8TKcj5NlHILcRXVYDloV0Q8k7z4D5PlIA9DaCH93g0Y54yMQZFkj3Z34EZRfa&amp;p=2&amp;fvj=0&amp;vjs=3\" id=\"sja2\" onclick=\"setRefineByCookie(['radius']); sjoc('sja2', 0); convCtr('SJ'); rclk(this,jobmap[2],true,0);\" onmousedown=\"sjomd('sja2'); clk('sja2'); rclk(this,jobmap[2],0);\" rel=\"noopener nofollow\" target=\"_blank\" title=\"Senior Data Scientist\">\n",
      "Senior <b>Data</b> <b>Scientist</b></a>\n",
      "<span class=\"new\">new</span></h2>, <h2 class=\"title\">\n",
      "<a class=\"jobtitle turnstileLink\" data-tn-element=\"jobTitle\" href=\"/pagead/clk?mo=r&amp;ad=-6NYlbfkN0ClvsRMZZYbWkncYKklQZhomgGvtzxN2NDL0Yep_oEtFRBSc398mSurhg85pZ9IK4hwZENIdnfMrfT31QlmgQnUNsllJCuzCyoL6Y8z-8PyQo2okYl75ZdJ1F6hsfqRCcpp1Z-R9T2X6kucCAyUQ1kNIaJa22lGA5W811B3IquUNx9x5l39NRGOd4g0xaL62eGNoC5K8ej_ajyvLH7FlSI_e0WEWenTH7jQ3X7ZUaoWJxnOLvJ_SJ6CsUbznndNLVKd59JclBtatsVSYqGPtxSBddbzeona9AqWrOyUiKeY0Z23n3iMovz4ftsvDrzX5KRwbXgcSmk6TXDAhlNSB_S-3FCYM2M73rAZfAk1LQtuXkC-O1MvucRy-DWj5nygeCxAulrDweMZVQ==&amp;p=3&amp;fvj=0&amp;vjs=3\" id=\"sja3\" onclick=\"setRefineByCookie(['radius']); sjoc('sja3', 0); convCtr('SJ'); rclk(this,jobmap[3],true,0);\" onmousedown=\"sjomd('sja3'); clk('sja3'); rclk(this,jobmap[3],0);\" rel=\"noopener nofollow\" target=\"_blank\" title=\"Staff Data Scientist - Analytics\">\n",
      "Staff <b>Data</b> <b>Scientist</b> - Analytics</a>\n",
      "<span class=\"new\">new</span></h2>, <h2 class=\"title\">\n",
      "<a class=\"jobtitle turnstileLink\" data-tn-element=\"jobTitle\" href=\"/pagead/clk?mo=r&amp;ad=-6NYlbfkN0ClvsRMZZYbWkncYKklQZhomgGvtzxN2NDL0Yep_oEtFRBSc398mSurhg85pZ9IK4hwZENIdnfMrQ6jY9y4BiMTjFetE6lV34ljRGQOt0c--tGxHypRVfT_9BDTHYVgA85tPr6gqrXWhudRWWEWingJnDQFZKU-QdnQb9wOzZwNVjJwCFPB187naQTZg9Wg0K5-oPzyYrmz2zKF1x095HSwd8Hje3s3AlYKQM8aw35m7JDwmsQoBuCOCYV3uMBm7dwZkHi5SimeVQ-UqXsUc1gbo_fCUYv0W3coFwEdn8FqUl2Pc_J-oFND_5LAFsCu3_7bdR-GiuDYRjSdesNdpuC7BjSkExABhOV37eVHewQBGef9SGGTidqGrTdI7FAgvDUvTY9dDRE1-g==&amp;p=4&amp;fvj=0&amp;vjs=3\" id=\"sja4\" onclick=\"setRefineByCookie(['radius']); sjoc('sja4', 0); convCtr('SJ'); rclk(this,jobmap[4],true,0);\" onmousedown=\"sjomd('sja4'); clk('sja4'); rclk(this,jobmap[4],0);\" rel=\"noopener nofollow\" target=\"_blank\" title=\"Staff Data Scientist\">\n",
      "Staff <b>Data</b> <b>Scientist</b></a>\n",
      "<span class=\"new\">new</span></h2>, <h2 class=\"title\">\n",
      "<a class=\"jobtitle turnstileLink\" data-tn-element=\"jobTitle\" href=\"/pagead/clk?mo=r&amp;ad=-6NYlbfkN0BvQeUJ0cfNniX7CCgc4KydoCBbpnSCA7A18Rgk6d9TuQwfr8xUPdI-9H9njcVR5cezeh8s2wAHtKx_vlb3aaq5GbIrM3Eva384Ftljt-FkfHp0ilIKWefU4jrJhfoZ-Ky77DvrCBUsgCMZn3BnuHHLDgm4TuMhkFvD-2JvLblQSWhmAN4gAeifHY6I6iwwtkrEOu-zH8qrctSsX_zCBkD3DZBJ7ukHuOrL6HGq4I4zeYhJR8Jjh8AKV4XGCjoWFPc7alzRT4sEdZPNqt4MV57WPTJmMOMay-JCPojW2fI8w597nt77gtqSk7_B6xZ3VwMbf7nInbsbszCCRqFNj9AqkXOmuAf7bB-zYHBB6Ia9x6heoOfCr3vVrb2KDOnOFQ7ZN_--LDGoSEGH-1ijAWJvDpUc3y_3UiT7H9FvAUuEWuj0bPtZKStlhFcrk-FtUr_oYa8oTUpaELt87DUQEPpVckmg2ERTgc8=&amp;p=5&amp;fvj=1&amp;vjs=3\" id=\"sja5\" onclick=\"setRefineByCookie(['radius']); sjoc('sja5', 1); convCtr('SJ'); rclk(this,jobmap[5],true,1);\" onmousedown=\"sjomd('sja5'); clk('sja5'); rclk(this,jobmap[5],1);\" rel=\"noopener nofollow\" target=\"_blank\" title=\"Senior Health Data Analyst (Remote / Tableau experience required)\">\n",
      "Senior Health <b>Data</b> Analyst (Remote / Tableau experience requ...</a>\n",
      "<span class=\"new\">new</span></h2>, <h2 class=\"title\">\n",
      "<a class=\"jobtitle turnstileLink\" data-tn-element=\"jobTitle\" href=\"/company/Mobile-Programming/jobs/Data-Scientist-df4e6af65c173ecb?fccid=d0377b42bd69efd8&amp;vjs=3\" id=\"jl_df4e6af65c173ecb\" onclick=\"setRefineByCookie(['radius']); return rclk(this,jobmap[6],true,0);\" onmousedown=\"return rclk(this,jobmap[6],0);\" rel=\"noopener nofollow\" target=\"_blank\" title=\"Data Scientist\">\n",
      "<b>Data</b> <b>Scientist</b></a>\n",
      "<span class=\"new\">new</span></h2>, <h2 class=\"title\">\n",
      "<a class=\"jobtitle turnstileLink\" data-tn-element=\"jobTitle\" href=\"/rc/clk?jk=8c14ad33311ec5b3&amp;fccid=87d7af0ec9cd5df0&amp;vjs=3\" id=\"jl_8c14ad33311ec5b3\" onclick=\"setRefineByCookie(['radius']); return rclk(this,jobmap[7],true,0);\" onmousedown=\"return rclk(this,jobmap[7],0);\" rel=\"noopener nofollow\" target=\"_blank\" title=\"Data Scientist\">\n",
      "<b>Data</b> <b>Scientist</b></a>\n",
      "</h2>, <h2 class=\"title\">\n",
      "<a class=\"jobtitle turnstileLink\" data-tn-element=\"jobTitle\" href=\"/company/GradTests/jobs/Data-Scientist-61369985007480f5?fccid=3b57c72e54f9233d&amp;vjs=3\" id=\"jl_61369985007480f5\" onclick=\"setRefineByCookie(['radius']); return rclk(this,jobmap[8],true,1);\" onmousedown=\"return rclk(this,jobmap[8],1);\" rel=\"noopener nofollow\" target=\"_blank\" title=\"Data Scientist\">\n",
      "<b>Data</b> <b>Scientist</b></a>\n",
      "</h2>, <h2 class=\"title\">\n",
      "<a class=\"jobtitle turnstileLink\" data-tn-element=\"jobTitle\" href=\"/rc/clk?jk=e48719183cfe2f66&amp;fccid=ba0b4ef452449c10&amp;vjs=3\" id=\"jl_e48719183cfe2f66\" onclick=\"setRefineByCookie(['radius']); return rclk(this,jobmap[9],true,0);\" onmousedown=\"return rclk(this,jobmap[9],0);\" rel=\"noopener nofollow\" target=\"_blank\" title=\"Data Scientist\">\n",
      "<b>Data</b> <b>Scientist</b></a>\n",
      "</h2>, <h2 class=\"title\">\n",
      "<a class=\"jobtitle turnstileLink\" data-tn-element=\"jobTitle\" href=\"/rc/clk?jk=26e1065d7f6d9c88&amp;fccid=8f3c0373bcfa5520&amp;vjs=3\" id=\"jl_26e1065d7f6d9c88\" onclick=\"setRefineByCookie(['radius']); return rclk(this,jobmap[10],true,0);\" onmousedown=\"return rclk(this,jobmap[10],0);\" rel=\"noopener nofollow\" target=\"_blank\" title=\"Data Scientist\">\n",
      "<b>Data</b> <b>Scientist</b></a>\n",
      "<span class=\"new\">new</span></h2>, <h2 class=\"title\">\n",
      "<a class=\"jobtitle turnstileLink\" data-tn-element=\"jobTitle\" href=\"/rc/clk?jk=a2e9b786626bdcf5&amp;fccid=5eaae7a6faec1749&amp;vjs=3\" id=\"jl_a2e9b786626bdcf5\" onclick=\"setRefineByCookie(['radius']); return rclk(this,jobmap[11],true,0);\" onmousedown=\"return rclk(this,jobmap[11],0);\" rel=\"noopener nofollow\" target=\"_blank\" title=\"Data Scientist\">\n",
      "<b>Data</b> <b>Scientist</b></a>\n",
      "</h2>, <h2 class=\"title\">\n",
      "<a class=\"jobtitle turnstileLink\" data-tn-element=\"jobTitle\" href=\"/rc/clk?jk=539843aa92aaf8ce&amp;fccid=a23e5e2f20b1aac4&amp;vjs=3\" id=\"jl_539843aa92aaf8ce\" onclick=\"setRefineByCookie(['radius']); return rclk(this,jobmap[12],true,0);\" onmousedown=\"return rclk(this,jobmap[12],0);\" rel=\"noopener nofollow\" target=\"_blank\" title=\"Data Scientist\">\n",
      "<b>Data</b> <b>Scientist</b></a>\n",
      "</h2>, <h2 class=\"title\">\n",
      "<a class=\"jobtitle turnstileLink\" data-tn-element=\"jobTitle\" href=\"/company/Nihon-Kohden-America/jobs/Senior-Data-Scientist-b456cb2212135131?fccid=54764032272f66ae&amp;vjs=3\" id=\"jl_b456cb2212135131\" onclick=\"setRefineByCookie(['radius']); return rclk(this,jobmap[13],true,1);\" onmousedown=\"return rclk(this,jobmap[13],1);\" rel=\"noopener nofollow\" target=\"_blank\" title=\"Sr. Data Scientist\">\n",
      "Sr. <b>Data</b> <b>Scientist</b></a>\n",
      "</h2>, <h2 class=\"title\">\n",
      "<a class=\"jobtitle turnstileLink\" data-tn-element=\"jobTitle\" href=\"/rc/clk?jk=30a3bcd7b43db91d&amp;fccid=3bcef03e34391ca8&amp;vjs=3\" id=\"jl_30a3bcd7b43db91d\" onclick=\"setRefineByCookie(['radius']); return rclk(this,jobmap[14],true,0);\" onmousedown=\"return rclk(this,jobmap[14],0);\" rel=\"noopener nofollow\" target=\"_blank\" title=\"Data Scientist\">\n",
      "<b>Data</b> <b>Scientist</b></a>\n",
      "</h2>]\n"
     ]
    }
   ],
   "source": [
    "titles = soup.find_all(\"h2\", class_ = \"title\")\n",
    "print(titles)\n",
    "#title[1].get_text()"
   ]
  },
  {
   "cell_type": "code",
   "execution_count": 7,
   "metadata": {
    "scrolled": true
   },
   "outputs": [
    {
     "name": "stdout",
     "output_type": "stream",
     "text": [
      "\n",
      "\n",
      "Educational Data Scientist\n",
      "\n",
      "\n",
      "\n",
      "Data Scientist\n",
      "new\n",
      "\n",
      "\n",
      "Senior Data Scientist\n",
      "new\n",
      "\n",
      "\n",
      "Staff Data Scientist - Analytics\n",
      "new\n",
      "\n",
      "\n",
      "Staff Data Scientist\n",
      "new\n",
      "\n",
      "\n",
      "Senior Health Data Analyst (Remote / Tableau experience requ...\n",
      "new\n",
      "\n",
      "\n",
      "Data Scientist\n",
      "new\n",
      "\n",
      "\n",
      "Data Scientist\n",
      "\n",
      "\n",
      "\n",
      "Data Scientist\n",
      "\n",
      "\n",
      "\n",
      "Data Scientist\n",
      "\n",
      "\n",
      "\n",
      "Data Scientist\n",
      "new\n",
      "\n",
      "\n",
      "Data Scientist\n",
      "\n",
      "\n",
      "\n",
      "Data Scientist\n",
      "\n",
      "\n",
      "\n",
      "Sr. Data Scientist\n",
      "\n",
      "\n",
      "\n",
      "Data Scientist\n",
      "\n"
     ]
    }
   ],
   "source": [
    "for title in titles:\n",
    "    job_title = title.get_text()\n",
    "    print(job_title)\n",
    "    "
   ]
  },
  {
   "cell_type": "code",
   "execution_count": 8,
   "metadata": {},
   "outputs": [
    {
     "name": "stdout",
     "output_type": "stream",
     "text": [
      "not found\n"
     ]
    }
   ],
   "source": [
    "try:\n",
    "    dismiss = browser.find_by_xpath('/html/body/div[2]/div/section/div/div[2]')\n",
    "    more_jobs = browser.find_by_xpath('/html/body/table[2]/tbody/tr/td/table/tbody/tr/td[1]/nav/div/ul/li[6]/a/span')\n",
    "    no_thanks = browser.find_by_xpath('/html/body/div[3]/div[2]/div[4]/div[3]/div[2]/a')\n",
    "    dismiss.first.click()\n",
    "    more_jobs.first.click()\n",
    "    no_thanks.first.click()\n",
    "except:\n",
    "    print(\"not found\")"
   ]
  },
  {
   "cell_type": "code",
   "execution_count": null,
   "metadata": {},
   "outputs": [],
   "source": []
  },
  {
   "cell_type": "code",
   "execution_count": 9,
   "metadata": {},
   "outputs": [
    {
     "name": "stdout",
     "output_type": "stream",
     "text": [
      "page: 1 -------------\n",
      "\n",
      "\n",
      "Educational Data Scientist\n",
      "\n",
      "page: 1 -------------\n",
      "\n",
      "\n",
      "Data Scientist\n",
      "new\n",
      "page: 1 -------------\n",
      "\n",
      "\n",
      "Senior Data Scientist\n",
      "new\n",
      "page: 1 -------------\n",
      "\n",
      "\n",
      "Staff Data Scientist - Analytics\n",
      "new\n",
      "page: 1 -------------\n",
      "\n",
      "\n",
      "Staff Data Scientist\n",
      "new\n",
      "page: 1 -------------\n",
      "\n",
      "\n",
      "Senior Health Data Analyst (Remote / Tableau experience requ...\n",
      "new\n",
      "page: 1 -------------\n",
      "\n",
      "\n",
      "Data Scientist\n",
      "new\n",
      "page: 1 -------------\n",
      "\n",
      "\n",
      "Data Scientist\n",
      "\n",
      "page: 1 -------------\n",
      "\n",
      "\n",
      "Data Scientist\n",
      "\n",
      "page: 1 -------------\n",
      "\n",
      "\n",
      "Data Scientist\n",
      "\n",
      "page: 1 -------------\n",
      "\n",
      "\n",
      "Data Scientist\n",
      "new\n",
      "page: 1 -------------\n",
      "\n",
      "\n",
      "Data Scientist\n",
      "\n",
      "page: 1 -------------\n",
      "\n",
      "\n",
      "Data Scientist\n",
      "\n",
      "page: 1 -------------\n",
      "\n",
      "\n",
      "Sr. Data Scientist\n",
      "\n",
      "page: 1 -------------\n",
      "\n",
      "\n",
      "Data Scientist\n",
      "\n"
     ]
    }
   ],
   "source": [
    "# more_titles = []\n",
    "# while (True):  \n",
    "#     try:\n",
    "#         titles = soup.find_all(\"h2\", class_ = \"title\")\n",
    "#         more_titles.append(titles)\n",
    "#         print(titles)\n",
    "#         print(len(titles))\n",
    "#         if len(more_titles) >=100:\n",
    "#             break\n",
    "#         more_jobs = browser.find_by_xpath('/html/body/table[2]/tbody/tr/td/table/tbody/tr/td[1]/nav/div/ul/li[6]/a/span')\n",
    "#         more_jobs.first.click()\n",
    "#     except:\n",
    "#         pass\n",
    "# print(\"found \" + str(len(titles)))\n",
    "# for title in titles:\n",
    "#     job_title = title.get_text()\n",
    "#     print(job_title)\n",
    "\n",
    "job_titles = [0]\n",
    " \n",
    "for x in range(1, 2):\n",
    "    titles = soup.find_all(\"h2\", class_ = \"title\")\n",
    "    for title in titles:\n",
    "        job_titles.append(title.text)\n",
    "        print('page:', x, '-------------')\n",
    "        print(title.text)\n",
    "        browser.find_by_xpath('/html/body/table[2]/tbody/tr/td/table/tbody/tr/td[1]/nav/div/ul/li[6]/a/span/span')\n",
    "\n"
   ]
  },
  {
   "cell_type": "code",
   "execution_count": 10,
   "metadata": {},
   "outputs": [],
   "source": [
    "#clean_job_titles = job_titles.strip\n",
    "clean_job_titles = []\n",
    "\n",
    "for job in job_titles[1:]:\n",
    "    clean_job_title = job.replace('\\n', '')\n",
    "    clean_job_titles.append(clean_job_title)"
   ]
  },
  {
   "cell_type": "code",
   "execution_count": 11,
   "metadata": {},
   "outputs": [
    {
     "name": "stdout",
     "output_type": "stream",
     "text": [
      "['Educational Data Scientist', 'Data Scientistnew', 'Senior Data Scientistnew', 'Staff Data Scientist - Analyticsnew', 'Staff Data Scientistnew', 'Senior Health Data Analyst (Remote / Tableau experience requ...new', 'Data Scientistnew', 'Data Scientist', 'Data Scientist', 'Data Scientist', 'Data Scientistnew', 'Data Scientist', 'Data Scientist', 'Sr. Data Scientist', 'Data Scientist']\n"
     ]
    }
   ],
   "source": [
    "print(clean_job_titles)"
   ]
  },
  {
   "cell_type": "code",
   "execution_count": 13,
   "metadata": {},
   "outputs": [
    {
     "data": {
      "text/plain": [
       "[<span class=\"location accessible-contrast-color-location\">Irvine, CA</span>,\n",
       " <span class=\"location accessible-contrast-color-location\">Irvine, CA 92618 <span style=\"font-size: smaller\">(East Industrial Complex area)</span></span>,\n",
       " <span class=\"location accessible-contrast-color-location\">Los Angeles, CA</span>,\n",
       " <span class=\"location accessible-contrast-color-location\">Irvine, CA</span>,\n",
       " <span class=\"location accessible-contrast-color-location\">Pasadena, CA 91101 <span style=\"font-size: smaller\">(South area)</span></span>,\n",
       " <span class=\"location accessible-contrast-color-location\">Irvine, CA 92617 <span style=\"font-size: smaller\">(Research Park area)</span></span>,\n",
       " <span class=\"location accessible-contrast-color-location\">Irvine, CA 92617 <span style=\"font-size: smaller\">(Research Park area)</span></span>,\n",
       " <span class=\"location accessible-contrast-color-location\">Irvine, CA 92618 <span style=\"font-size: smaller\">(Irvine Health and Science Complex area)</span></span>,\n",
       " <span class=\"location accessible-contrast-color-location\">San Diego, CA 92127</span>]"
      ]
     },
     "execution_count": 13,
     "metadata": {},
     "output_type": "execute_result"
    }
   ],
   "source": [
    "locations = soup.find_all(\"span\", class_ = \"location accessible-contrast-color-location\")\n",
    "locations"
   ]
  },
  {
   "cell_type": "code",
   "execution_count": 14,
   "metadata": {},
   "outputs": [
    {
     "name": "stdout",
     "output_type": "stream",
     "text": [
      "page: 1 -------------\n",
      "Irvine, CA\n",
      "page: 1 -------------\n",
      "Irvine, CA 92618 (East Industrial Complex area)\n",
      "page: 1 -------------\n",
      "Los Angeles, CA\n",
      "page: 1 -------------\n",
      "Irvine, CA\n",
      "page: 1 -------------\n",
      "Pasadena, CA 91101 (South area)\n",
      "page: 1 -------------\n",
      "Irvine, CA 92617 (Research Park area)\n",
      "page: 1 -------------\n",
      "Irvine, CA 92617 (Research Park area)\n",
      "page: 1 -------------\n",
      "Irvine, CA 92618 (Irvine Health and Science Complex area)\n",
      "page: 1 -------------\n",
      "San Diego, CA 92127\n"
     ]
    }
   ],
   "source": [
    "job_locations = []\n",
    "\n",
    "for x in range(1, 2):\n",
    "    locations = soup.find_all(\"span\", class_ = \"location accessible-contrast-color-location\")\n",
    "    for location in locations:\n",
    "        job_locations.append(location.text)\n",
    "        print('page:', x, '-------------')\n",
    "        print(location.text)\n",
    "        browser.find_by_xpath('/html/body/table[2]/tbody/tr/td/table/tbody/tr/td[1]/div[7]/div[1]/span[1]')\n",
    "        "
   ]
  },
  {
   "cell_type": "code",
   "execution_count": 15,
   "metadata": {},
   "outputs": [
    {
     "name": "stdout",
     "output_type": "stream",
     "text": [
      "['Irvine, CA', 'Irvine, CA 92618 (East Industrial Complex area)', 'Los Angeles, CA', 'Irvine, CA', 'Pasadena, CA 91101 (South area)', 'Irvine, CA 92617 (Research Park area)', 'Irvine, CA 92617 (Research Park area)', 'Irvine, CA 92618 (Irvine Health and Science Complex area)', 'San Diego, CA 92127']\n"
     ]
    }
   ],
   "source": [
    "print(job_locations)"
   ]
  },
  {
   "cell_type": "code",
   "execution_count": 16,
   "metadata": {},
   "outputs": [],
   "source": [
    "new_list = list(zip(clean_job_titles, job_locations))"
   ]
  },
  {
   "cell_type": "code",
   "execution_count": 17,
   "metadata": {},
   "outputs": [
    {
     "name": "stdout",
     "output_type": "stream",
     "text": [
      "[('Educational Data Scientist', 'Irvine, CA'), ('Data Scientistnew', 'Irvine, CA 92618 (East Industrial Complex area)'), ('Senior Data Scientistnew', 'Los Angeles, CA'), ('Staff Data Scientist - Analyticsnew', 'Irvine, CA'), ('Staff Data Scientistnew', 'Pasadena, CA 91101 (South area)'), ('Senior Health Data Analyst (Remote / Tableau experience requ...new', 'Irvine, CA 92617 (Research Park area)'), ('Data Scientistnew', 'Irvine, CA 92617 (Research Park area)'), ('Data Scientist', 'Irvine, CA 92618 (Irvine Health and Science Complex area)'), ('Data Scientist', 'San Diego, CA 92127')]\n"
     ]
    }
   ],
   "source": [
    "print(new_list)"
   ]
  },
  {
   "cell_type": "code",
   "execution_count": 18,
   "metadata": {},
   "outputs": [
    {
     "data": {
      "text/plain": [
       "{'Educational Data Scientist': 'Irvine, CA',\n",
       " 'Data Scientistnew': 'Irvine, CA 92617 (Research Park area)',\n",
       " 'Senior Data Scientistnew': 'Los Angeles, CA',\n",
       " 'Staff Data Scientist - Analyticsnew': 'Irvine, CA',\n",
       " 'Staff Data Scientistnew': 'Pasadena, CA 91101 (South area)',\n",
       " 'Senior Health Data Analyst (Remote / Tableau experience requ...new': 'Irvine, CA 92617 (Research Park area)',\n",
       " 'Data Scientist': 'San Diego, CA 92127'}"
      ]
     },
     "execution_count": 18,
     "metadata": {},
     "output_type": "execute_result"
    }
   ],
   "source": [
    "updated_list = dict(new_list)\n",
    "updated_list"
   ]
  },
  {
   "cell_type": "code",
   "execution_count": 19,
   "metadata": {},
   "outputs": [],
   "source": [
    "#transfer to MongoDB\n",
    "\n",
    "#CONNECT MONGO DB\n",
    "\n",
    "conn = 'mongodb://localhost:27017'\n",
    "client = pymongo.MongoClient(conn)"
   ]
  },
  {
   "cell_type": "code",
   "execution_count": 20,
   "metadata": {},
   "outputs": [
    {
     "ename": "AttributeError",
     "evalue": "'list' object has no attribute 'to_dict'",
     "output_type": "error",
     "traceback": [
      "\u001b[1;31m---------------------------------------------------------------------------\u001b[0m",
      "\u001b[1;31mAttributeError\u001b[0m                            Traceback (most recent call last)",
      "\u001b[1;32m<ipython-input-20-5760bd1cab91>\u001b[0m in \u001b[0;36m<module>\u001b[1;34m\u001b[0m\n\u001b[1;32m----> 1\u001b[1;33m \u001b[0mclient\u001b[0m\u001b[1;33m.\u001b[0m\u001b[0mjobs_db\u001b[0m\u001b[1;33m.\u001b[0m\u001b[0mnew_list\u001b[0m\u001b[1;33m.\u001b[0m\u001b[0minsert_many\u001b[0m\u001b[1;33m(\u001b[0m\u001b[0mnew_list\u001b[0m\u001b[1;33m.\u001b[0m\u001b[0mto_dict\u001b[0m\u001b[1;33m(\u001b[0m\u001b[1;34m'records'\u001b[0m\u001b[1;33m)\u001b[0m\u001b[1;33m)\u001b[0m\u001b[1;33m\u001b[0m\u001b[1;33m\u001b[0m\u001b[0m\n\u001b[0m",
      "\u001b[1;31mAttributeError\u001b[0m: 'list' object has no attribute 'to_dict'"
     ]
    }
   ],
   "source": [
    "client.jobs_db.new_list.insert_many(new_list.to_dict('records'))"
   ]
  },
  {
   "cell_type": "code",
   "execution_count": null,
   "metadata": {},
   "outputs": [],
   "source": []
  }
 ],
 "metadata": {
  "kernelspec": {
   "display_name": "Python 3",
   "language": "python",
   "name": "python3"
  },
  "language_info": {
   "codemirror_mode": {
    "name": "ipython",
    "version": 3
   },
   "file_extension": ".py",
   "mimetype": "text/x-python",
   "name": "python",
   "nbconvert_exporter": "python",
   "pygments_lexer": "ipython3",
   "version": "3.7.4"
  }
 },
 "nbformat": 4,
 "nbformat_minor": 2
}
