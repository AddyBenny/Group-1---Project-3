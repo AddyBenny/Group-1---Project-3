{
 "cells": [
  {
   "cell_type": "code",
   "execution_count": 98,
   "metadata": {},
   "outputs": [],
   "source": [
    "from splinter import Browser\n",
    "from bs4 import BeautifulSoup\n",
    "import pandas as pd\n",
    "import pymongo "
   ]
  },
  {
   "cell_type": "code",
   "execution_count": null,
   "metadata": {},
   "outputs": [],
   "source": [
    "executable_path = {'executable_path': 'chromedriver.exe'}\n",
    "browser = Browser('chrome', **executable_path, headless=False)"
   ]
  },
  {
   "cell_type": "code",
   "execution_count": null,
   "metadata": {},
   "outputs": [],
   "source": [
    "url = 'https://www.indeed.com/jobs?q=Data+Scientist&l=Irvine%2C+CA&radius=100'\n",
    "browser.visit(url)"
   ]
  },
  {
   "cell_type": "code",
   "execution_count": null,
   "metadata": {},
   "outputs": [],
   "source": [
    "html = browser.html"
   ]
  },
  {
   "cell_type": "code",
   "execution_count": null,
   "metadata": {},
   "outputs": [],
   "source": [
    "soup = BeautifulSoup(html, 'html.parser')"
   ]
  },
  {
   "cell_type": "code",
   "execution_count": null,
   "metadata": {},
   "outputs": [],
   "source": [
    "titles = soup.find_all(\"h2\", class_ = \"title\")\n",
    "print(titles)\n",
    "#title[1].get_text()"
   ]
  },
  {
   "cell_type": "code",
   "execution_count": null,
   "metadata": {
    "scrolled": true
   },
   "outputs": [],
   "source": [
    "for title in titles:\n",
    "    job_title = title.get_text()\n",
    "    print(job_title)\n",
    "    "
   ]
  },
  {
   "cell_type": "code",
   "execution_count": null,
   "metadata": {},
   "outputs": [],
   "source": [
    "dismiss = browser.find_by_xpath('/html/body/div[2]/div/section/div/div[2]')\n",
    "dismiss.first.click()\n",
    "\n",
    "more_jobs = browser.find_by_xpath('/html/body/table[2]/tbody/tr/td/table/tbody/tr/td[1]/nav/div/ul/li[6]/a/span')\n",
    "more_jobs.first.click()\n",
    "\n",
    "no_thanks = browser.find_by_xpath('/html/body/div[3]/div[2]/div[4]/div[3]/div[2]/a')\n",
    "no_thanks.first.click()"
   ]
  },
  {
   "cell_type": "code",
   "execution_count": null,
   "metadata": {},
   "outputs": [],
   "source": []
  },
  {
   "cell_type": "code",
   "execution_count": null,
   "metadata": {},
   "outputs": [],
   "source": [
    "# more_titles = []\n",
    "# while (True):  \n",
    "#     try:\n",
    "#         titles = soup.find_all(\"h2\", class_ = \"title\")\n",
    "#         more_titles.append(titles)\n",
    "#         print(titles)\n",
    "#         print(len(titles))\n",
    "#         if len(more_titles) >=100:\n",
    "#             break\n",
    "#         more_jobs = browser.find_by_xpath('/html/body/table[2]/tbody/tr/td/table/tbody/tr/td[1]/nav/div/ul/li[6]/a/span')\n",
    "#         more_jobs.first.click()\n",
    "#     except:\n",
    "#         pass\n",
    "# print(\"found \" + str(len(titles)))\n",
    "# for title in titles:\n",
    "#     job_title = title.get_text()\n",
    "#     print(job_title)\n",
    "\n",
    "job_titles = [0]\n",
    " \n",
    "for x in range(1, 2):\n",
    "    titles = soup.find_all(\"h2\", class_ = \"title\")\n",
    "    for title in titles:\n",
    "        job_titles.append(title.text)\n",
    "        print('page:', x, '-------------')\n",
    "        print(title.text)\n",
    "        browser.find_by_xpath('/html/body/table[2]/tbody/tr/td/table/tbody/tr/td[1]/nav/div/ul/li[6]/a/span/span')\n",
    "\n"
   ]
  },
  {
   "cell_type": "code",
   "execution_count": 83,
   "metadata": {},
   "outputs": [],
   "source": [
    "#clean_job_titles = job_titles.strip\n",
    "clean_job_titles = []\n",
    "\n",
    "for job in job_titles[1:]:\n",
    "    clean_job_title = job.replace('\\n', '')\n",
    "    clean_job_titles.append(clean_job_title)"
   ]
  },
  {
   "cell_type": "code",
   "execution_count": 84,
   "metadata": {},
   "outputs": [
    {
     "name": "stdout",
     "output_type": "stream",
     "text": [
      "['Data Scientistnew', 'Senior Data Scientistnew', 'Staff Data Scientist - Analyticsnew', 'Staff Data Scientistnew', 'Data Scientistnew', 'Data Scientist', 'Data Scientistnew', 'Data Scientist', 'Data Scientist', 'Educational Data Scientist', 'Accounting Finance Data Scientistnew', 'Data Scientist', 'Data Scientist', 'Data Scientist', 'Data Scientist']\n"
     ]
    }
   ],
   "source": [
    "print(clean_job_titles)"
   ]
  },
  {
   "cell_type": "code",
   "execution_count": 85,
   "metadata": {},
   "outputs": [
    {
     "data": {
      "text/plain": [
       "<span class=\"location accessible-contrast-color-location\">Sherman Oaks, CA 91411</span>"
      ]
     },
     "execution_count": 85,
     "metadata": {},
     "output_type": "execute_result"
    }
   ],
   "source": [
    "locations = soup.find_all(\"span\", class_ = \"location accessible-contrast-color-location\")\n",
    "location"
   ]
  },
  {
   "cell_type": "code",
   "execution_count": 86,
   "metadata": {},
   "outputs": [
    {
     "name": "stdout",
     "output_type": "stream",
     "text": [
      "page: 1 -------------\n",
      "Irvine, CA\n",
      "page: 1 -------------\n",
      "Irvine, CA 92618 (East Industrial Complex area)\n",
      "page: 1 -------------\n",
      "Los Angeles, CA\n",
      "page: 1 -------------\n",
      "Irvine, CA\n",
      "page: 1 -------------\n",
      "Irvine, CA 92617 (Research Park area)\n",
      "page: 1 -------------\n",
      "Irvine, CA 92617 (Research Park area)\n",
      "page: 1 -------------\n",
      "Pasadena, CA 91101 (West Central area)\n",
      "page: 1 -------------\n",
      "Newport Beach, CA 92660\n",
      "page: 1 -------------\n",
      "San Diego, CA 92127\n",
      "page: 1 -------------\n",
      "Burbank, CA\n",
      "page: 1 -------------\n",
      "Santa Monica, CA 90404 (Mid-City area)\n",
      "page: 1 -------------\n",
      "Aliso Viejo, CA\n"
     ]
    }
   ],
   "source": [
    "job_locations = []\n",
    "\n",
    "for x in range(1, 2):\n",
    "    locations = soup.find_all(\"span\", class_ = \"location accessible-contrast-color-location\")\n",
    "    for location in locations:\n",
    "        job_locations.append(location.text)\n",
    "        print('page:', x, '-------------')\n",
    "        print(location.text)\n",
    "        browser.find_by_xpath('/html/body/table[2]/tbody/tr/td/table/tbody/tr/td[1]/div[7]/div[1]/span[1]')\n",
    "        "
   ]
  },
  {
   "cell_type": "code",
   "execution_count": 87,
   "metadata": {},
   "outputs": [
    {
     "name": "stdout",
     "output_type": "stream",
     "text": [
      "['Irvine, CA', 'Irvine, CA 92618 (East Industrial Complex area)', 'Los Angeles, CA', 'Irvine, CA', 'Irvine, CA 92617 (Research Park area)', 'Irvine, CA 92617 (Research Park area)', 'Pasadena, CA 91101 (West Central area)', 'Newport Beach, CA 92660', 'San Diego, CA 92127', 'Burbank, CA', 'Santa Monica, CA 90404 (Mid-City area)', 'Aliso Viejo, CA']\n"
     ]
    }
   ],
   "source": [
    "print(job_locations)"
   ]
  },
  {
   "cell_type": "code",
   "execution_count": 88,
   "metadata": {},
   "outputs": [],
   "source": [
    "new_list = list(zip(clean_job_titles, job_locations))"
   ]
  },
  {
   "cell_type": "code",
   "execution_count": 89,
   "metadata": {},
   "outputs": [
    {
     "name": "stdout",
     "output_type": "stream",
     "text": [
      "[('Data Scientistnew', 'Irvine, CA'), ('Senior Data Scientistnew', 'Irvine, CA 92618 (East Industrial Complex area)'), ('Staff Data Scientist - Analyticsnew', 'Los Angeles, CA'), ('Staff Data Scientistnew', 'Irvine, CA'), ('Data Scientistnew', 'Irvine, CA 92617 (Research Park area)'), ('Data Scientist', 'Irvine, CA 92617 (Research Park area)'), ('Data Scientistnew', 'Pasadena, CA 91101 (West Central area)'), ('Data Scientist', 'Newport Beach, CA 92660'), ('Data Scientist', 'San Diego, CA 92127'), ('Educational Data Scientist', 'Burbank, CA'), ('Accounting Finance Data Scientistnew', 'Santa Monica, CA 90404 (Mid-City area)'), ('Data Scientist', 'Aliso Viejo, CA')]\n"
     ]
    }
   ],
   "source": [
    "print(new_list)"
   ]
  },
  {
   "cell_type": "code",
   "execution_count": 90,
   "metadata": {},
   "outputs": [
    {
     "data": {
      "text/plain": [
       "{'Data Scientistnew': 'Pasadena, CA 91101 (West Central area)',\n",
       " 'Senior Data Scientistnew': 'Irvine, CA 92618 (East Industrial Complex area)',\n",
       " 'Staff Data Scientist - Analyticsnew': 'Los Angeles, CA',\n",
       " 'Staff Data Scientistnew': 'Irvine, CA',\n",
       " 'Data Scientist': 'Aliso Viejo, CA',\n",
       " 'Educational Data Scientist': 'Burbank, CA',\n",
       " 'Accounting Finance Data Scientistnew': 'Santa Monica, CA 90404 (Mid-City area)'}"
      ]
     },
     "execution_count": 90,
     "metadata": {},
     "output_type": "execute_result"
    }
   ],
   "source": [
    "updated_list = dict(new_list)\n",
    "updated_list"
   ]
  },
  {
   "cell_type": "code",
   "execution_count": 91,
   "metadata": {},
   "outputs": [],
   "source": [
    "#transfer to MongoDB\n",
    "\n",
    "#CONNECT MONGO DB\n",
    "\n",
    "conn = 'mongodb://localhost:27017'\n",
    "client = pymongo.MongoClient(conn)"
   ]
  },
  {
   "cell_type": "code",
   "execution_count": 97,
   "metadata": {},
   "outputs": [
    {
     "ename": "AttributeError",
     "evalue": "'list' object has no attribute 'to_dict'",
     "output_type": "error",
     "traceback": [
      "\u001b[1;31m---------------------------------------------------------------------------\u001b[0m",
      "\u001b[1;31mAttributeError\u001b[0m                            Traceback (most recent call last)",
      "\u001b[1;32m<ipython-input-97-5760bd1cab91>\u001b[0m in \u001b[0;36m<module>\u001b[1;34m\u001b[0m\n\u001b[1;32m----> 1\u001b[1;33m \u001b[0mclient\u001b[0m\u001b[1;33m.\u001b[0m\u001b[0mjobs_db\u001b[0m\u001b[1;33m.\u001b[0m\u001b[0mnew_list\u001b[0m\u001b[1;33m.\u001b[0m\u001b[0minsert_many\u001b[0m\u001b[1;33m(\u001b[0m\u001b[0mnew_list\u001b[0m\u001b[1;33m.\u001b[0m\u001b[0mto_dict\u001b[0m\u001b[1;33m(\u001b[0m\u001b[1;34m'records'\u001b[0m\u001b[1;33m)\u001b[0m\u001b[1;33m)\u001b[0m\u001b[1;33m\u001b[0m\u001b[1;33m\u001b[0m\u001b[0m\n\u001b[0m",
      "\u001b[1;31mAttributeError\u001b[0m: 'list' object has no attribute 'to_dict'"
     ]
    }
   ],
   "source": [
    "client.jobs_db.new_list.insert_many(new_list.to_dict('records'))"
   ]
  },
  {
   "cell_type": "code",
   "execution_count": null,
   "metadata": {},
   "outputs": [],
   "source": []
  }
 ],
 "metadata": {
  "kernelspec": {
   "display_name": "Python 3",
   "language": "python",
   "name": "python3"
  },
  "language_info": {
   "codemirror_mode": {
    "name": "ipython",
    "version": 3
   },
   "file_extension": ".py",
   "mimetype": "text/x-python",
   "name": "python",
   "nbconvert_exporter": "python",
   "pygments_lexer": "ipython3",
   "version": "3.7.4"
  }
 },
 "nbformat": 4,
 "nbformat_minor": 2
}
