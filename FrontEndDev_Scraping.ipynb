{
 "cells": [
  {
   "cell_type": "code",
   "execution_count": null,
   "metadata": {},
   "outputs": [],
   "source": [
    "#import Dependencies\n",
    "from splinter import Browser\n",
    "from bs4 import BeautifulSoup\n",
    "import pandas as pd\n",
    "import pymongo "
   ]
  },
  {
   "cell_type": "code",
   "execution_count": null,
   "metadata": {},
   "outputs": [],
   "source": [
    "#executable path for window users\n",
    "# executable_path = {'executable_path': 'chromedriver.exe'}\n",
    "# browser = Browser('chrome', **executable_path, headless=False)"
   ]
  },
  {
   "cell_type": "code",
   "execution_count": null,
   "metadata": {},
   "outputs": [],
   "source": [
    "#Executable path for Mac Users\n",
    "executable_path = {'executable_path': '/usr/local/bin/chromedriver'}\n",
    "browser = Browser('chrome', **executable_path, headless=False)"
   ]
  },
  {
   "cell_type": "code",
   "execution_count": null,
   "metadata": {},
   "outputs": [],
   "source": [
    "#url of page to be scrapped from indeed \n",
    "url = 'https://www.indeed.com/jobs?q=Front+End+Developer&l=Irvine%2C+CA&radius=100'\n",
    "browser.visit(url)"
   ]
  },
  {
   "cell_type": "code",
   "execution_count": null,
   "metadata": {},
   "outputs": [],
   "source": [
    "#BeautifulSoup Parser\n",
    "html = browser.html\n",
    "soup = BeautifulSoup(html, 'html.parser')"
   ]
  },
  {
   "cell_type": "code",
   "execution_count": null,
   "metadata": {},
   "outputs": [],
   "source": [
    "#result to return the job title\n",
    "titles = soup.find_all(\"h2\", class_ = \"title\")\n",
    "print(titles)\n",
    "#title[1].get_text()"
   ]
  },
  {
   "cell_type": "code",
   "execution_count": null,
   "metadata": {},
   "outputs": [],
   "source": [
    "#result to be Returned as an iterable list\n",
    "for title in titles:\n",
    "    job_title = title.get_text()\n",
    "    print(job_title)\n",
    "    "
   ]
  },
  {
   "cell_type": "code",
   "execution_count": null,
   "metadata": {},
   "outputs": [],
   "source": [
    "\n",
    "try:\n",
    "    dismiss = browser.find_by_xpath('/html/body/div[2]/div/section/div/div[2]')\n",
    "    more_jobs = browser.find_by_xpath('/html/body/table[2]/tbody/tr/td/table/tbody/tr/td[1]/nav/div/ul/li[6]/a/span')\n",
    "    no_thanks = browser.find_by_xpath('/html/body/div[3]/div[2]/div[4]/div[3]/div[2]/a')\n",
    "    dismiss.first.click()\n",
    "    more_jobs.first.click()\n",
    "    no_thanks.first.click()\n",
    "except:\n",
    "    print(\"not found\")\n"
   ]
  },
  {
   "cell_type": "code",
   "execution_count": null,
   "metadata": {},
   "outputs": [],
   "source": [
    "#Empty list to append the the result and index 0 is an int \n",
    "job_titles = [0]\n",
    "\n",
    " #loop through the result\n",
    "for x in range(1, 2):\n",
    "    titles = soup.find_all(\"h2\", class_ = \"title\")\n",
    "    for title in titles:\n",
    "        job_titles.append(title.text)\n",
    "        print('page:', x, '-------------')\n",
    "        print(title.text)\n",
    "        browser.find_by_xpath('/html/body/table[2]/tbody/tr/td/table/tbody/tr/td[1]/nav/div/ul/li[6]/a/span/span')\n",
    "\n"
   ]
  },
  {
   "cell_type": "code",
   "execution_count": null,
   "metadata": {},
   "outputs": [],
   "source": [
    "#Use replace to print out a clean job title\n",
    "clean_job_titles = []\n",
    "\n",
    "#loop through result\n",
    "for job in job_titles[1:]:\n",
    "    clean_job_title = job.replace('\\n', '')\n",
    "    clean_job_titles.append(clean_job_title)"
   ]
  },
  {
   "cell_type": "code",
   "execution_count": null,
   "metadata": {},
   "outputs": [],
   "source": [
    "#print clean job titles to check\n",
    "print(clean_job_titles)"
   ]
  },
  {
   "cell_type": "code",
   "execution_count": null,
   "metadata": {},
   "outputs": [],
   "source": [
    "#result to return the job locations\n",
    "locations = soup.find_all(\"span\", class_ = \"location accessible-contrast-color-location\")\n",
    "locations"
   ]
  },
  {
   "cell_type": "code",
   "execution_count": null,
   "metadata": {},
   "outputs": [],
   "source": [
    "#Empty list to append the result\n",
    "job_locations = []\n",
    "\n",
    "#loop through the returned result\n",
    "for x in range(1, 2):\n",
    "    locations = soup.find_all(\"span\", class_ = \"location accessible-contrast-color-location\")\n",
    "    for location in locations:\n",
    "        job_locations.append(location.text)\n",
    "        print('page:', x, '-------------')\n",
    "        print(location.text)\n",
    "        browser.find_by_xpath('/html/body/table[2]/tbody/tr/td/table/tbody/tr/td[1]/div[7]/div[1]/span[1]')\n",
    "        "
   ]
  },
  {
   "cell_type": "code",
   "execution_count": null,
   "metadata": {},
   "outputs": [],
   "source": [
    "#print job locations\n",
    "print(job_locations)"
   ]
  },
  {
   "cell_type": "code",
   "execution_count": null,
   "metadata": {},
   "outputs": [],
   "source": [
    "#zip both result into a list\n",
    "new_list = list(zip(clean_job_titles, job_locations))"
   ]
  },
  {
   "cell_type": "code",
   "execution_count": null,
   "metadata": {},
   "outputs": [],
   "source": [
    "#print new_list that has both the job_titiles and locations\n",
    "print(new_list)"
   ]
  },
  {
   "cell_type": "code",
   "execution_count": null,
   "metadata": {},
   "outputs": [],
   "source": [
    "#append list into a python dictionary\n",
    "updated_list = dict(new_list)\n",
    "updated_list"
   ]
  },
  {
   "cell_type": "code",
   "execution_count": null,
   "metadata": {},
   "outputs": [],
   "source": [
    "#Initialize pymongo to work with MongoDBs\n",
    "#CONNECT MONGO DB\n",
    "conn = 'mongodb://localhost:27017'\n",
    "client = pymongo.MongoClient(conn)"
   ]
  },
  {
   "cell_type": "code",
   "execution_count": null,
   "metadata": {},
   "outputs": [],
   "source": [
    "#convert newlist to pandas dataframe\n",
    "updated_list_df = pd.DataFrame(new_list)\n",
    "updated_list_df"
   ]
  },
  {
   "cell_type": "code",
   "execution_count": null,
   "metadata": {},
   "outputs": [],
   "source": [
    "#append colums keys\n",
    "New_job_location_df = pd.DataFrame(new_list, columns=['Job_Title', 'Location'])\n",
    "New_job_location_df"
   ]
  },
  {
   "cell_type": "code",
   "execution_count": null,
   "metadata": {},
   "outputs": [],
   "source": [
    "#Define database and collection\n",
    "#Database = Indeed_db\n",
    "#Collections = FrontEnd_jobs\n",
    "client.Indeed_db.FrontEnd_jobs.insert_many(New_job_location_df.to_dict('records'))"
   ]
  },
  {
   "cell_type": "code",
   "execution_count": null,
   "metadata": {},
   "outputs": [],
   "source": [
    "#Done"
   ]
  }
 ],
 "metadata": {
  "kernelspec": {
   "display_name": "Python 3",
   "language": "python",
   "name": "python3"
  },
  "language_info": {
   "codemirror_mode": {
    "name": "ipython",
    "version": 3
   },
   "file_extension": ".py",
   "mimetype": "text/x-python",
   "name": "python",
   "nbconvert_exporter": "python",
   "pygments_lexer": "ipython3",
   "version": "3.7.4"
  }
 },
 "nbformat": 4,
 "nbformat_minor": 2
}
