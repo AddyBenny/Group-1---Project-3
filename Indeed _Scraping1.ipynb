{
 "cells": [
  {
   "cell_type": "code",
   "execution_count": 11,
   "metadata": {},
   "outputs": [],
   "source": [
    "from splinter import Browser\n",
    "from bs4 import BeautifulSoup\n",
    "import pandas as pd\n",
    "import pymongo "
   ]
  },
  {
   "cell_type": "code",
   "execution_count": 12,
   "metadata": {},
   "outputs": [],
   "source": [
    "#executable path for window users\n",
    "# executable_path = {'executable_path': 'chromedriver.exe'}\n",
    "# browser = Browser('chrome', **executable_path, headless=False)"
   ]
  },
  {
   "cell_type": "code",
   "execution_count": 13,
   "metadata": {},
   "outputs": [],
   "source": [
    "#Executable path for Mac Users\n",
    "executable_path = {'executable_path': '/usr/local/bin/chromedriver'}\n",
    "browser = Browser('chrome', **executable_path, headless=False)"
   ]
  },
  {
   "cell_type": "code",
   "execution_count": 14,
   "metadata": {},
   "outputs": [],
   "source": [
    "#url of page to be scrapped from indeed \n",
    "url = 'https://www.indeed.com/jobs?q=Data+Scientist&l=Irvine%2C+CA&radius=100'\n",
    "browser.visit(url)"
   ]
  },
  {
   "cell_type": "code",
   "execution_count": 15,
   "metadata": {},
   "outputs": [],
   "source": [
    "#BeautifulSoup Parser\n",
    "html = browser.html\n",
    "soup = BeautifulSoup(html, 'html.parser')"
   ]
  },
  {
   "cell_type": "code",
   "execution_count": 16,
   "metadata": {},
   "outputs": [
    {
     "name": "stdout",
     "output_type": "stream",
     "text": [
      "[<h2 class=\"title\">\n",
      "<a class=\"jobtitle turnstileLink\" data-tn-element=\"jobTitle\" href=\"/pagead/clk?mo=r&amp;ad=-6NYlbfkN0BXAOYzx_YkAlFqp5NttNUQWFWrhtqIcwA7ob6IMhCMIpzimKaIyxmOJI5u3gTB4XTZFwEvmax7B5azATMUaorzHlDPqwbgQrnw6AUz5he1z9zbysUUOtdn0dgxFwUm0tiwX--GI2vgdu5oG59qgmukjcFntjvnesHbXreC5FbT4pHPtqUx5-qzHwXTphvt9-73nb9Bn65T2FVNWqZ0wLFhykhU3_7MeSlfQlLiSvrJRfExPDAr5EOEoJvCDzBjASIJ41BmTRlxIPIlahm1tRjIoi0tCjN7OVmcGFVofJEvpMV3RodV5J5VStwzRrIUAOFayEDBCHWnnbLZFXaJOF39H_tRpgdVRDPUcFZXU6uCSLu_ZirQMWll7dH33QiE8WPqG4Cv5l0jcFEKZbCvvPo7zJOvthSpQ84Exm1CI79ZGor3LBKvh9C2M1LNGLhMACX2MchkpXZRSckbwqoYOVDK&amp;p=0&amp;fvj=1&amp;vjs=3\" id=\"sja0\" onclick=\"setRefineByCookie(['radius']); sjoc('sja0', 1); convCtr('SJ'); rclk(this,jobmap[0],true,1);\" onmousedown=\"sjomd('sja0'); clk('sja0'); rclk(this,jobmap[0],1);\" rel=\"noopener nofollow\" target=\"_blank\" title=\"Medical Data Analyst\">\n",
      "Medical <b>Data</b> Analyst</a>\n",
      "</h2>, <h2 class=\"title\">\n",
      "<a class=\"jobtitle turnstileLink\" data-tn-element=\"jobTitle\" href=\"/pagead/clk?mo=r&amp;ad=-6NYlbfkN0AnQhcI30S35noZYX7fptC9JHDBVuSQzNzWdPUWRF9nG_TgfFeJcuyvoA_Dmg8a2SWU0CWz29S6MT30H2yhzzsBpPN9y0B6egimIjGTLXX1oUyXsUX7-ksrT2fHw1ZxE675VWanqeqU3t9LUAatd_nATymTC1UVJ8jmJ9jwNZRqU9bxTVQbyXtE6MBh3DS386zEws7eOPRq_kdPkzhmtWksU3lc27bJ6DSeyXv5LSCRrE7ACrd3iw3WrFgPKDbEsoC_w_gQLkSOxjo7BiJKJcdkHMOAtljZfq4kQ8KNUE4kNCI9lumNFpw-SaT_rEqqEykdDdq73HFjZRGVaGNVmuj5v8w9bcNLHuoGLHqExlh0Dt9Yy3Gmn47cRLbWICN47tEDGTTNWxZoS7GZTI9xENLZ_nGC2L6373pOZGCx4PdoygARM1pJxO3_RQhfFH9_UcPNOUh45WrDLvNjzlmCcoA6&amp;p=1&amp;fvj=1&amp;vjs=3\" id=\"sja1\" onclick=\"setRefineByCookie(['radius']); sjoc('sja1', 1); convCtr('SJ'); rclk(this,jobmap[1],true,1);\" onmousedown=\"sjomd('sja1'); clk('sja1'); rclk(this,jobmap[1],1);\" rel=\"noopener nofollow\" target=\"_blank\" title=\"Educational Data Scientist\">\n",
      "Educational <b>Data</b> <b>Scientist</b></a>\n",
      "</h2>, <h2 class=\"title\">\n",
      "<a class=\"jobtitle turnstileLink\" data-tn-element=\"jobTitle\" href=\"/pagead/clk?mo=r&amp;ad=-6NYlbfkN0AMr11YIOo206dX9CE572HoIBzjTozchv3QrfVeNVhstmAbPwFeZPDdH5w4MW3uUm59zxvwZmewuUare5btROGxqWx-_fSqJeoXHzgLaa8yIT3c-7Q_Qgpv8mTModHRHthZsuQggKKJ9TnHriBpY7kvmeTBHlvkjXeCuKGqTWnOLk1Ejk3aguHu1b19vDCrqhrXizYrFHTxPh1IK9NTkhNKfo08vZLTAfkBu0NHjfWwi-LO76QgzOzGxWALKjLT9XjfYlqJMeRnFPJltpi-D-geHj81OkIWTrU2zfebY1Yw8TfHHAiXCfvnkLth_fXVfQpP4DjBgKTgJsQc83UGrHa6vpU7rXdVUq8LgMwL7pJOQYejDHT_kHW7IqyNaPAzlDrVBCZOqE6DHUCbJABo99LjKEXr4dC_RKlvU2MOhOGxdVxjvyKMvXihmhR6YxuLchEs6B_BDgPsudshVRzCgV-Y1Ka48K04KaxCxtFZwJLtDD9wOB4sH6UHdwjTYafbMkk=&amp;p=2&amp;fvj=1&amp;vjs=3\" id=\"sja2\" onclick=\"setRefineByCookie(['radius']); sjoc('sja2', 1); convCtr('SJ'); rclk(this,jobmap[2],true,1);\" onmousedown=\"sjomd('sja2'); clk('sja2'); rclk(this,jobmap[2],1);\" rel=\"noopener nofollow\" target=\"_blank\" title=\"Data Scientist\">\n",
      "<b>Data</b> <b>Scientist</b></a>\n",
      "<span class=\"new\">new</span></h2>, <h2 class=\"title\">\n",
      "<a class=\"jobtitle turnstileLink\" data-tn-element=\"jobTitle\" href=\"/company/Mobile-Programming/jobs/Data-Scientist-df4e6af65c173ecb?fccid=d0377b42bd69efd8&amp;vjs=3\" id=\"jl_df4e6af65c173ecb\" onclick=\"setRefineByCookie(['radius']); return rclk(this,jobmap[3],true,0);\" onmousedown=\"return rclk(this,jobmap[3],0);\" rel=\"noopener nofollow\" target=\"_blank\" title=\"Data Scientist\">\n",
      "<b>Data</b> <b>Scientist</b></a>\n",
      "<span class=\"new\">new</span></h2>, <h2 class=\"title\">\n",
      "<a class=\"jobtitle turnstileLink\" data-tn-element=\"jobTitle\" href=\"/pagead/clk?mo=r&amp;ad=-6NYlbfkN0ARICpNo1DhGqfodICOss3ZS6QdhS5AHh5hrs_CHOPYqyMBbpKreu8_0VPK2YpEpLb7SP_jCPf9rMl-tji6wEOqH5doeTUBgegfmXM1QTZGoDB_TpfZwCCOsiYD27LSHIsZeuJoaBzGhS4GXN3jleH1b1A4yI1tlugBLdHrwnRyHhG6tkalKINEwJXmS76CnvYQzHSQ7Un_1pjl3PLhujVVITueTKY6J3JmyuVdnhBVYmGrLdRjoZytBLXXLmptvcfOBDWn2EAMwEfTdMN-4HNpulZEh_iEMSgZqvuy7h43FkGXFujFiawI06ufajtVAyyUNzvP6PFRRrHIQadnbvYMDzZiA1640IliOsiVUkpi1w4h2P9aeHt1agiOS_TBPTlVJIys0lbBLBN-Ub_sbbodkEZ2fdJKmHUT5FJgurPeVgwi7HQymXlyM2ahBZ8knSg60LfHGpoIDuYTwWnIyLWFceFwPlTD4zPbhvl5N6xSTim_HrH58esrWoBfGSckW_FYDzBH0JzQRZSGnMdnp3Dx8qKHoFV-8habnqaWr6taTJqmZtIiFiub1_UqyqTfHJ5Pb25vNadP5piWpxqFC7tr4h1uyvopt_-bdEY_qi36XrEgvTyIzmdnliMZmvTDuudH9YE_TRx5-t9mJo4aF2NDaQffL_zJ-a-bQmH1YBshRL6meFM6-jxZBk9koc_RUSC8SBH2c9M6uw==&amp;p=4&amp;fvj=0&amp;vjs=3\" id=\"sja4\" onclick=\"setRefineByCookie(['radius']); sjoc('sja4', 1); convCtr('SJ'); rclk(this,jobmap[4],true,1);\" onmousedown=\"sjomd('sja4'); clk('sja4'); rclk(this,jobmap[4],1);\" rel=\"noopener nofollow\" target=\"_blank\" title=\"Senior Data Scientist, Marketing\">\n",
      "Senior <b>Data</b> <b>Scientist</b>, Marketing</a>\n",
      "<span class=\"new\">new</span></h2>, <h2 class=\"title\">\n",
      "<a class=\"jobtitle turnstileLink\" data-tn-element=\"jobTitle\" href=\"/company/GradTests/jobs/Data-Scientist-61369985007480f5?fccid=3b57c72e54f9233d&amp;vjs=3\" id=\"jl_61369985007480f5\" onclick=\"setRefineByCookie(['radius']); return rclk(this,jobmap[5],true,1);\" onmousedown=\"return rclk(this,jobmap[5],1);\" rel=\"noopener nofollow\" target=\"_blank\" title=\"Data Scientist\">\n",
      "<b>Data</b> <b>Scientist</b></a>\n",
      "</h2>, <h2 class=\"title\">\n",
      "<a class=\"jobtitle turnstileLink\" data-tn-element=\"jobTitle\" href=\"/company/Competitive-Analytics/jobs/Accounting-Finance-Data-Scientist-170c9b75f9736574?fccid=4162bb76db63f003&amp;vjs=3\" id=\"jl_170c9b75f9736574\" onclick=\"setRefineByCookie(['radius']); return rclk(this,jobmap[6],true,1);\" onmousedown=\"return rclk(this,jobmap[6],1);\" rel=\"noopener nofollow\" target=\"_blank\" title=\"Accounting Finance Data Scientist\">\n",
      "Accounting Finance <b>Data</b> <b>Scientist</b></a>\n",
      "<span class=\"new\">new</span></h2>, <h2 class=\"title\">\n",
      "<a class=\"jobtitle turnstileLink\" data-tn-element=\"jobTitle\" href=\"/rc/clk?jk=8c14ad33311ec5b3&amp;fccid=87d7af0ec9cd5df0&amp;vjs=3\" id=\"jl_8c14ad33311ec5b3\" onclick=\"setRefineByCookie(['radius']); return rclk(this,jobmap[7],true,0);\" onmousedown=\"return rclk(this,jobmap[7],0);\" rel=\"noopener nofollow\" target=\"_blank\" title=\"Data Scientist\">\n",
      "<b>Data</b> <b>Scientist</b></a>\n",
      "<span class=\"new\">new</span></h2>, <h2 class=\"title\">\n",
      "<a class=\"jobtitle turnstileLink\" data-tn-element=\"jobTitle\" href=\"/rc/clk?jk=539843aa92aaf8ce&amp;fccid=a23e5e2f20b1aac4&amp;vjs=3\" id=\"jl_539843aa92aaf8ce\" onclick=\"setRefineByCookie(['radius']); return rclk(this,jobmap[8],true,0);\" onmousedown=\"return rclk(this,jobmap[8],0);\" rel=\"noopener nofollow\" target=\"_blank\" title=\"Data Scientist\">\n",
      "<b>Data</b> <b>Scientist</b></a>\n",
      "</h2>, <h2 class=\"title\">\n",
      "<a class=\"jobtitle turnstileLink\" data-tn-element=\"jobTitle\" href=\"/rc/clk?jk=e48719183cfe2f66&amp;fccid=ba0b4ef452449c10&amp;vjs=3\" id=\"jl_e48719183cfe2f66\" onclick=\"setRefineByCookie(['radius']); return rclk(this,jobmap[9],true,0);\" onmousedown=\"return rclk(this,jobmap[9],0);\" rel=\"noopener nofollow\" target=\"_blank\" title=\"Data Scientist\">\n",
      "<b>Data</b> <b>Scientist</b></a>\n",
      "</h2>, <h2 class=\"title\">\n",
      "<a class=\"jobtitle turnstileLink\" data-tn-element=\"jobTitle\" href=\"/rc/clk?jk=a2e9b786626bdcf5&amp;fccid=5eaae7a6faec1749&amp;vjs=3\" id=\"jl_a2e9b786626bdcf5\" onclick=\"setRefineByCookie(['radius']); return rclk(this,jobmap[10],true,0);\" onmousedown=\"return rclk(this,jobmap[10],0);\" rel=\"noopener nofollow\" target=\"_blank\" title=\"Data Scientist\">\n",
      "<b>Data</b> <b>Scientist</b></a>\n",
      "</h2>, <h2 class=\"title\">\n",
      "<a class=\"jobtitle turnstileLink\" data-tn-element=\"jobTitle\" href=\"/pagead/clk?mo=r&amp;ad=-6NYlbfkN0BKkHZu3wF05EeDimN_p6sYpKCMArvwa95YdH7UpkaBCoSUOkIYlUzf1Pb6Z78DI6NlwRD7J0K61uOQxqeKLogdvIOe9LZITiH3VT6rVpuE_mu9vPUHJtA6PjEz8UmgdlwNab9eySn62Dr58fiDwBur57PEKNDZKFB1gjNhE9t4CiMbC9aYARqEy8mUQvdgMOLZBBfFOcZXrJfaGoEnHuPLYcEtGO4k6olLwFh2av8zN4HuBhiWobkVDMNVlF27PAG7GlYvcthtQgBj5TkEiEmmByb_eIt-T2Pdqm8MIKju3QtHIw81aphjzqqQchAFL6C2ZDoPKhMfp26SEHhGkgiCDyuqnV6fPsMgjFfzJNip_rzw6LL2fPucr2CEaXtzwb2u45t08CHCXrcRc5_rtHlLfYtPUJ5aLPA3qJuopOO6K15w1dbtIbtAEWL7LfQIzHWXMqt9v33N51thzbXHb4E_&amp;p=11&amp;fvj=1&amp;vjs=3\" id=\"sja11\" onclick=\"setRefineByCookie(['radius']); sjoc('sja11', 1); convCtr('SJ'); rclk(this,jobmap[11],true,1);\" onmousedown=\"sjomd('sja11'); clk('sja11'); rclk(this,jobmap[11],1);\" rel=\"noopener nofollow\" target=\"_blank\" title=\"Data Scientist\">\n",
      "<b>Data</b> <b>Scientist</b></a>\n",
      "</h2>, <h2 class=\"title\">\n",
      "<a class=\"jobtitle turnstileLink\" data-tn-element=\"jobTitle\" href=\"/rc/clk?jk=6c396298b99f8fc9&amp;fccid=ca93cbd13ef8b478&amp;vjs=3\" id=\"jl_6c396298b99f8fc9\" onclick=\"setRefineByCookie(['radius']); return rclk(this,jobmap[12],true,0);\" onmousedown=\"return rclk(this,jobmap[12],0);\" rel=\"noopener nofollow\" target=\"_blank\" title=\"Product Data Scientist\">\n",
      "Product <b>Data</b> <b>Scientist</b></a>\n",
      "</h2>, <h2 class=\"title\">\n",
      "<a class=\"jobtitle turnstileLink\" data-tn-element=\"jobTitle\" href=\"/rc/clk?jk=8fccd5560141cd7c&amp;fccid=3514e173cb2d063d&amp;vjs=3\" id=\"jl_8fccd5560141cd7c\" onclick=\"setRefineByCookie(['radius']); return rclk(this,jobmap[13],true,0);\" onmousedown=\"return rclk(this,jobmap[13],0);\" rel=\"noopener nofollow\" target=\"_blank\" title=\"Data Scientist\">\n",
      "<b>Data</b> <b>Scientist</b></a>\n",
      "</h2>, <h2 class=\"title\">\n",
      "<a class=\"jobtitle turnstileLink\" data-tn-element=\"jobTitle\" href=\"/rc/clk?jk=30a3bcd7b43db91d&amp;fccid=3bcef03e34391ca8&amp;vjs=3\" id=\"jl_30a3bcd7b43db91d\" onclick=\"setRefineByCookie(['radius']); return rclk(this,jobmap[14],true,0);\" onmousedown=\"return rclk(this,jobmap[14],0);\" rel=\"noopener nofollow\" target=\"_blank\" title=\"Data Scientist\">\n",
      "<b>Data</b> <b>Scientist</b></a>\n",
      "</h2>]\n"
     ]
    }
   ],
   "source": [
    "titles = soup.find_all(\"h2\", class_ = \"title\")\n",
    "print(titles)\n",
    "#title[1].get_text()"
   ]
  },
  {
   "cell_type": "code",
   "execution_count": 29,
   "metadata": {
    "scrolled": true
   },
   "outputs": [
    {
     "name": "stdout",
     "output_type": "stream",
     "text": [
      "\n",
      "\n",
      "Medical Data Analyst\n",
      "\n",
      "\n",
      "\n",
      "Educational Data Scientist\n",
      "\n",
      "\n",
      "\n",
      "Data Scientist\n",
      "new\n",
      "\n",
      "\n",
      "Data Scientist\n",
      "new\n",
      "\n",
      "\n",
      "Senior Data Scientist, Marketing\n",
      "new\n",
      "\n",
      "\n",
      "Data Scientist\n",
      "\n",
      "\n",
      "\n",
      "Accounting Finance Data Scientist\n",
      "new\n",
      "\n",
      "\n",
      "Data Scientist\n",
      "new\n",
      "\n",
      "\n",
      "Data Scientist\n",
      "\n",
      "\n",
      "\n",
      "Data Scientist\n",
      "\n",
      "\n",
      "\n",
      "Data Scientist\n",
      "\n",
      "\n",
      "\n",
      "Data Scientist\n",
      "\n",
      "\n",
      "\n",
      "Product Data Scientist\n",
      "\n",
      "\n",
      "\n",
      "Data Scientist\n",
      "\n",
      "\n",
      "\n",
      "Data Scientist\n",
      "\n"
     ]
    }
   ],
   "source": [
    "#result to be Returned as an iterable list\n",
    "for title in titles:\n",
    "    job_title = title.get_text()\n",
    "    print(job_title)\n",
    "    "
   ]
  },
  {
   "cell_type": "code",
   "execution_count": 19,
   "metadata": {},
   "outputs": [],
   "source": [
    "# dismiss = browser.find_by_xpath('/html/body/div[2]/div/section/div/div[2]')\n",
    "# dismiss.first.click()\n",
    "\n",
    "# more_jobs = browser.find_by_xpath('/html/body/table[2]/tbody/tr/td/table/tbody/tr/td[1]/nav/div/ul/li[6]/a/span')\n",
    "# more_jobs.first.click()\n",
    "\n",
    "# no_thanks = browser.find_by_xpath('/html/body/div[3]/div[2]/div[4]/div[3]/div[2]/a')\n",
    "# no_thanks.first.click()\n"
   ]
  },
  {
   "cell_type": "code",
   "execution_count": 30,
   "metadata": {},
   "outputs": [
    {
     "name": "stdout",
     "output_type": "stream",
     "text": [
      "page: 1 -------------\n",
      "\n",
      "\n",
      "Medical Data Analyst\n",
      "\n",
      "page: 1 -------------\n",
      "\n",
      "\n",
      "Educational Data Scientist\n",
      "\n",
      "page: 1 -------------\n",
      "\n",
      "\n",
      "Data Scientist\n",
      "new\n",
      "page: 1 -------------\n",
      "\n",
      "\n",
      "Data Scientist\n",
      "new\n",
      "page: 1 -------------\n",
      "\n",
      "\n",
      "Senior Data Scientist, Marketing\n",
      "new\n",
      "page: 1 -------------\n",
      "\n",
      "\n",
      "Data Scientist\n",
      "\n",
      "page: 1 -------------\n",
      "\n",
      "\n",
      "Accounting Finance Data Scientist\n",
      "new\n",
      "page: 1 -------------\n",
      "\n",
      "\n",
      "Data Scientist\n",
      "new\n",
      "page: 1 -------------\n",
      "\n",
      "\n",
      "Data Scientist\n",
      "\n",
      "page: 1 -------------\n",
      "\n",
      "\n",
      "Data Scientist\n",
      "\n",
      "page: 1 -------------\n",
      "\n",
      "\n",
      "Data Scientist\n",
      "\n",
      "page: 1 -------------\n",
      "\n",
      "\n",
      "Data Scientist\n",
      "\n",
      "page: 1 -------------\n",
      "\n",
      "\n",
      "Product Data Scientist\n",
      "\n",
      "page: 1 -------------\n",
      "\n",
      "\n",
      "Data Scientist\n",
      "\n",
      "page: 1 -------------\n",
      "\n",
      "\n",
      "Data Scientist\n",
      "\n"
     ]
    }
   ],
   "source": [
    "#Empty list to append the the result and index 0 is an int \n",
    "job_titles = [0]\n",
    " \n",
    "for x in range(1, 2):\n",
    "    titles = soup.find_all(\"h2\", class_ = \"title\")\n",
    "    for title in titles:\n",
    "        job_titles.append(title.text)\n",
    "        print('page:', x, '-------------')\n",
    "        print(title.text)\n",
    "        browser.find_by_xpath('/html/body/table[2]/tbody/tr/td/table/tbody/tr/td[1]/nav/div/ul/li[6]/a/span/span')\n",
    "\n"
   ]
  },
  {
   "cell_type": "code",
   "execution_count": 22,
   "metadata": {},
   "outputs": [
    {
     "data": {
      "text/plain": [
       "16"
      ]
     },
     "execution_count": 22,
     "metadata": {},
     "output_type": "execute_result"
    }
   ],
   "source": [
    "len(job_titles)"
   ]
  },
  {
   "cell_type": "code",
   "execution_count": 32,
   "metadata": {},
   "outputs": [],
   "source": [
    "#clean_job_titles = job_titles.strip\n",
    "clean_job_titles = []\n",
    "\n",
    "for job in job_titles[1:]:\n",
    "    clean_job_title = job.replace('\\n', '')\n",
    "    clean_job_titles.append(clean_job_title)"
   ]
  },
  {
   "cell_type": "code",
   "execution_count": 33,
   "metadata": {},
   "outputs": [
    {
     "name": "stdout",
     "output_type": "stream",
     "text": [
      "['Medical Data Analyst', 'Educational Data Scientist', 'Data Scientistnew', 'Data Scientistnew', 'Senior Data Scientist, Marketingnew', 'Data Scientist', 'Accounting Finance Data Scientistnew', 'Data Scientistnew', 'Data Scientist', 'Data Scientist', 'Data Scientist', 'Data Scientist', 'Product Data Scientist', 'Data Scientist', 'Data Scientist']\n"
     ]
    }
   ],
   "source": [
    "print(clean_job_titles)"
   ]
  },
  {
   "cell_type": "code",
   "execution_count": 34,
   "metadata": {},
   "outputs": [],
   "source": [
    "locations = soup.find_all(\"span\", class_ = \"location accessible-contrast-color-location\")\n",
    "#locations"
   ]
  },
  {
   "cell_type": "code",
   "execution_count": 35,
   "metadata": {},
   "outputs": [
    {
     "name": "stdout",
     "output_type": "stream",
     "text": [
      "page: 1 -------------\n",
      "Irvine, CA\n",
      "page: 1 -------------\n",
      "Los Angeles, CA\n",
      "page: 1 -------------\n",
      "Newport Beach, CA 92660\n",
      "page: 1 -------------\n",
      "Irvine, CA 92618 (East Industrial Complex area)\n",
      "page: 1 -------------\n",
      "Irvine, CA 92617 (Research Park area)\n",
      "page: 1 -------------\n",
      "Irvine, CA\n",
      "page: 1 -------------\n",
      "Irvine, CA 92617 (Research Park area)\n",
      "page: 1 -------------\n",
      "Ontario, CA\n",
      "page: 1 -------------\n",
      "Aliso Viejo, CA\n",
      "page: 1 -------------\n",
      "San Diego, CA 92127\n"
     ]
    }
   ],
   "source": [
    "job_locations = []\n",
    "\n",
    "for x in range(1, 2):\n",
    "    locations = soup.find_all(\"span\", class_ = \"location accessible-contrast-color-location\")\n",
    "    for location in locations:\n",
    "        job_locations.append(location.text)\n",
    "        print('page:', x, '-------------')\n",
    "        print(location.text)\n",
    "        browser.find_by_xpath('/html/body/table[2]/tbody/tr/td/table/tbody/tr/td[1]/div[7]/div[1]/span[1]')\n",
    "        "
   ]
  },
  {
   "cell_type": "code",
   "execution_count": 36,
   "metadata": {},
   "outputs": [
    {
     "name": "stdout",
     "output_type": "stream",
     "text": [
      "['Irvine, CA', 'Los Angeles, CA', 'Newport Beach, CA 92660', 'Irvine, CA 92618 (East Industrial Complex area)', 'Irvine, CA 92617 (Research Park area)', 'Irvine, CA', 'Irvine, CA 92617 (Research Park area)', 'Ontario, CA', 'Aliso Viejo, CA', 'San Diego, CA 92127']\n"
     ]
    }
   ],
   "source": [
    "print(job_locations)"
   ]
  },
  {
   "cell_type": "code",
   "execution_count": 37,
   "metadata": {},
   "outputs": [
    {
     "data": {
      "text/plain": [
       "10"
      ]
     },
     "execution_count": 37,
     "metadata": {},
     "output_type": "execute_result"
    }
   ],
   "source": [
    "len(job_locations)"
   ]
  },
  {
   "cell_type": "code",
   "execution_count": 38,
   "metadata": {},
   "outputs": [],
   "source": [
    "#zip both into a list\n",
    "new_list = list(zip(clean_job_titles, job_locations))"
   ]
  },
  {
   "cell_type": "code",
   "execution_count": 39,
   "metadata": {},
   "outputs": [
    {
     "name": "stdout",
     "output_type": "stream",
     "text": [
      "[('Medical Data Analyst', 'Irvine, CA'), ('Educational Data Scientist', 'Los Angeles, CA'), ('Data Scientistnew', 'Newport Beach, CA 92660'), ('Data Scientistnew', 'Irvine, CA 92618 (East Industrial Complex area)'), ('Senior Data Scientist, Marketingnew', 'Irvine, CA 92617 (Research Park area)'), ('Data Scientist', 'Irvine, CA'), ('Accounting Finance Data Scientistnew', 'Irvine, CA 92617 (Research Park area)'), ('Data Scientistnew', 'Ontario, CA'), ('Data Scientist', 'Aliso Viejo, CA'), ('Data Scientist', 'San Diego, CA 92127')]\n"
     ]
    }
   ],
   "source": [
    "#print new_list that has both the job_titiles and locations\n",
    "print(new_list)"
   ]
  },
  {
   "cell_type": "code",
   "execution_count": 40,
   "metadata": {},
   "outputs": [
    {
     "data": {
      "text/plain": [
       "{'Medical Data Analyst': 'Irvine, CA',\n",
       " 'Educational Data Scientist': 'Los Angeles, CA',\n",
       " 'Data Scientistnew': 'Ontario, CA',\n",
       " 'Senior Data Scientist, Marketingnew': 'Irvine, CA 92617 (Research Park area)',\n",
       " 'Data Scientist': 'San Diego, CA 92127',\n",
       " 'Accounting Finance Data Scientistnew': 'Irvine, CA 92617 (Research Park area)'}"
      ]
     },
     "execution_count": 40,
     "metadata": {},
     "output_type": "execute_result"
    }
   ],
   "source": [
    "#put list into a python dictionary\n",
    "updated_list = dict(new_list)\n",
    "updated_list"
   ]
  },
  {
   "cell_type": "code",
   "execution_count": 41,
   "metadata": {},
   "outputs": [],
   "source": [
    "#transfer to MongoDB\n",
    "#CONNECT MONGO DB\n",
    "conn = 'mongodb://localhost:27017'\n",
    "client = pymongo.MongoClient(conn)"
   ]
  },
  {
   "cell_type": "code",
   "execution_count": 42,
   "metadata": {
    "scrolled": true
   },
   "outputs": [
    {
     "data": {
      "text/html": [
       "<div>\n",
       "<style scoped>\n",
       "    .dataframe tbody tr th:only-of-type {\n",
       "        vertical-align: middle;\n",
       "    }\n",
       "\n",
       "    .dataframe tbody tr th {\n",
       "        vertical-align: top;\n",
       "    }\n",
       "\n",
       "    .dataframe thead th {\n",
       "        text-align: right;\n",
       "    }\n",
       "</style>\n",
       "<table border=\"1\" class=\"dataframe\">\n",
       "  <thead>\n",
       "    <tr style=\"text-align: right;\">\n",
       "      <th></th>\n",
       "      <th>0</th>\n",
       "      <th>1</th>\n",
       "    </tr>\n",
       "  </thead>\n",
       "  <tbody>\n",
       "    <tr>\n",
       "      <td>0</td>\n",
       "      <td>Medical Data Analyst</td>\n",
       "      <td>Irvine, CA</td>\n",
       "    </tr>\n",
       "    <tr>\n",
       "      <td>1</td>\n",
       "      <td>Educational Data Scientist</td>\n",
       "      <td>Los Angeles, CA</td>\n",
       "    </tr>\n",
       "    <tr>\n",
       "      <td>2</td>\n",
       "      <td>Data Scientistnew</td>\n",
       "      <td>Newport Beach, CA 92660</td>\n",
       "    </tr>\n",
       "    <tr>\n",
       "      <td>3</td>\n",
       "      <td>Data Scientistnew</td>\n",
       "      <td>Irvine, CA 92618 (East Industrial Complex area)</td>\n",
       "    </tr>\n",
       "    <tr>\n",
       "      <td>4</td>\n",
       "      <td>Senior Data Scientist, Marketingnew</td>\n",
       "      <td>Irvine, CA 92617 (Research Park area)</td>\n",
       "    </tr>\n",
       "    <tr>\n",
       "      <td>5</td>\n",
       "      <td>Data Scientist</td>\n",
       "      <td>Irvine, CA</td>\n",
       "    </tr>\n",
       "    <tr>\n",
       "      <td>6</td>\n",
       "      <td>Accounting Finance Data Scientistnew</td>\n",
       "      <td>Irvine, CA 92617 (Research Park area)</td>\n",
       "    </tr>\n",
       "    <tr>\n",
       "      <td>7</td>\n",
       "      <td>Data Scientistnew</td>\n",
       "      <td>Ontario, CA</td>\n",
       "    </tr>\n",
       "    <tr>\n",
       "      <td>8</td>\n",
       "      <td>Data Scientist</td>\n",
       "      <td>Aliso Viejo, CA</td>\n",
       "    </tr>\n",
       "    <tr>\n",
       "      <td>9</td>\n",
       "      <td>Data Scientist</td>\n",
       "      <td>San Diego, CA 92127</td>\n",
       "    </tr>\n",
       "  </tbody>\n",
       "</table>\n",
       "</div>"
      ],
      "text/plain": [
       "                                      0  \\\n",
       "0                  Medical Data Analyst   \n",
       "1            Educational Data Scientist   \n",
       "2                     Data Scientistnew   \n",
       "3                     Data Scientistnew   \n",
       "4   Senior Data Scientist, Marketingnew   \n",
       "5                        Data Scientist   \n",
       "6  Accounting Finance Data Scientistnew   \n",
       "7                     Data Scientistnew   \n",
       "8                        Data Scientist   \n",
       "9                        Data Scientist   \n",
       "\n",
       "                                                 1  \n",
       "0                                       Irvine, CA  \n",
       "1                                  Los Angeles, CA  \n",
       "2                          Newport Beach, CA 92660  \n",
       "3  Irvine, CA 92618 (East Industrial Complex area)  \n",
       "4            Irvine, CA 92617 (Research Park area)  \n",
       "5                                       Irvine, CA  \n",
       "6            Irvine, CA 92617 (Research Park area)  \n",
       "7                                      Ontario, CA  \n",
       "8                                  Aliso Viejo, CA  \n",
       "9                              San Diego, CA 92127  "
      ]
     },
     "execution_count": 42,
     "metadata": {},
     "output_type": "execute_result"
    }
   ],
   "source": [
    "#convert newliat to pandas dataframe\n",
    "updated_list_df = pd.DataFrame(new_list)\n",
    "updated_list_df"
   ]
  },
  {
   "cell_type": "code",
   "execution_count": 43,
   "metadata": {
    "scrolled": true
   },
   "outputs": [
    {
     "data": {
      "text/html": [
       "<div>\n",
       "<style scoped>\n",
       "    .dataframe tbody tr th:only-of-type {\n",
       "        vertical-align: middle;\n",
       "    }\n",
       "\n",
       "    .dataframe tbody tr th {\n",
       "        vertical-align: top;\n",
       "    }\n",
       "\n",
       "    .dataframe thead th {\n",
       "        text-align: right;\n",
       "    }\n",
       "</style>\n",
       "<table border=\"1\" class=\"dataframe\">\n",
       "  <thead>\n",
       "    <tr style=\"text-align: right;\">\n",
       "      <th></th>\n",
       "      <th>Job Title</th>\n",
       "      <th>Location</th>\n",
       "    </tr>\n",
       "  </thead>\n",
       "  <tbody>\n",
       "    <tr>\n",
       "      <td>0</td>\n",
       "      <td>Medical Data Analyst</td>\n",
       "      <td>Irvine, CA</td>\n",
       "    </tr>\n",
       "    <tr>\n",
       "      <td>1</td>\n",
       "      <td>Educational Data Scientist</td>\n",
       "      <td>Los Angeles, CA</td>\n",
       "    </tr>\n",
       "    <tr>\n",
       "      <td>2</td>\n",
       "      <td>Data Scientistnew</td>\n",
       "      <td>Newport Beach, CA 92660</td>\n",
       "    </tr>\n",
       "    <tr>\n",
       "      <td>3</td>\n",
       "      <td>Data Scientistnew</td>\n",
       "      <td>Irvine, CA 92618 (East Industrial Complex area)</td>\n",
       "    </tr>\n",
       "    <tr>\n",
       "      <td>4</td>\n",
       "      <td>Senior Data Scientist, Marketingnew</td>\n",
       "      <td>Irvine, CA 92617 (Research Park area)</td>\n",
       "    </tr>\n",
       "    <tr>\n",
       "      <td>5</td>\n",
       "      <td>Data Scientist</td>\n",
       "      <td>Irvine, CA</td>\n",
       "    </tr>\n",
       "    <tr>\n",
       "      <td>6</td>\n",
       "      <td>Accounting Finance Data Scientistnew</td>\n",
       "      <td>Irvine, CA 92617 (Research Park area)</td>\n",
       "    </tr>\n",
       "    <tr>\n",
       "      <td>7</td>\n",
       "      <td>Data Scientistnew</td>\n",
       "      <td>Ontario, CA</td>\n",
       "    </tr>\n",
       "    <tr>\n",
       "      <td>8</td>\n",
       "      <td>Data Scientist</td>\n",
       "      <td>Aliso Viejo, CA</td>\n",
       "    </tr>\n",
       "    <tr>\n",
       "      <td>9</td>\n",
       "      <td>Data Scientist</td>\n",
       "      <td>San Diego, CA 92127</td>\n",
       "    </tr>\n",
       "  </tbody>\n",
       "</table>\n",
       "</div>"
      ],
      "text/plain": [
       "                              Job Title  \\\n",
       "0                  Medical Data Analyst   \n",
       "1            Educational Data Scientist   \n",
       "2                     Data Scientistnew   \n",
       "3                     Data Scientistnew   \n",
       "4   Senior Data Scientist, Marketingnew   \n",
       "5                        Data Scientist   \n",
       "6  Accounting Finance Data Scientistnew   \n",
       "7                     Data Scientistnew   \n",
       "8                        Data Scientist   \n",
       "9                        Data Scientist   \n",
       "\n",
       "                                          Location  \n",
       "0                                       Irvine, CA  \n",
       "1                                  Los Angeles, CA  \n",
       "2                          Newport Beach, CA 92660  \n",
       "3  Irvine, CA 92618 (East Industrial Complex area)  \n",
       "4            Irvine, CA 92617 (Research Park area)  \n",
       "5                                       Irvine, CA  \n",
       "6            Irvine, CA 92617 (Research Park area)  \n",
       "7                                      Ontario, CA  \n",
       "8                                  Aliso Viejo, CA  \n",
       "9                              San Diego, CA 92127  "
      ]
     },
     "execution_count": 43,
     "metadata": {},
     "output_type": "execute_result"
    }
   ],
   "source": [
    "New_job_location_df = pd.DataFrame(new_list, columns=['Job Title', 'Location'])\n",
    "New_job_location_df"
   ]
  },
  {
   "cell_type": "code",
   "execution_count": 44,
   "metadata": {},
   "outputs": [
    {
     "data": {
      "text/plain": [
       "<pymongo.results.InsertManyResult at 0x124e45320>"
      ]
     },
     "execution_count": 44,
     "metadata": {},
     "output_type": "execute_result"
    }
   ],
   "source": [
    "\n",
    "#db = client.police_shootings_db\n",
    "client.Indeed_db.data_jobs.insert_many(New_job_location_df.to_dict('records'))"
   ]
  },
  {
   "cell_type": "code",
   "execution_count": 49,
   "metadata": {},
   "outputs": [],
   "source": [
    "#query database\n",
    "# Data_jobs = db.data_job.find()\n",
    "# print(Data_jobs)"
   ]
  },
  {
   "cell_type": "code",
   "execution_count": null,
   "metadata": {},
   "outputs": [],
   "source": []
  }
 ],
 "metadata": {
  "kernelspec": {
   "display_name": "Python 3",
   "language": "python",
   "name": "python3"
  },
  "language_info": {
   "codemirror_mode": {
    "name": "ipython",
    "version": 3
   },
   "file_extension": ".py",
   "mimetype": "text/x-python",
   "name": "python",
   "nbconvert_exporter": "python",
   "pygments_lexer": "ipython3",
   "version": "3.7.4"
  }
 },
 "nbformat": 4,
 "nbformat_minor": 2
}
