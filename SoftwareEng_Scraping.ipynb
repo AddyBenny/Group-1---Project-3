{
 "cells": [
  {
   "cell_type": "code",
   "execution_count": 1,
   "metadata": {},
   "outputs": [],
   "source": [
    "#import Dependencies\n",
    "from splinter import Browser\n",
    "from bs4 import BeautifulSoup\n",
    "import pandas as pd\n",
    "import pymongo \n",
    "import requests\n",
    "from config import api_key"
   ]
  },
  {
   "cell_type": "code",
   "execution_count": 2,
   "metadata": {},
   "outputs": [],
   "source": [
    "#executable path for window users\n",
    "executable_path = {'executable_path': 'chromedriver.exe'}\n",
    "browser = Browser('chrome', **executable_path, headless=False)"
   ]
  },
  {
   "cell_type": "code",
   "execution_count": 3,
   "metadata": {},
   "outputs": [],
   "source": [
    "#Executable path for Mac Users\n",
    "# executable_path = {'executable_path': '/usr/local/bin/chromedriver'}\n",
    "# browser = Browser('chrome', **executable_path, headless=False)"
   ]
  },
  {
   "cell_type": "code",
   "execution_count": 4,
   "metadata": {},
   "outputs": [],
   "source": [
    "#url of page to be scraped from indeed\n",
    "url = 'https://www.indeed.com/jobs?q=Software+Engineer&l=Irvine%2C+CA&radius=100'\n",
    "browser.visit(url)"
   ]
  },
  {
   "cell_type": "code",
   "execution_count": 5,
   "metadata": {},
   "outputs": [],
   "source": [
    "#BeautifulSoup object Parser\n",
    "html = browser.html\n",
    "soup = BeautifulSoup(html, 'html.parser')"
   ]
  },
  {
   "cell_type": "code",
   "execution_count": 6,
   "metadata": {},
   "outputs": [
    {
     "name": "stdout",
     "output_type": "stream",
     "text": [
      "[<h2 class=\"title\">\n",
      "<a class=\"jobtitle turnstileLink\" data-tn-element=\"jobTitle\" href=\"/pagead/clk?mo=r&amp;ad=-6NYlbfkN0DSJVOgFNjTH3NHsz1y5W7iEiQ8XFPauIDjgJYsd-OdNLeg3X3B2bDiJFBMXKrgB8Cc3lh2uHFnxwFa3_G81uJq8h0YPsu1bqktj9WwY8gX8ghU6g2YHgticn1Z9tA2oy4mIx5BC5HjhypjwhLn92E6PsRN5qwF-IqablSFGNvWbLk1k6eaNp-15lpsCwhqE1GzMCUhyw_-UyMUm2Yl349KuFxXN_xMKVOtwk01zoHSYtWKJx4XoDERinZCmd0XHLUcshEJ67Apgy_wTtFZ29NQEqMkC3_SfYgpvMwkX-1sNEcfS2D9O-NY9Ny6GW8nSfgDVPqBEjyLx73o1IaGDWGsctgmYDcmGQ-nR8YfiMYKPfmG94atUvWPhFqYd43QHIOfX3zYzUCdjFaX22rcRMajcHui9R2uPLDIxnxtMBA7TBBMdmW9FSCX0lVOTZggm8M7Twi4EAOfuTCVvUUYSyek&amp;p=0&amp;fvj=1&amp;vjs=3\" id=\"sja0\" onclick=\"setRefineByCookie(['radius']); sjoc('sja0', 1); convCtr('SJ'); rclk(this,jobmap[0],true,1);\" onmousedown=\"sjomd('sja0'); clk('sja0'); rclk(this,jobmap[0],1);\" rel=\"noopener nofollow\" target=\"_blank\" title=\"Software Engineer\">\n",
      "<b>Software</b> <b>Engineer</b></a>\n",
      "</h2>, <h2 class=\"title\">\n",
      "<a class=\"jobtitle turnstileLink\" data-tn-element=\"jobTitle\" href=\"/pagead/clk?mo=r&amp;ad=-6NYlbfkN0B5gYbF--56VF-R_fhSNOm7FnnXFXRD7KozXp8q5hzPbT2UHOfxeDa6XodhULFw8uTn1vkd-PA5g16m4CyQM6yn0sVJh3ZwO6-Yptwee5ZdSP_9JY0iJAzRjZ5uk3ZuQse_bcNKcDLvDe-nD5TNBCUTUMi8bNTuwp00E8rznVU4hEujTDEJ6SIsFKIOEUhwkaYBMRy3OqGzmWxe0gQXqevcOFm5AHqKmNI7gGmjpw7xDLOoJVkTO7fa6i0WyIb1GbgFWicmDLvvKr9uPO_J7ThwyBgNTjlZmbZhbr3wa4avT9ZjWdSPQscXle8_AeFqPh7-td7mA8VohxYGSSKJ2VmvHFBjiQvrLkApun0UeMLR4C3uulMGbZGuuy6_lvPz1FNJ1bnDoLDT6Oofi7D7Y2JdmyHI_-Hob5OEN2UjKD3lAFfRmonMN2iQ1ByP4hlOgbT-tkN2ug0OA8eeWRX-LMhrwAbbgfGxrV7vl9FTdFub2mUZmaMPYqK8B4t0XLtDjzJuN6VKLdIo3_6zoWsIIvPeYAWzlB76QLBilP2umKCvomKz9w1yjALtpXRS8x80ixRN9MoV_Kf6pRwEGoe26Pa3&amp;p=1&amp;fvj=0&amp;vjs=3\" id=\"sja1\" onclick=\"setRefineByCookie(['radius']); sjoc('sja1', 0); convCtr('SJ'); rclk(this,jobmap[1],true,0);\" onmousedown=\"sjomd('sja1'); clk('sja1'); rclk(this,jobmap[1],0);\" rel=\"noopener nofollow\" target=\"_blank\" title=\"Sr. Software Test Engineer II\">\n",
      "Sr. <b>Software</b> Test <b>Engineer</b> II</a>\n",
      "<span class=\"new\">new</span></h2>, <h2 class=\"title\">\n",
      "<a class=\"jobtitle turnstileLink\" data-tn-element=\"jobTitle\" href=\"/rc/clk?jk=c0abe15389779068&amp;fccid=11299cf8233dcb1c&amp;vjs=3\" id=\"jl_c0abe15389779068\" onclick=\"setRefineByCookie(['radius']); return rclk(this,jobmap[2],true,0);\" onmousedown=\"return rclk(this,jobmap[2],0);\" rel=\"noopener nofollow\" target=\"_blank\" title=\"Software Engineer\">\n",
      "<b>Software</b> <b>Engineer</b></a>\n",
      "</h2>, <h2 class=\"title\">\n",
      "<a class=\"jobtitle turnstileLink\" data-tn-element=\"jobTitle\" href=\"/rc/clk?jk=a000c399cdd83f72&amp;fccid=749488582f5dfbfe&amp;vjs=3\" id=\"jl_a000c399cdd83f72\" onclick=\"setRefineByCookie(['radius']); return rclk(this,jobmap[3],true,0);\" onmousedown=\"return rclk(this,jobmap[3],0);\" rel=\"noopener nofollow\" target=\"_blank\" title=\"Software Engineer- Entry Level\">\n",
      "<b>Software</b> <b>Engineer</b>- Entry Level</a>\n",
      "</h2>, <h2 class=\"title\">\n",
      "<a class=\"jobtitle turnstileLink\" data-tn-element=\"jobTitle\" href=\"/rc/clk?jk=ac8c8e4cd7932e29&amp;fccid=1639254ea84748b5&amp;vjs=3\" id=\"jl_ac8c8e4cd7932e29\" onclick=\"setRefineByCookie(['radius']); return rclk(this,jobmap[4],true,0);\" onmousedown=\"return rclk(this,jobmap[4],0);\" rel=\"noopener nofollow\" target=\"_blank\" title=\"Software Engineer, University Grad\">\n",
      "<b>Software</b> <b>Engineer</b>, University Grad</a>\n",
      "<span class=\"new\">new</span></h2>, <h2 class=\"title\">\n",
      "<a class=\"jobtitle turnstileLink\" data-tn-element=\"jobTitle\" href=\"/pagead/clk?mo=r&amp;ad=-6NYlbfkN0AiQ2Ue3759HkB1rZXapRUZoTtrV-x-3oUi90yO91Ofc8yBhywOoo1XtpOcsISueATABZNxo5cYUYcAwW24X6DxWIqHQp7fdILC3fwXNJ2nUGKL6u0Hqpq2TMDzGDy8zEw_2OK83UWnfidS9Ya2PAE-cpH_2nP0mGjv2rsZUW-XaeO-ljAyVvQgIpbwHU71y56T3rgKUcGZFkdCkUor8cOkQhCEsKjT7fs_5ZXQoSHuI7KOzdQhpJs0O7rBn1F67VKqzSUvetJ2rVL6WHvK3159AeNFnEMLj0qdpsZhUgsAYf0k3fYOr0lL6Rkt7LBspnJG5I3yecRSEUFtJHrc-mCzgxwEwhjnCvE38L-zJY74RRe2Ik1JgZRf0D8NQyQJ5WowMACRoakcvIS8wFiSZhvT9vHL_kqbYg_BBAfT3WGGStBok9eBJRS0a-mFATx5LqLIm8Q73YNU5gyxNMjfIFIs&amp;p=5&amp;fvj=1&amp;vjs=3\" id=\"sja5\" onclick=\"setRefineByCookie(['radius']); sjoc('sja5', 1); convCtr('SJ'); rclk(this,jobmap[5],true,1);\" onmousedown=\"sjomd('sja5'); clk('sja5'); rclk(this,jobmap[5],1);\" rel=\"noopener nofollow\" target=\"_blank\" title=\"Software Developer\">\n",
      "<b>Software</b> Developer</a>\n",
      "</h2>, <h2 class=\"title\">\n",
      "<a class=\"jobtitle turnstileLink\" data-tn-element=\"jobTitle\" href=\"/pagead/clk?mo=r&amp;ad=-6NYlbfkN0AMr11YIOo206dX9CE572HoIBzjTozchv3QrfVeNVhstmAbPwFeZPDdQ1m4GCFFknpqTVA8J_imAJVUTpPXQ5pP4QoSYeZlex-6sqyWjV7NE_850u0UChpfUKrJJ-LtLUrozQz0zOMF_ONNqrFE05qiNGdXLCovB9lgNi2veACllY2clWaVTA6JnqyJmBC_5vl6w8nEQtibBtiHgaaTGa-1Lk5zJIDNHuNT1evDfRdyvjo64VtraWHwmlq8mVglSwcTaFHmfDTrqWVVnNofEaS0VDZfMVEh6caXjevDcAl6q1fiTkbfAHbdvZFrK2aqx9mzt43gvZIURtufa0ZoFspYpngdSy1FwExZv5zizD3AcMR9vrWQpqSBuqTyVuiGxIkUcHK--MJMiv79safDdP-quzeFDCApQPgULayOCG4T5A0AXr-RwxQMyiHvxtNyPtEMTrHk00dX8o3hBKVQAD-u7amUS00aHvkSb-XaUI_QnAuVbbCt9Zemi8jN-9YhrD7skGRoFVQgmg==&amp;p=6&amp;fvj=1&amp;vjs=3\" id=\"sja6\" onclick=\"setRefineByCookie(['radius']); sjoc('sja6', 1); convCtr('SJ'); rclk(this,jobmap[6],true,1);\" onmousedown=\"sjomd('sja6'); clk('sja6'); rclk(this,jobmap[6],1);\" rel=\"noopener nofollow\" target=\"_blank\" title=\"Software Engineer\">\n",
      "<b>Software</b> <b>Engineer</b></a>\n",
      "<span class=\"new\">new</span></h2>, <h2 class=\"title\">\n",
      "<a class=\"jobtitle turnstileLink\" data-tn-element=\"jobTitle\" href=\"/company/Intellivision-Entertainment/jobs/Software-Engineer-Game-Control-System-Prototyping-08e8cf404cfab3e6?fccid=a1008821fc77a187&amp;vjs=3\" id=\"jl_08e8cf404cfab3e6\" onclick=\"setRefineByCookie(['radius']); return rclk(this,jobmap[7],true,1);\" onmousedown=\"return rclk(this,jobmap[7],1);\" rel=\"noopener nofollow\" target=\"_blank\" title=\"Software Engineer for Game Control Systems and Prototyping\">\n",
      "<b>Software</b> <b>Engineer</b> for Game Control Systems and Prototyping</a>\n",
      "<span class=\"new\">new</span></h2>, <h2 class=\"title\">\n",
      "<a class=\"jobtitle turnstileLink\" data-tn-element=\"jobTitle\" href=\"/rc/clk?jk=194a7880a5ff9314&amp;fccid=30cc7a5451d4ee77&amp;vjs=3\" id=\"jl_194a7880a5ff9314\" onclick=\"setRefineByCookie(['radius']); return rclk(this,jobmap[8],true,0);\" onmousedown=\"return rclk(this,jobmap[8],0);\" rel=\"noopener nofollow\" target=\"_blank\" title=\"Jr Full Stack Software Engineer\">\n",
      "Jr Full Stack <b>Software</b> <b>Engineer</b></a>\n",
      "</h2>, <h2 class=\"title\">\n",
      "<a class=\"jobtitle turnstileLink\" data-tn-element=\"jobTitle\" href=\"/rc/clk?jk=a5584656a86226c5&amp;fccid=d278789782e164b3&amp;vjs=3\" id=\"jl_a5584656a86226c5\" onclick=\"setRefineByCookie(['radius']); return rclk(this,jobmap[9],true,1);\" onmousedown=\"return rclk(this,jobmap[9],1);\" rel=\"noopener nofollow\" target=\"_blank\" title=\"Software Developer\">\n",
      "<b>Software</b> Developer</a>\n",
      "</h2>, <h2 class=\"title\">\n",
      "<a class=\"jobtitle turnstileLink\" data-tn-element=\"jobTitle\" href=\"/rc/clk?jk=6a8c586ac5ab0288&amp;fccid=ee6807b900a9998d&amp;vjs=3\" id=\"jl_6a8c586ac5ab0288\" onclick=\"setRefineByCookie(['radius']); return rclk(this,jobmap[10],true,0);\" onmousedown=\"return rclk(this,jobmap[10],0);\" rel=\"noopener nofollow\" target=\"_blank\" title=\"Software Engineer\">\n",
      "<b>Software</b> <b>Engineer</b></a>\n",
      "</h2>, <h2 class=\"title\">\n",
      "<a class=\"jobtitle turnstileLink\" data-tn-element=\"jobTitle\" href=\"/rc/clk?jk=5637a802ed64c77e&amp;fccid=fe2d21eef233e94a&amp;vjs=3\" id=\"jl_5637a802ed64c77e\" onclick=\"setRefineByCookie(['radius']); return rclk(this,jobmap[11],true,0);\" onmousedown=\"return rclk(this,jobmap[11],0);\" rel=\"noopener nofollow\" target=\"_blank\" title=\"Software Development Engineer\">\n",
      "<b>Software</b> Development <b>Engineer</b></a>\n",
      "<span class=\"new\">new</span></h2>, <h2 class=\"title\">\n",
      "<a class=\"jobtitle turnstileLink\" data-tn-element=\"jobTitle\" href=\"/pagead/clk?mo=r&amp;ad=-6NYlbfkN0ClvsRMZZYbWkncYKklQZhomgGvtzxN2NDL0Yep_oEtFRBSc398mSurCOFRBoni30T5TOVEf_g4Pt4qpGkvrv7iFxY_kZUDgGHl788O8hd6FzGv8DQ7UjxVUg_xLZmArFtrGSWfG_tfjhrNb4urMamJGovqKuIUPPPnUUaFoITeAw9l3FBuu3fujxYAEqqroNTmRhOTbUVxARdQeMyuS9fHEPGvE-e4FoE5SUFheauLpm_9W9bIaBAaZGoEBs8B98LHvrhOWdzHwyvTqTxDQHfA3MvB1t9j795hxE_aiHBCaljxA-nP9Gk9qTBvr1rRQQ5OSFx2oqAIP_3w7UAiE3ztGFyjIK_dpmlX3WVnal31s7v_dRi11XIRQBvyfZZbkEusqsB3kC51ApRzU7Cg9PsW&amp;p=12&amp;fvj=0&amp;vjs=3\" id=\"sja12\" onclick=\"setRefineByCookie(['radius']); sjoc('sja12', 0); convCtr('SJ'); rclk(this,jobmap[12],true,0);\" onmousedown=\"sjomd('sja12'); clk('sja12'); rclk(this,jobmap[12],0);\" rel=\"noopener nofollow\" target=\"_blank\" title=\"Software Engineer 2, Front End\">\n",
      "<b>Software</b> <b>Engineer</b> 2, Front End</a>\n",
      "<span class=\"new\">new</span></h2>, <h2 class=\"title\">\n",
      "<a class=\"jobtitle turnstileLink\" data-tn-element=\"jobTitle\" href=\"/company/AYANA-Therapy/jobs/Junior-Software-Engineer-ba5ac99bfc468d59?fccid=67241bb681f973a3&amp;vjs=3\" id=\"jl_ba5ac99bfc468d59\" onclick=\"setRefineByCookie(['radius']); return rclk(this,jobmap[13],true,1);\" onmousedown=\"return rclk(this,jobmap[13],1);\" rel=\"noopener nofollow\" target=\"_blank\" title=\"Junior Software Engineer\">\n",
      "Junior <b>Software</b> <b>Engineer</b></a>\n",
      "<span class=\"new\">new</span></h2>, <h2 class=\"title\">\n",
      "<a class=\"jobtitle turnstileLink\" data-tn-element=\"jobTitle\" href=\"/rc/clk?jk=3392df02afcf065a&amp;fccid=199ac3a859c4fcf4&amp;vjs=3\" id=\"jl_3392df02afcf065a\" onclick=\"setRefineByCookie(['radius']); return rclk(this,jobmap[14],true,0);\" onmousedown=\"return rclk(this,jobmap[14],0);\" rel=\"noopener nofollow\" target=\"_blank\" title=\"Software Engineer (Remote)\">\n",
      "<b>Software</b> <b>Engineer</b> (Remote)</a>\n",
      "<span class=\"new\">new</span></h2>]\n"
     ]
    }
   ],
   "source": [
    "#result to return the job title\n",
    "titles = soup.find_all(\"h2\", class_ = \"title\")\n",
    "print(titles)\n",
    "#title[1].get_text()"
   ]
  },
  {
   "cell_type": "code",
   "execution_count": 7,
   "metadata": {},
   "outputs": [
    {
     "name": "stdout",
     "output_type": "stream",
     "text": [
      "\n",
      "\n",
      "Software Engineer\n",
      "\n",
      "\n",
      "\n",
      "Sr. Software Test Engineer II\n",
      "new\n",
      "\n",
      "\n",
      "Software Engineer\n",
      "\n",
      "\n",
      "\n",
      "Software Engineer- Entry Level\n",
      "\n",
      "\n",
      "\n",
      "Software Engineer, University Grad\n",
      "new\n",
      "\n",
      "\n",
      "Software Developer\n",
      "\n",
      "\n",
      "\n",
      "Software Engineer\n",
      "new\n",
      "\n",
      "\n",
      "Software Engineer for Game Control Systems and Prototyping\n",
      "new\n",
      "\n",
      "\n",
      "Jr Full Stack Software Engineer\n",
      "\n",
      "\n",
      "\n",
      "Software Developer\n",
      "\n",
      "\n",
      "\n",
      "Software Engineer\n",
      "\n",
      "\n",
      "\n",
      "Software Development Engineer\n",
      "new\n",
      "\n",
      "\n",
      "Software Engineer 2, Front End\n",
      "new\n",
      "\n",
      "\n",
      "Junior Software Engineer\n",
      "new\n",
      "\n",
      "\n",
      "Software Engineer (Remote)\n",
      "new\n"
     ]
    }
   ],
   "source": [
    "#result to be Returned as an iterable list\n",
    "for title in titles:\n",
    "    job_title = title.get_text()\n",
    "    print(job_title)\n",
    "    "
   ]
  },
  {
   "cell_type": "code",
   "execution_count": 8,
   "metadata": {},
   "outputs": [
    {
     "name": "stdout",
     "output_type": "stream",
     "text": [
      "not found\n"
     ]
    }
   ],
   "source": [
    "\n",
    "try:\n",
    "    dismiss = browser.find_by_xpath('/html/body/div[2]/div/section/div/div[2]')\n",
    "    more_jobs = browser.find_by_xpath('/html/body/table[2]/tbody/tr/td/table/tbody/tr/td[1]/nav/div/ul/li[6]/a/span')\n",
    "    no_thanks = browser.find_by_xpath('/html/body/div[3]/div[2]/div[4]/div[3]/div[2]/a')\n",
    "    dismiss.first.click()\n",
    "    more_jobs.first.click()\n",
    "    no_thanks.first.click()\n",
    "except:\n",
    "    print(\"not found\")"
   ]
  },
  {
   "cell_type": "code",
   "execution_count": 9,
   "metadata": {},
   "outputs": [
    {
     "name": "stdout",
     "output_type": "stream",
     "text": [
      "page: 1 -------------\n",
      "\n",
      "\n",
      "Software Engineer\n",
      "\n",
      "page: 1 -------------\n",
      "\n",
      "\n",
      "Sr. Software Test Engineer II\n",
      "new\n",
      "page: 1 -------------\n",
      "\n",
      "\n",
      "Software Engineer\n",
      "\n",
      "page: 1 -------------\n",
      "\n",
      "\n",
      "Software Engineer- Entry Level\n",
      "\n",
      "page: 1 -------------\n",
      "\n",
      "\n",
      "Software Engineer, University Grad\n",
      "new\n",
      "page: 1 -------------\n",
      "\n",
      "\n",
      "Software Developer\n",
      "\n",
      "page: 1 -------------\n",
      "\n",
      "\n",
      "Software Engineer\n",
      "new\n",
      "page: 1 -------------\n",
      "\n",
      "\n",
      "Software Engineer for Game Control Systems and Prototyping\n",
      "new\n",
      "page: 1 -------------\n",
      "\n",
      "\n",
      "Jr Full Stack Software Engineer\n",
      "\n",
      "page: 1 -------------\n",
      "\n",
      "\n",
      "Software Developer\n",
      "\n",
      "page: 1 -------------\n",
      "\n",
      "\n",
      "Software Engineer\n",
      "\n",
      "page: 1 -------------\n",
      "\n",
      "\n",
      "Software Development Engineer\n",
      "new\n",
      "page: 1 -------------\n",
      "\n",
      "\n",
      "Software Engineer 2, Front End\n",
      "new\n",
      "page: 1 -------------\n",
      "\n",
      "\n",
      "Junior Software Engineer\n",
      "new\n",
      "page: 1 -------------\n",
      "\n",
      "\n",
      "Software Engineer (Remote)\n",
      "new\n"
     ]
    }
   ],
   "source": [
    "#Empty list to append the the result and index 0 is an int \n",
    "job_titles = [0]\n",
    " #loop through the result\n",
    "for x in range(1, 2):\n",
    "    titles = soup.find_all(\"h2\", class_ = \"title\")\n",
    "    for title in titles:\n",
    "        job_titles.append(title.text)\n",
    "        print('page:', x, '-------------')\n",
    "        print(title.text)\n",
    "        browser.find_by_xpath('/html/body/table[2]/tbody/tr/td/table/tbody/tr/td[1]/nav/div/ul/li[6]/a/span/span')\n"
   ]
  },
  {
   "cell_type": "code",
   "execution_count": 10,
   "metadata": {},
   "outputs": [],
   "source": [
    "#Use replace to print out a clean job title\n",
    "clean_job_titles = []\n",
    "\n",
    "#loop through the result\n",
    "for job in job_titles[1:]:\n",
    "    clean_job_title = job.replace('\\n', '')\n",
    "    clean_job_titles.append(clean_job_title)"
   ]
  },
  {
   "cell_type": "code",
   "execution_count": 11,
   "metadata": {},
   "outputs": [
    {
     "name": "stdout",
     "output_type": "stream",
     "text": [
      "['Software Engineer', 'Sr. Software Test Engineer IInew', 'Software Engineer', 'Software Engineer- Entry Level', 'Software Engineer, University Gradnew', 'Software Developer', 'Software Engineernew', 'Software Engineer for Game Control Systems and Prototypingnew', 'Jr Full Stack Software Engineer', 'Software Developer', 'Software Engineer', 'Software Development Engineernew', 'Software Engineer 2, Front Endnew', 'Junior Software Engineernew', 'Software Engineer (Remote)new']\n"
     ]
    }
   ],
   "source": [
    "#print clean job titles to check\n",
    "print(clean_job_titles)"
   ]
  },
  {
   "cell_type": "code",
   "execution_count": 12,
   "metadata": {},
   "outputs": [
    {
     "data": {
      "text/plain": [
       "[<span class=\"location accessible-contrast-color-location\">Irvine, CA</span>,\n",
       " <span class=\"location accessible-contrast-color-location\">Irvine, CA</span>,\n",
       " <span class=\"location accessible-contrast-color-location\">Los Angeles, CA</span>,\n",
       " <span class=\"location accessible-contrast-color-location\">Irvine, CA 92614 <span style=\"font-size: smaller\">(Business District area)</span></span>,\n",
       " <span class=\"location accessible-contrast-color-location\">Burbank, CA</span>,\n",
       " <span class=\"location accessible-contrast-color-location\">Newport Beach, CA 92660</span>,\n",
       " <span class=\"location accessible-contrast-color-location\">Irvine, CA</span>,\n",
       " <span class=\"location accessible-contrast-color-location\">Irvine, CA</span>,\n",
       " <span class=\"location accessible-contrast-color-location\">Los Angeles, CA 90071 <span style=\"font-size: smaller\">(Downtown area)</span></span>,\n",
       " <span class=\"location accessible-contrast-color-location\">La Puente, CA 91744</span>]"
      ]
     },
     "execution_count": 12,
     "metadata": {},
     "output_type": "execute_result"
    }
   ],
   "source": [
    "#result to return the job locations\n",
    "locations = soup.find_all(\"span\", class_ = \"location accessible-contrast-color-location\")\n",
    "locations"
   ]
  },
  {
   "cell_type": "code",
   "execution_count": 13,
   "metadata": {},
   "outputs": [
    {
     "name": "stdout",
     "output_type": "stream",
     "text": [
      "page: 1 -------------\n",
      "Irvine, CA\n",
      "page: 1 -------------\n",
      "Irvine, CA\n",
      "page: 1 -------------\n",
      "Los Angeles, CA\n",
      "page: 1 -------------\n",
      "Irvine, CA 92614 (Business District area)\n",
      "page: 1 -------------\n",
      "Burbank, CA\n",
      "page: 1 -------------\n",
      "Newport Beach, CA 92660\n",
      "page: 1 -------------\n",
      "Irvine, CA\n",
      "page: 1 -------------\n",
      "Irvine, CA\n",
      "page: 1 -------------\n",
      "Los Angeles, CA 90071 (Downtown area)\n",
      "page: 1 -------------\n",
      "La Puente, CA 91744\n"
     ]
    }
   ],
   "source": [
    "#Empty list to append the result\n",
    "job_locations = []\n",
    "\n",
    "#loop through the returned result\n",
    "for x in range(1, 2):\n",
    "    locations = soup.find_all(\"span\", class_ = \"location accessible-contrast-color-location\")\n",
    "    for location in locations:\n",
    "        job_locations.append(location.text)\n",
    "        print('page:', x, '-------------')\n",
    "        print(location.text)\n",
    "        browser.find_by_xpath('/html/body/table[2]/tbody/tr/td/table/tbody/tr/td[1]/div[7]/div[1]/span[1]')\n",
    "        "
   ]
  },
  {
   "cell_type": "code",
   "execution_count": 14,
   "metadata": {},
   "outputs": [
    {
     "name": "stdout",
     "output_type": "stream",
     "text": [
      "['Irvine, CA', 'Irvine, CA', 'Los Angeles, CA', 'Irvine, CA 92614 (Business District area)', 'Burbank, CA', 'Newport Beach, CA 92660', 'Irvine, CA', 'Irvine, CA', 'Los Angeles, CA 90071 (Downtown area)', 'La Puente, CA 91744']\n"
     ]
    }
   ],
   "source": [
    "#print job locations\n",
    "print(job_locations)"
   ]
  },
  {
   "cell_type": "code",
   "execution_count": 15,
   "metadata": {},
   "outputs": [],
   "source": [
    "#zip both results into a list\n",
    "new_list = list(zip(clean_job_titles, job_locations))"
   ]
  },
  {
   "cell_type": "code",
   "execution_count": 16,
   "metadata": {},
   "outputs": [
    {
     "name": "stdout",
     "output_type": "stream",
     "text": [
      "[('Software Engineer', 'Irvine, CA'), ('Sr. Software Test Engineer IInew', 'Irvine, CA'), ('Software Engineer', 'Los Angeles, CA'), ('Software Engineer- Entry Level', 'Irvine, CA 92614 (Business District area)'), ('Software Engineer, University Gradnew', 'Burbank, CA'), ('Software Developer', 'Newport Beach, CA 92660'), ('Software Engineernew', 'Irvine, CA'), ('Software Engineer for Game Control Systems and Prototypingnew', 'Irvine, CA'), ('Jr Full Stack Software Engineer', 'Los Angeles, CA 90071 (Downtown area)'), ('Software Developer', 'La Puente, CA 91744')]\n"
     ]
    }
   ],
   "source": [
    "#print new_list that has both the job_titiles and locations\n",
    "print(new_list)"
   ]
  },
  {
   "cell_type": "code",
   "execution_count": 17,
   "metadata": {},
   "outputs": [
    {
     "data": {
      "text/plain": [
       "{'Software Engineer': 'Los Angeles, CA',\n",
       " 'Sr. Software Test Engineer IInew': 'Irvine, CA',\n",
       " 'Software Engineer- Entry Level': 'Irvine, CA 92614 (Business District area)',\n",
       " 'Software Engineer, University Gradnew': 'Burbank, CA',\n",
       " 'Software Developer': 'La Puente, CA 91744',\n",
       " 'Software Engineernew': 'Irvine, CA',\n",
       " 'Software Engineer for Game Control Systems and Prototypingnew': 'Irvine, CA',\n",
       " 'Jr Full Stack Software Engineer': 'Los Angeles, CA 90071 (Downtown area)'}"
      ]
     },
     "execution_count": 17,
     "metadata": {},
     "output_type": "execute_result"
    }
   ],
   "source": [
    "#append list into a python dictionary\n",
    "updated_list = dict(new_list)\n",
    "updated_list"
   ]
  },
  {
   "cell_type": "code",
   "execution_count": 18,
   "metadata": {},
   "outputs": [],
   "source": [
    "#Initialize pymongo to work with MongoDBs\n",
    "#CONNECT MONGO DB\n",
    "conn = 'mongodb://localhost:27017'\n",
    "client = pymongo.MongoClient(conn)"
   ]
  },
  {
   "cell_type": "code",
   "execution_count": 19,
   "metadata": {},
   "outputs": [
    {
     "data": {
      "text/html": [
       "<div>\n",
       "<style scoped>\n",
       "    .dataframe tbody tr th:only-of-type {\n",
       "        vertical-align: middle;\n",
       "    }\n",
       "\n",
       "    .dataframe tbody tr th {\n",
       "        vertical-align: top;\n",
       "    }\n",
       "\n",
       "    .dataframe thead th {\n",
       "        text-align: right;\n",
       "    }\n",
       "</style>\n",
       "<table border=\"1\" class=\"dataframe\">\n",
       "  <thead>\n",
       "    <tr style=\"text-align: right;\">\n",
       "      <th></th>\n",
       "      <th>0</th>\n",
       "      <th>1</th>\n",
       "    </tr>\n",
       "  </thead>\n",
       "  <tbody>\n",
       "    <tr>\n",
       "      <td>0</td>\n",
       "      <td>Software Engineer</td>\n",
       "      <td>Irvine, CA</td>\n",
       "    </tr>\n",
       "    <tr>\n",
       "      <td>1</td>\n",
       "      <td>Sr. Software Test Engineer IInew</td>\n",
       "      <td>Irvine, CA</td>\n",
       "    </tr>\n",
       "    <tr>\n",
       "      <td>2</td>\n",
       "      <td>Software Engineer</td>\n",
       "      <td>Los Angeles, CA</td>\n",
       "    </tr>\n",
       "    <tr>\n",
       "      <td>3</td>\n",
       "      <td>Software Engineer- Entry Level</td>\n",
       "      <td>Irvine, CA 92614 (Business District area)</td>\n",
       "    </tr>\n",
       "    <tr>\n",
       "      <td>4</td>\n",
       "      <td>Software Engineer, University Gradnew</td>\n",
       "      <td>Burbank, CA</td>\n",
       "    </tr>\n",
       "    <tr>\n",
       "      <td>5</td>\n",
       "      <td>Software Developer</td>\n",
       "      <td>Newport Beach, CA 92660</td>\n",
       "    </tr>\n",
       "    <tr>\n",
       "      <td>6</td>\n",
       "      <td>Software Engineernew</td>\n",
       "      <td>Irvine, CA</td>\n",
       "    </tr>\n",
       "    <tr>\n",
       "      <td>7</td>\n",
       "      <td>Software Engineer for Game Control Systems and...</td>\n",
       "      <td>Irvine, CA</td>\n",
       "    </tr>\n",
       "    <tr>\n",
       "      <td>8</td>\n",
       "      <td>Jr Full Stack Software Engineer</td>\n",
       "      <td>Los Angeles, CA 90071 (Downtown area)</td>\n",
       "    </tr>\n",
       "    <tr>\n",
       "      <td>9</td>\n",
       "      <td>Software Developer</td>\n",
       "      <td>La Puente, CA 91744</td>\n",
       "    </tr>\n",
       "  </tbody>\n",
       "</table>\n",
       "</div>"
      ],
      "text/plain": [
       "                                                   0  \\\n",
       "0                                  Software Engineer   \n",
       "1                   Sr. Software Test Engineer IInew   \n",
       "2                                  Software Engineer   \n",
       "3                     Software Engineer- Entry Level   \n",
       "4              Software Engineer, University Gradnew   \n",
       "5                                 Software Developer   \n",
       "6                               Software Engineernew   \n",
       "7  Software Engineer for Game Control Systems and...   \n",
       "8                    Jr Full Stack Software Engineer   \n",
       "9                                 Software Developer   \n",
       "\n",
       "                                           1  \n",
       "0                                 Irvine, CA  \n",
       "1                                 Irvine, CA  \n",
       "2                            Los Angeles, CA  \n",
       "3  Irvine, CA 92614 (Business District area)  \n",
       "4                                Burbank, CA  \n",
       "5                    Newport Beach, CA 92660  \n",
       "6                                 Irvine, CA  \n",
       "7                                 Irvine, CA  \n",
       "8      Los Angeles, CA 90071 (Downtown area)  \n",
       "9                        La Puente, CA 91744  "
      ]
     },
     "execution_count": 19,
     "metadata": {},
     "output_type": "execute_result"
    }
   ],
   "source": [
    "#convert newlist to pandas dataframe\n",
    "updated_list_df = pd.DataFrame(new_list)\n",
    "updated_list_df"
   ]
  },
  {
   "cell_type": "code",
   "execution_count": 20,
   "metadata": {},
   "outputs": [
    {
     "data": {
      "text/html": [
       "<div>\n",
       "<style scoped>\n",
       "    .dataframe tbody tr th:only-of-type {\n",
       "        vertical-align: middle;\n",
       "    }\n",
       "\n",
       "    .dataframe tbody tr th {\n",
       "        vertical-align: top;\n",
       "    }\n",
       "\n",
       "    .dataframe thead th {\n",
       "        text-align: right;\n",
       "    }\n",
       "</style>\n",
       "<table border=\"1\" class=\"dataframe\">\n",
       "  <thead>\n",
       "    <tr style=\"text-align: right;\">\n",
       "      <th></th>\n",
       "      <th>Job_Title</th>\n",
       "      <th>Location</th>\n",
       "    </tr>\n",
       "  </thead>\n",
       "  <tbody>\n",
       "    <tr>\n",
       "      <td>0</td>\n",
       "      <td>Software Engineer</td>\n",
       "      <td>Irvine, CA</td>\n",
       "    </tr>\n",
       "    <tr>\n",
       "      <td>1</td>\n",
       "      <td>Sr. Software Test Engineer IInew</td>\n",
       "      <td>Irvine, CA</td>\n",
       "    </tr>\n",
       "    <tr>\n",
       "      <td>2</td>\n",
       "      <td>Software Engineer</td>\n",
       "      <td>Los Angeles, CA</td>\n",
       "    </tr>\n",
       "    <tr>\n",
       "      <td>3</td>\n",
       "      <td>Software Engineer- Entry Level</td>\n",
       "      <td>Irvine, CA 92614 (Business District area)</td>\n",
       "    </tr>\n",
       "    <tr>\n",
       "      <td>4</td>\n",
       "      <td>Software Engineer, University Gradnew</td>\n",
       "      <td>Burbank, CA</td>\n",
       "    </tr>\n",
       "    <tr>\n",
       "      <td>5</td>\n",
       "      <td>Software Developer</td>\n",
       "      <td>Newport Beach, CA 92660</td>\n",
       "    </tr>\n",
       "    <tr>\n",
       "      <td>6</td>\n",
       "      <td>Software Engineernew</td>\n",
       "      <td>Irvine, CA</td>\n",
       "    </tr>\n",
       "    <tr>\n",
       "      <td>7</td>\n",
       "      <td>Software Engineer for Game Control Systems and...</td>\n",
       "      <td>Irvine, CA</td>\n",
       "    </tr>\n",
       "    <tr>\n",
       "      <td>8</td>\n",
       "      <td>Jr Full Stack Software Engineer</td>\n",
       "      <td>Los Angeles, CA 90071 (Downtown area)</td>\n",
       "    </tr>\n",
       "    <tr>\n",
       "      <td>9</td>\n",
       "      <td>Software Developer</td>\n",
       "      <td>La Puente, CA 91744</td>\n",
       "    </tr>\n",
       "  </tbody>\n",
       "</table>\n",
       "</div>"
      ],
      "text/plain": [
       "                                           Job_Title  \\\n",
       "0                                  Software Engineer   \n",
       "1                   Sr. Software Test Engineer IInew   \n",
       "2                                  Software Engineer   \n",
       "3                     Software Engineer- Entry Level   \n",
       "4              Software Engineer, University Gradnew   \n",
       "5                                 Software Developer   \n",
       "6                               Software Engineernew   \n",
       "7  Software Engineer for Game Control Systems and...   \n",
       "8                    Jr Full Stack Software Engineer   \n",
       "9                                 Software Developer   \n",
       "\n",
       "                                    Location  \n",
       "0                                 Irvine, CA  \n",
       "1                                 Irvine, CA  \n",
       "2                            Los Angeles, CA  \n",
       "3  Irvine, CA 92614 (Business District area)  \n",
       "4                                Burbank, CA  \n",
       "5                    Newport Beach, CA 92660  \n",
       "6                                 Irvine, CA  \n",
       "7                                 Irvine, CA  \n",
       "8      Los Angeles, CA 90071 (Downtown area)  \n",
       "9                        La Puente, CA 91744  "
      ]
     },
     "execution_count": 20,
     "metadata": {},
     "output_type": "execute_result"
    }
   ],
   "source": [
    "#append colums keys\n",
    "New_job_location_df = pd.DataFrame(new_list, columns=['Job_Title', 'Location'])\n",
    "New_job_location_df"
   ]
  },
  {
   "cell_type": "code",
   "execution_count": 21,
   "metadata": {},
   "outputs": [
    {
     "data": {
      "text/plain": [
       "<pymongo.results.InsertManyResult at 0x248836dfc08>"
      ]
     },
     "execution_count": 21,
     "metadata": {},
     "output_type": "execute_result"
    }
   ],
   "source": [
    "#Define database and collection\n",
    "#Database = Indeed_db\n",
    "#Collections = Software_jobs\n",
    "client.Indeed_db.software_jobs.insert_many(New_job_location_df.to_dict('records'))"
   ]
  },
  {
   "cell_type": "code",
   "execution_count": null,
   "metadata": {},
   "outputs": [],
   "source": [
    "#Done"
   ]
  }
 ],
 "metadata": {
  "kernelspec": {
   "display_name": "Python 3",
   "language": "python",
   "name": "python3"
  },
  "language_info": {
   "codemirror_mode": {
    "name": "ipython",
    "version": 3
   },
   "file_extension": ".py",
   "mimetype": "text/x-python",
   "name": "python",
   "nbconvert_exporter": "python",
   "pygments_lexer": "ipython3",
   "version": "3.7.4"
  }
 },
 "nbformat": 4,
 "nbformat_minor": 2
}
