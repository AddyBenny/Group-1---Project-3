{
 "cells": [
  {
   "cell_type": "code",
   "execution_count": 4,
   "metadata": {},
   "outputs": [],
   "source": [
    "#import Dependencies\n",
    "from splinter import Browser\n",
    "from bs4 import BeautifulSoup\n",
    "import pandas as pd\n",
    "import pymongo "
   ]
  },
  {
   "cell_type": "code",
   "execution_count": 5,
   "metadata": {},
   "outputs": [],
   "source": [
    "#executable path for window users\n",
    "executable_path = {'executable_path': 'chromedriver.exe'}\n",
    "browser = Browser('chrome', **executable_path, headless=False)"
   ]
  },
  {
   "cell_type": "code",
   "execution_count": 6,
   "metadata": {},
   "outputs": [],
   "source": [
    "#Executable path for Mac Users\n",
    "# executable_path = {'executable_path': '/usr/local/bin/chromedriver'}\n",
    "# browser = Browser('chrome', **executable_path, headless=False)"
   ]
  },
  {
   "cell_type": "code",
   "execution_count": 7,
   "metadata": {},
   "outputs": [],
   "source": [
    "#url of page to be scrapped from indeed \n",
    "url = 'https://www.indeed.com/jobs?q=Data+Scientist&l=Irvine%2C+CA&radius=100'\n",
    "browser.visit(url)"
   ]
  },
  {
   "cell_type": "code",
   "execution_count": 8,
   "metadata": {},
   "outputs": [],
   "source": [
    "#BeautifulSoup Parser\n",
    "html = browser.html\n",
    "soup = BeautifulSoup(html, 'html.parser')"
   ]
  },
  {
   "cell_type": "code",
   "execution_count": 9,
   "metadata": {},
   "outputs": [
    {
     "name": "stdout",
     "output_type": "stream",
     "text": [
      "[<h2 class=\"title\">\n",
      "<a class=\"jobtitle turnstileLink recent-job\" data-tn-element=\"jobTitle\" href=\"/pagead/clk?mo=r&amp;ad=-6NYlbfkN0AnQhcI30S35noZYX7fptC9JHDBVuSQzNzWdPUWRF9nG_TgfFeJcuyvoA_Dmg8a2SWU0CWz29S6MT30H2yhzzsBpPN9y0B6egimIjGTLXX1oUyXsUX7-ksrT2fHw1ZxE675VWanqeqU3t9LUAatd_nATymTC1UVJ8jmJ9jwNZRqU2KUNNNYC4rxJsvpiM-d7AldzQfnLKOCD5713x_i5GSb0lVRcjby777LtXSaPcCM4xYvHWQO_Xo6ZgDFNihMfdMsSee66UXsUOK46tWvVQesV9tf1uYKP9PKGGfowqnHvOGpohGeHuLjm9sAPf-487arOgT0ZTpep80_sdTGJYluz4NZrz5TrH3eruzPzHv44QrE7_7-WtgugIkFcqKuscbQCTZLHpS9uo90s7HyJIvoZHbgU1nPieTSiGqQyMXbih0x1dPJLtrEo4ZQXE-DndB7Ah63na4y91e-8vrd1F-s&amp;p=0&amp;fvj=1&amp;vjs=3\" id=\"sja0\" onclick=\"setRefineByCookie(['radius']); sjoc('sja0', 1); convCtr('SJ'); rclk(this,jobmap[0],true,1);\" onmousedown=\"sjomd('sja0'); clk('sja0'); rclk(this,jobmap[0],1);\" rel=\"noopener nofollow\" target=\"_blank\" title=\"Educational Data Scientist\">\n",
      "Educational <b>Data</b> <b>Scientist</b></a>\n",
      "</h2>, <h2 class=\"title\">\n",
      "<a class=\"jobtitle turnstileLink\" data-tn-element=\"jobTitle\" href=\"/pagead/clk?mo=r&amp;ad=-6NYlbfkN0AMr11YIOo206dX9CE572HoIBzjTozchv3QrfVeNVhstmAbPwFeZPDdH5w4MW3uUm59zxvwZmewuUare5btROGxqWx-_fSqJeoXHzgLaa8yIT3c-7Q_Qgpv8mTModHRHthZsuQggKKJ9TnHriBpY7kvmeTBHlvkjXeCuKGqTWnOLk1Ejk3aguHuq88E-5LTjzz7MWqLQ2Gdchhd__XXqAdz1xUtHGMmB4TmDtzIMxpVZzX5_zEEWR9SXl7ItRcEpzVqQPItjr8FIXvRz4n7ecQYuzZ9iRMFJqYZmsW3o6U9woLE2S5lJ0iQr4nAK-zekze-tmT_JVyZizDorSu6OvjgL16AFDUpu2CzdG9HupktumqGTf9RN9Kcm4uXSrGIzqWHqsXzUVKmvbY1BwN2KUBvdDlsfJI7xtFcj-Jh5nQzD_uXoH7UdAqeqBm9Pmr2ozdXX-D2DkUvC1-kTUZiFWduGUVsKkNbS_O5ld0ZEzVIFzxlwROGpq8SVVlydmCSUqw=&amp;p=1&amp;fvj=1&amp;vjs=3\" id=\"sja1\" onclick=\"setRefineByCookie(['radius']); sjoc('sja1', 1); convCtr('SJ'); rclk(this,jobmap[1],true,1);\" onmousedown=\"sjomd('sja1'); clk('sja1'); rclk(this,jobmap[1],1);\" rel=\"noopener nofollow\" target=\"_blank\" title=\"Data Scientist\">\n",
      "<b>Data</b> <b>Scientist</b></a>\n",
      "<span class=\"new\">new</span></h2>, <h2 class=\"title\">\n",
      "<a class=\"jobtitle turnstileLink\" data-tn-element=\"jobTitle\" href=\"/pagead/clk?mo=r&amp;ad=-6NYlbfkN0ClvsRMZZYbWkncYKklQZhomgGvtzxN2NDL0Yep_oEtFRBSc398mSurhg85pZ9IK4hwZENIdnfMrd9vgmYaldPQpYZYmqd_RWsMa-UQUHq33lrt1JtH8E7ZxWSo7ImAkgsQHQpZ3y3tmy7gmAY8NN36POy8Dj4luchUDGH02DdYrytAUrZpWHZzq5cSROI0zUQbql7lXz9ojehjXEmU_GlWW1RjdjmFQAABecho3bE3Sicw48LQWOl4IVUqRasDGXkpWq8rxuaRhl8tIN23R7EUiVlc8ipp_hgbpxgedUATBlOMSdL6bsfuYIaqWAcz0exppRjT8J4GBXJn6hB6IqmaawZUftGny70MzjB-QbRIO19CoKpnMQdg-GuNXESPQhOr9z2sbMcNHEiajRmFwQ6S&amp;p=2&amp;fvj=0&amp;vjs=3\" id=\"sja2\" onclick=\"setRefineByCookie(['radius']); sjoc('sja2', 0); convCtr('SJ'); rclk(this,jobmap[2],true,0);\" onmousedown=\"sjomd('sja2'); clk('sja2'); rclk(this,jobmap[2],0);\" rel=\"noopener nofollow\" target=\"_blank\" title=\"Senior Data Scientist\">\n",
      "Senior <b>Data</b> <b>Scientist</b></a>\n",
      "<span class=\"new\">new</span></h2>, <h2 class=\"title\">\n",
      "<a class=\"jobtitle turnstileLink\" data-tn-element=\"jobTitle\" href=\"/pagead/clk?mo=r&amp;ad=-6NYlbfkN0ClvsRMZZYbWkncYKklQZhomgGvtzxN2NDL0Yep_oEtFRBSc398mSurhg85pZ9IK4hwZENIdnfMrfT31QlmgQnUNsllJCuzCyoL6Y8z-8PyQo2okYl75ZdJ1F6hsfqRCcpp1Z-R9T2X6kucCAyUQ1kNIaJa22lGA5UtOENvvPa8OzgKk16ihMlXu6A-wTP58qta_cjE6Drv_siRzx64oQJMnPVdTu_UTotH1eTYLyfe5RAkB7xPJl_c9PqpqcXFEdEvS1nLS1d1vqR4aowzF22HTxT32P-az25IiAmurN6ORheZeBvKkWnEHb_nBNP1GMrKImBJHGkICeGsThOjI1PwhiTPBCHS79ChUhFYL7hqdMgBjXPC7Falu59dETm6eVVI-qXe_YDHsA==&amp;p=3&amp;fvj=0&amp;vjs=3\" id=\"sja3\" onclick=\"setRefineByCookie(['radius']); sjoc('sja3', 0); convCtr('SJ'); rclk(this,jobmap[3],true,0);\" onmousedown=\"sjomd('sja3'); clk('sja3'); rclk(this,jobmap[3],0);\" rel=\"noopener nofollow\" target=\"_blank\" title=\"Staff Data Scientist - Analytics\">\n",
      "Staff <b>Data</b> <b>Scientist</b> - Analytics</a>\n",
      "<span class=\"new\">new</span></h2>, <h2 class=\"title\">\n",
      "<a class=\"jobtitle turnstileLink\" data-tn-element=\"jobTitle\" href=\"/pagead/clk?mo=r&amp;ad=-6NYlbfkN0ClvsRMZZYbWkncYKklQZhomgGvtzxN2NDL0Yep_oEtFRBSc398mSurhg85pZ9IK4hwZENIdnfMrQ6jY9y4BiMTjFetE6lV34ljRGQOt0c--tGxHypRVfT_9BDTHYVgA85tPr6gqrXWhudRWWEWingJnDQFZKU-Qdmamvrl0sj3Z9_shtezeqE11cIcC4JVTcWxpPd9HYsrx14V7fyxvxzCc8_SVM-fOxAmusrJfGdSBymigJzAevS7wI_ev3qHy-s6HxnIbQZwJTrvgBWvlhPmqS8KjzXM0EPr_bak_RjMdXxGxK68DpRJd4nQlR_SOVrpU9US7mLEvQjK4fZjGKi_wB0E6NSv5G_vELAd6b7U-szGbW9B_b_sOQGDQOMXSAsc7whIhWeOyg==&amp;p=4&amp;fvj=0&amp;vjs=3\" id=\"sja4\" onclick=\"setRefineByCookie(['radius']); sjoc('sja4', 0); convCtr('SJ'); rclk(this,jobmap[4],true,0);\" onmousedown=\"sjomd('sja4'); clk('sja4'); rclk(this,jobmap[4],0);\" rel=\"noopener nofollow\" target=\"_blank\" title=\"Staff Data Scientist\">\n",
      "Staff <b>Data</b> <b>Scientist</b></a>\n",
      "<span class=\"new\">new</span></h2>, <h2 class=\"title\">\n",
      "<a class=\"jobtitle turnstileLink\" data-tn-element=\"jobTitle\" href=\"/pagead/clk?mo=r&amp;ad=-6NYlbfkN0BvQeUJ0cfNniX7CCgc4KydoCBbpnSCA7A18Rgk6d9TuQwfr8xUPdI-9H9njcVR5cezeh8s2wAHtKx_vlb3aaq5GbIrM3Eva384Ftljt-FkfHp0ilIKWefU4jrJhfoZ-Ky77DvrCBUsgCMZn3BnuHHLDgm4TuMhkFvD-2JvLblQSWhmAN4gAeifbzZnmwe8Dr86lx4mpO_AMAYPheQIW13drnSRBWqV74gKcHynQ7mDyIb-9zpD8CP2H_fh5AsnxxfrMMOK15TjqNue8SjwdDjVrSpz1faOALeStf2GbzNzu7dtDkUo8QDR8OrtPCmfzjo6c3zJf5qJi-GgI43R2ue5s_0zyk_dSt5mPJBFa14HYLwhpfVt-HvpdtCQ73ZXyuTivelp4j9dWJ49qzRahs3gD4OFyn18NdHL4o4Zp3AaqVBhfw6tvsWLiSgB15jhV9h61pBbQ-zSVMSvpU7ItuvY3ih66sIN3ec=&amp;p=5&amp;fvj=1&amp;vjs=3\" id=\"sja5\" onclick=\"setRefineByCookie(['radius']); sjoc('sja5', 1); convCtr('SJ'); rclk(this,jobmap[5],true,1);\" onmousedown=\"sjomd('sja5'); clk('sja5'); rclk(this,jobmap[5],1);\" rel=\"noopener nofollow\" target=\"_blank\" title=\"Senior Health Data Analyst (Remote / Tableau experience required)\">\n",
      "Senior Health <b>Data</b> Analyst (Remote / Tableau experience requ...</a>\n",
      "<span class=\"new\">new</span></h2>, <h2 class=\"title\">\n",
      "<a class=\"jobtitle turnstileLink\" data-tn-element=\"jobTitle\" href=\"/company/Mobile-Programming/jobs/Data-Scientist-df4e6af65c173ecb?fccid=d0377b42bd69efd8&amp;vjs=3\" id=\"jl_df4e6af65c173ecb\" onclick=\"setRefineByCookie(['radius']); return rclk(this,jobmap[6],true,0);\" onmousedown=\"return rclk(this,jobmap[6],0);\" rel=\"noopener nofollow\" target=\"_blank\" title=\"Data Scientist\">\n",
      "<b>Data</b> <b>Scientist</b></a>\n",
      "<span class=\"new\">new</span></h2>, <h2 class=\"title\">\n",
      "<a class=\"jobtitle turnstileLink\" data-tn-element=\"jobTitle\" href=\"/rc/clk?jk=8c14ad33311ec5b3&amp;fccid=87d7af0ec9cd5df0&amp;vjs=3\" id=\"jl_8c14ad33311ec5b3\" onclick=\"setRefineByCookie(['radius']); return rclk(this,jobmap[7],true,0);\" onmousedown=\"return rclk(this,jobmap[7],0);\" rel=\"noopener nofollow\" target=\"_blank\" title=\"Data Scientist\">\n",
      "<b>Data</b> <b>Scientist</b></a>\n",
      "</h2>, <h2 class=\"title\">\n",
      "<a class=\"jobtitle turnstileLink\" data-tn-element=\"jobTitle\" href=\"/company/GradTests/jobs/Data-Scientist-61369985007480f5?fccid=3b57c72e54f9233d&amp;vjs=3\" id=\"jl_61369985007480f5\" onclick=\"setRefineByCookie(['radius']); return rclk(this,jobmap[8],true,1);\" onmousedown=\"return rclk(this,jobmap[8],1);\" rel=\"noopener nofollow\" target=\"_blank\" title=\"Data Scientist\">\n",
      "<b>Data</b> <b>Scientist</b></a>\n",
      "</h2>, <h2 class=\"title\">\n",
      "<a class=\"jobtitle turnstileLink\" data-tn-element=\"jobTitle\" href=\"/rc/clk?jk=26e1065d7f6d9c88&amp;fccid=8f3c0373bcfa5520&amp;vjs=3\" id=\"jl_26e1065d7f6d9c88\" onclick=\"setRefineByCookie(['radius']); return rclk(this,jobmap[9],true,0);\" onmousedown=\"return rclk(this,jobmap[9],0);\" rel=\"noopener nofollow\" target=\"_blank\" title=\"Data Scientist\">\n",
      "<b>Data</b> <b>Scientist</b></a>\n",
      "<span class=\"new\">new</span></h2>, <h2 class=\"title\">\n",
      "<a class=\"jobtitle turnstileLink\" data-tn-element=\"jobTitle\" href=\"/rc/clk?jk=e48719183cfe2f66&amp;fccid=ba0b4ef452449c10&amp;vjs=3\" id=\"jl_e48719183cfe2f66\" onclick=\"setRefineByCookie(['radius']); return rclk(this,jobmap[10],true,0);\" onmousedown=\"return rclk(this,jobmap[10],0);\" rel=\"noopener nofollow\" target=\"_blank\" title=\"Data Scientist\">\n",
      "<b>Data</b> <b>Scientist</b></a>\n",
      "</h2>, <h2 class=\"title\">\n",
      "<a class=\"jobtitle turnstileLink\" data-tn-element=\"jobTitle\" href=\"/rc/clk?jk=a2e9b786626bdcf5&amp;fccid=5eaae7a6faec1749&amp;vjs=3\" id=\"jl_a2e9b786626bdcf5\" onclick=\"setRefineByCookie(['radius']); return rclk(this,jobmap[11],true,0);\" onmousedown=\"return rclk(this,jobmap[11],0);\" rel=\"noopener nofollow\" target=\"_blank\" title=\"Data Scientist\">\n",
      "<b>Data</b> <b>Scientist</b></a>\n",
      "</h2>, <h2 class=\"title\">\n",
      "<a class=\"jobtitle turnstileLink\" data-tn-element=\"jobTitle\" href=\"/rc/clk?jk=539843aa92aaf8ce&amp;fccid=a23e5e2f20b1aac4&amp;vjs=3\" id=\"jl_539843aa92aaf8ce\" onclick=\"setRefineByCookie(['radius']); return rclk(this,jobmap[12],true,0);\" onmousedown=\"return rclk(this,jobmap[12],0);\" rel=\"noopener nofollow\" target=\"_blank\" title=\"Data Scientist\">\n",
      "<b>Data</b> <b>Scientist</b></a>\n",
      "</h2>, <h2 class=\"title\">\n",
      "<a class=\"jobtitle turnstileLink\" data-tn-element=\"jobTitle\" href=\"/company/Nihon-Kohden-America/jobs/Senior-Data-Scientist-b456cb2212135131?fccid=54764032272f66ae&amp;vjs=3\" id=\"jl_b456cb2212135131\" onclick=\"setRefineByCookie(['radius']); return rclk(this,jobmap[13],true,1);\" onmousedown=\"return rclk(this,jobmap[13],1);\" rel=\"noopener nofollow\" target=\"_blank\" title=\"Sr. Data Scientist\">\n",
      "Sr. <b>Data</b> <b>Scientist</b></a>\n",
      "</h2>, <h2 class=\"title\">\n",
      "<a class=\"jobtitle turnstileLink\" data-tn-element=\"jobTitle\" href=\"/rc/clk?jk=30a3bcd7b43db91d&amp;fccid=3bcef03e34391ca8&amp;vjs=3\" id=\"jl_30a3bcd7b43db91d\" onclick=\"setRefineByCookie(['radius']); return rclk(this,jobmap[14],true,0);\" onmousedown=\"return rclk(this,jobmap[14],0);\" rel=\"noopener nofollow\" target=\"_blank\" title=\"Data Scientist\">\n",
      "<b>Data</b> <b>Scientist</b></a>\n",
      "</h2>]\n"
     ]
    }
   ],
   "source": [
    "#result to return the job title\n",
    "titles = soup.find_all(\"h2\", class_ = \"title\")\n",
    "print(titles)\n",
    "#title[1].get_text()"
   ]
  },
  {
   "cell_type": "code",
   "execution_count": 10,
   "metadata": {
    "scrolled": true
   },
   "outputs": [
    {
     "name": "stdout",
     "output_type": "stream",
     "text": [
      "\n",
      "\n",
      "Educational Data Scientist\n",
      "\n",
      "\n",
      "\n",
      "Data Scientist\n",
      "new\n",
      "\n",
      "\n",
      "Senior Data Scientist\n",
      "new\n",
      "\n",
      "\n",
      "Staff Data Scientist - Analytics\n",
      "new\n",
      "\n",
      "\n",
      "Staff Data Scientist\n",
      "new\n",
      "\n",
      "\n",
      "Senior Health Data Analyst (Remote / Tableau experience requ...\n",
      "new\n",
      "\n",
      "\n",
      "Data Scientist\n",
      "new\n",
      "\n",
      "\n",
      "Data Scientist\n",
      "\n",
      "\n",
      "\n",
      "Data Scientist\n",
      "\n",
      "\n",
      "\n",
      "Data Scientist\n",
      "new\n",
      "\n",
      "\n",
      "Data Scientist\n",
      "\n",
      "\n",
      "\n",
      "Data Scientist\n",
      "\n",
      "\n",
      "\n",
      "Data Scientist\n",
      "\n",
      "\n",
      "\n",
      "Sr. Data Scientist\n",
      "\n",
      "\n",
      "\n",
      "Data Scientist\n",
      "\n"
     ]
    }
   ],
   "source": [
    "#result to be Returned as an iterable list\n",
    "for title in titles:\n",
    "    job_title = title.get_text()\n",
    "    print(job_title)\n",
    "    "
   ]
  },
  {
   "cell_type": "code",
   "execution_count": 11,
   "metadata": {},
   "outputs": [
    {
     "name": "stdout",
     "output_type": "stream",
     "text": [
      "not found\n"
     ]
    }
   ],
   "source": [
    "\n",
    "try:\n",
    "    dismiss = browser.find_by_xpath('/html/body/div[2]/div/section/div/div[2]')\n",
    "    more_jobs = browser.find_by_xpath('/html/body/table[2]/tbody/tr/td/table/tbody/tr/td[1]/nav/div/ul/li[6]/a/span')\n",
    "    no_thanks = browser.find_by_xpath('/html/body/div[3]/div[2]/div[4]/div[3]/div[2]/a')\n",
    "    dismiss.first.click()\n",
    "    more_jobs.first.click()\n",
    "    no_thanks.first.click()\n",
    "except:\n",
    "    print(\"not found\")\n"
   ]
  },
  {
   "cell_type": "code",
   "execution_count": 12,
   "metadata": {},
   "outputs": [
    {
     "name": "stdout",
     "output_type": "stream",
     "text": [
      "page: 1 -------------\n",
      "\n",
      "\n",
      "Educational Data Scientist\n",
      "\n",
      "page: 1 -------------\n",
      "\n",
      "\n",
      "Data Scientist\n",
      "new\n",
      "page: 1 -------------\n",
      "\n",
      "\n",
      "Senior Data Scientist\n",
      "new\n",
      "page: 1 -------------\n",
      "\n",
      "\n",
      "Staff Data Scientist - Analytics\n",
      "new\n",
      "page: 1 -------------\n",
      "\n",
      "\n",
      "Staff Data Scientist\n",
      "new\n",
      "page: 1 -------------\n",
      "\n",
      "\n",
      "Senior Health Data Analyst (Remote / Tableau experience requ...\n",
      "new\n",
      "page: 1 -------------\n",
      "\n",
      "\n",
      "Data Scientist\n",
      "new\n",
      "page: 1 -------------\n",
      "\n",
      "\n",
      "Data Scientist\n",
      "\n",
      "page: 1 -------------\n",
      "\n",
      "\n",
      "Data Scientist\n",
      "\n",
      "page: 1 -------------\n",
      "\n",
      "\n",
      "Data Scientist\n",
      "new\n",
      "page: 1 -------------\n",
      "\n",
      "\n",
      "Data Scientist\n",
      "\n",
      "page: 1 -------------\n",
      "\n",
      "\n",
      "Data Scientist\n",
      "\n",
      "page: 1 -------------\n",
      "\n",
      "\n",
      "Data Scientist\n",
      "\n",
      "page: 1 -------------\n",
      "\n",
      "\n",
      "Sr. Data Scientist\n",
      "\n",
      "page: 1 -------------\n",
      "\n",
      "\n",
      "Data Scientist\n",
      "\n"
     ]
    }
   ],
   "source": [
    "#Empty list to append the the result and index 0 is an int \n",
    "job_titles = [0]\n",
    " \n",
    " #loop through the result    \n",
    "for x in range(1, 2):\n",
    "    titles = soup.find_all(\"h2\", class_ = \"title\")\n",
    "    for title in titles:\n",
    "        job_titles.append(title.text)\n",
    "        print('page:', x, '-------------')\n",
    "        print(title.text)\n",
    "        browser.find_by_xpath('/html/body/table[2]/tbody/tr/td/table/tbody/tr/td[1]/nav/div/ul/li[6]/a/span/span')"
   ]
  },
  {
   "cell_type": "code",
   "execution_count": 13,
   "metadata": {},
   "outputs": [],
   "source": [
    "#Use replace to print out a clean job title\n",
    "clean_job_titles = []\n",
    "\n",
    "#loop through result\n",
    "for job in job_titles[1:]:\n",
    "    clean_job_title = job.replace('\\n', '')\n",
    "    clean_job_titles.append(clean_job_title)"
   ]
  },
  {
   "cell_type": "code",
   "execution_count": 14,
   "metadata": {},
   "outputs": [
    {
     "name": "stdout",
     "output_type": "stream",
     "text": [
      "['Educational Data Scientist', 'Data Scientistnew', 'Senior Data Scientistnew', 'Staff Data Scientist - Analyticsnew', 'Staff Data Scientistnew', 'Senior Health Data Analyst (Remote / Tableau experience requ...new', 'Data Scientistnew', 'Data Scientist', 'Data Scientist', 'Data Scientistnew', 'Data Scientist', 'Data Scientist', 'Data Scientist', 'Sr. Data Scientist', 'Data Scientist']\n"
     ]
    }
   ],
   "source": [
    "#print clean job titles to check\n",
    "print(clean_job_titles)"
   ]
  },
  {
   "cell_type": "code",
   "execution_count": 15,
   "metadata": {},
   "outputs": [
    {
     "data": {
      "text/plain": [
       "[<span class=\"location accessible-contrast-color-location\">Irvine, CA</span>,\n",
       " <span class=\"location accessible-contrast-color-location\">Irvine, CA 92618 <span style=\"font-size: smaller\">(East Industrial Complex area)</span></span>,\n",
       " <span class=\"location accessible-contrast-color-location\">Los Angeles, CA</span>,\n",
       " <span class=\"location accessible-contrast-color-location\">Pasadena, CA 91101 <span style=\"font-size: smaller\">(South area)</span></span>,\n",
       " <span class=\"location accessible-contrast-color-location\">Irvine, CA</span>,\n",
       " <span class=\"location accessible-contrast-color-location\">Irvine, CA 92617 <span style=\"font-size: smaller\">(Research Park area)</span></span>,\n",
       " <span class=\"location accessible-contrast-color-location\">Irvine, CA 92617 <span style=\"font-size: smaller\">(Research Park area)</span></span>,\n",
       " <span class=\"location accessible-contrast-color-location\">Irvine, CA 92618 <span style=\"font-size: smaller\">(Irvine Health and Science Complex area)</span></span>,\n",
       " <span class=\"location accessible-contrast-color-location\">San Diego, CA 92127</span>]"
      ]
     },
     "execution_count": 15,
     "metadata": {},
     "output_type": "execute_result"
    }
   ],
   "source": [
    "#result to return the job locations\n",
    "locations = soup.find_all(\"span\", class_ = \"location accessible-contrast-color-location\")\n",
    "locations"
   ]
  },
  {
   "cell_type": "code",
   "execution_count": 16,
   "metadata": {},
   "outputs": [
    {
     "name": "stdout",
     "output_type": "stream",
     "text": [
      "page: 1 -------------\n",
      "Irvine, CA\n",
      "page: 1 -------------\n",
      "Irvine, CA 92618 (East Industrial Complex area)\n",
      "page: 1 -------------\n",
      "Los Angeles, CA\n",
      "page: 1 -------------\n",
      "Pasadena, CA 91101 (South area)\n",
      "page: 1 -------------\n",
      "Irvine, CA\n",
      "page: 1 -------------\n",
      "Irvine, CA 92617 (Research Park area)\n",
      "page: 1 -------------\n",
      "Irvine, CA 92617 (Research Park area)\n",
      "page: 1 -------------\n",
      "Irvine, CA 92618 (Irvine Health and Science Complex area)\n",
      "page: 1 -------------\n",
      "San Diego, CA 92127\n"
     ]
    }
   ],
   "source": [
    "#Empty list to append the result\n",
    "job_locations = []\n",
    "\n",
    "\n",
    "#loop through the returned result\n",
    "for x in range(1, 2):\n",
    "    locations = soup.find_all(\"span\", class_ = \"location accessible-contrast-color-location\")\n",
    "    for location in locations:\n",
    "        job_locations.append(location.text)\n",
    "        print('page:', x, '-------------')\n",
    "        print(location.text)\n",
    "        browser.find_by_xpath('/html/body/table[2]/tbody/tr/td/table/tbody/tr/td[1]/div[7]/div[1]/span[1]')\n",
    "        "
   ]
  },
  {
   "cell_type": "code",
   "execution_count": 17,
   "metadata": {},
   "outputs": [
    {
     "name": "stdout",
     "output_type": "stream",
     "text": [
      "['Irvine, CA', 'Irvine, CA 92618 (East Industrial Complex area)', 'Los Angeles, CA', 'Pasadena, CA 91101 (South area)', 'Irvine, CA', 'Irvine, CA 92617 (Research Park area)', 'Irvine, CA 92617 (Research Park area)', 'Irvine, CA 92618 (Irvine Health and Science Complex area)', 'San Diego, CA 92127']\n"
     ]
    }
   ],
   "source": [
    "#print job locations\n",
    "print(job_locations)\n",
    "browser.quit()"
   ]
  },
  {
   "cell_type": "code",
   "execution_count": 18,
   "metadata": {},
   "outputs": [],
   "source": [
    "#zip both result into a list\n",
    "new_list = list(zip(clean_job_titles, job_locations))"
   ]
  },
  {
   "cell_type": "code",
   "execution_count": 19,
   "metadata": {},
   "outputs": [
    {
     "name": "stdout",
     "output_type": "stream",
     "text": [
      "[('Educational Data Scientist', 'Irvine, CA'), ('Data Scientistnew', 'Irvine, CA 92618 (East Industrial Complex area)'), ('Senior Data Scientistnew', 'Los Angeles, CA'), ('Staff Data Scientist - Analyticsnew', 'Pasadena, CA 91101 (South area)'), ('Staff Data Scientistnew', 'Irvine, CA'), ('Senior Health Data Analyst (Remote / Tableau experience requ...new', 'Irvine, CA 92617 (Research Park area)'), ('Data Scientistnew', 'Irvine, CA 92617 (Research Park area)'), ('Data Scientist', 'Irvine, CA 92618 (Irvine Health and Science Complex area)'), ('Data Scientist', 'San Diego, CA 92127')]\n"
     ]
    }
   ],
   "source": [
    "#print new_list that has both the job_titiles and locations\n",
    "print(new_list)"
   ]
  },
  {
   "cell_type": "code",
   "execution_count": 20,
   "metadata": {},
   "outputs": [
    {
     "data": {
      "text/plain": [
       "{'Educational Data Scientist': 'Irvine, CA',\n",
       " 'Data Scientistnew': 'Irvine, CA 92617 (Research Park area)',\n",
       " 'Senior Data Scientistnew': 'Los Angeles, CA',\n",
       " 'Staff Data Scientist - Analyticsnew': 'Pasadena, CA 91101 (South area)',\n",
       " 'Staff Data Scientistnew': 'Irvine, CA',\n",
       " 'Senior Health Data Analyst (Remote / Tableau experience requ...new': 'Irvine, CA 92617 (Research Park area)',\n",
       " 'Data Scientist': 'San Diego, CA 92127'}"
      ]
     },
     "execution_count": 20,
     "metadata": {},
     "output_type": "execute_result"
    }
   ],
   "source": [
    "#append list into a python dictionary\n",
    "updated_list = dict(new_list)\n",
    "updated_list"
   ]
  },
  {
   "cell_type": "code",
   "execution_count": 21,
   "metadata": {},
   "outputs": [],
   "source": [
    "#Initialize pymongo to work with MongoDBs\n",
    "#CONNECT MONGO DB\n",
    "conn = 'mongodb://localhost:27017'\n",
    "client = pymongo.MongoClient(conn)"
   ]
  },
  {
   "cell_type": "code",
   "execution_count": 22,
   "metadata": {
    "scrolled": true
   },
   "outputs": [
    {
     "data": {
      "text/html": [
       "<div>\n",
       "<style scoped>\n",
       "    .dataframe tbody tr th:only-of-type {\n",
       "        vertical-align: middle;\n",
       "    }\n",
       "\n",
       "    .dataframe tbody tr th {\n",
       "        vertical-align: top;\n",
       "    }\n",
       "\n",
       "    .dataframe thead th {\n",
       "        text-align: right;\n",
       "    }\n",
       "</style>\n",
       "<table border=\"1\" class=\"dataframe\">\n",
       "  <thead>\n",
       "    <tr style=\"text-align: right;\">\n",
       "      <th></th>\n",
       "      <th>0</th>\n",
       "      <th>1</th>\n",
       "    </tr>\n",
       "  </thead>\n",
       "  <tbody>\n",
       "    <tr>\n",
       "      <td>0</td>\n",
       "      <td>Educational Data Scientist</td>\n",
       "      <td>Irvine, CA</td>\n",
       "    </tr>\n",
       "    <tr>\n",
       "      <td>1</td>\n",
       "      <td>Data Scientistnew</td>\n",
       "      <td>Irvine, CA 92618 (East Industrial Complex area)</td>\n",
       "    </tr>\n",
       "    <tr>\n",
       "      <td>2</td>\n",
       "      <td>Senior Data Scientistnew</td>\n",
       "      <td>Los Angeles, CA</td>\n",
       "    </tr>\n",
       "    <tr>\n",
       "      <td>3</td>\n",
       "      <td>Staff Data Scientist - Analyticsnew</td>\n",
       "      <td>Pasadena, CA 91101 (South area)</td>\n",
       "    </tr>\n",
       "    <tr>\n",
       "      <td>4</td>\n",
       "      <td>Staff Data Scientistnew</td>\n",
       "      <td>Irvine, CA</td>\n",
       "    </tr>\n",
       "    <tr>\n",
       "      <td>5</td>\n",
       "      <td>Senior Health Data Analyst (Remote / Tableau e...</td>\n",
       "      <td>Irvine, CA 92617 (Research Park area)</td>\n",
       "    </tr>\n",
       "    <tr>\n",
       "      <td>6</td>\n",
       "      <td>Data Scientistnew</td>\n",
       "      <td>Irvine, CA 92617 (Research Park area)</td>\n",
       "    </tr>\n",
       "    <tr>\n",
       "      <td>7</td>\n",
       "      <td>Data Scientist</td>\n",
       "      <td>Irvine, CA 92618 (Irvine Health and Science Co...</td>\n",
       "    </tr>\n",
       "    <tr>\n",
       "      <td>8</td>\n",
       "      <td>Data Scientist</td>\n",
       "      <td>San Diego, CA 92127</td>\n",
       "    </tr>\n",
       "  </tbody>\n",
       "</table>\n",
       "</div>"
      ],
      "text/plain": [
       "                                                   0  \\\n",
       "0                         Educational Data Scientist   \n",
       "1                                  Data Scientistnew   \n",
       "2                           Senior Data Scientistnew   \n",
       "3                Staff Data Scientist - Analyticsnew   \n",
       "4                            Staff Data Scientistnew   \n",
       "5  Senior Health Data Analyst (Remote / Tableau e...   \n",
       "6                                  Data Scientistnew   \n",
       "7                                     Data Scientist   \n",
       "8                                     Data Scientist   \n",
       "\n",
       "                                                   1  \n",
       "0                                         Irvine, CA  \n",
       "1    Irvine, CA 92618 (East Industrial Complex area)  \n",
       "2                                    Los Angeles, CA  \n",
       "3                    Pasadena, CA 91101 (South area)  \n",
       "4                                         Irvine, CA  \n",
       "5              Irvine, CA 92617 (Research Park area)  \n",
       "6              Irvine, CA 92617 (Research Park area)  \n",
       "7  Irvine, CA 92618 (Irvine Health and Science Co...  \n",
       "8                                San Diego, CA 92127  "
      ]
     },
     "execution_count": 22,
     "metadata": {},
     "output_type": "execute_result"
    }
   ],
   "source": [
    "#convert newlist to pandas dataframe\n",
    "updated_list_df = pd.DataFrame(new_list)\n",
    "updated_list_df"
   ]
  },
  {
   "cell_type": "code",
   "execution_count": 23,
   "metadata": {
    "scrolled": true
   },
   "outputs": [
    {
     "data": {
      "text/html": [
       "<div>\n",
       "<style scoped>\n",
       "    .dataframe tbody tr th:only-of-type {\n",
       "        vertical-align: middle;\n",
       "    }\n",
       "\n",
       "    .dataframe tbody tr th {\n",
       "        vertical-align: top;\n",
       "    }\n",
       "\n",
       "    .dataframe thead th {\n",
       "        text-align: right;\n",
       "    }\n",
       "</style>\n",
       "<table border=\"1\" class=\"dataframe\">\n",
       "  <thead>\n",
       "    <tr style=\"text-align: right;\">\n",
       "      <th></th>\n",
       "      <th>Job_Title</th>\n",
       "      <th>Location</th>\n",
       "    </tr>\n",
       "  </thead>\n",
       "  <tbody>\n",
       "    <tr>\n",
       "      <td>0</td>\n",
       "      <td>Educational Data Scientist</td>\n",
       "      <td>Irvine, CA</td>\n",
       "    </tr>\n",
       "    <tr>\n",
       "      <td>1</td>\n",
       "      <td>Data Scientistnew</td>\n",
       "      <td>Irvine, CA 92618 (East Industrial Complex area)</td>\n",
       "    </tr>\n",
       "    <tr>\n",
       "      <td>2</td>\n",
       "      <td>Senior Data Scientistnew</td>\n",
       "      <td>Los Angeles, CA</td>\n",
       "    </tr>\n",
       "    <tr>\n",
       "      <td>3</td>\n",
       "      <td>Staff Data Scientist - Analyticsnew</td>\n",
       "      <td>Pasadena, CA 91101 (South area)</td>\n",
       "    </tr>\n",
       "    <tr>\n",
       "      <td>4</td>\n",
       "      <td>Staff Data Scientistnew</td>\n",
       "      <td>Irvine, CA</td>\n",
       "    </tr>\n",
       "    <tr>\n",
       "      <td>5</td>\n",
       "      <td>Senior Health Data Analyst (Remote / Tableau e...</td>\n",
       "      <td>Irvine, CA 92617 (Research Park area)</td>\n",
       "    </tr>\n",
       "    <tr>\n",
       "      <td>6</td>\n",
       "      <td>Data Scientistnew</td>\n",
       "      <td>Irvine, CA 92617 (Research Park area)</td>\n",
       "    </tr>\n",
       "    <tr>\n",
       "      <td>7</td>\n",
       "      <td>Data Scientist</td>\n",
       "      <td>Irvine, CA 92618 (Irvine Health and Science Co...</td>\n",
       "    </tr>\n",
       "    <tr>\n",
       "      <td>8</td>\n",
       "      <td>Data Scientist</td>\n",
       "      <td>San Diego, CA 92127</td>\n",
       "    </tr>\n",
       "  </tbody>\n",
       "</table>\n",
       "</div>"
      ],
      "text/plain": [
       "                                           Job_Title  \\\n",
       "0                         Educational Data Scientist   \n",
       "1                                  Data Scientistnew   \n",
       "2                           Senior Data Scientistnew   \n",
       "3                Staff Data Scientist - Analyticsnew   \n",
       "4                            Staff Data Scientistnew   \n",
       "5  Senior Health Data Analyst (Remote / Tableau e...   \n",
       "6                                  Data Scientistnew   \n",
       "7                                     Data Scientist   \n",
       "8                                     Data Scientist   \n",
       "\n",
       "                                            Location  \n",
       "0                                         Irvine, CA  \n",
       "1    Irvine, CA 92618 (East Industrial Complex area)  \n",
       "2                                    Los Angeles, CA  \n",
       "3                    Pasadena, CA 91101 (South area)  \n",
       "4                                         Irvine, CA  \n",
       "5              Irvine, CA 92617 (Research Park area)  \n",
       "6              Irvine, CA 92617 (Research Park area)  \n",
       "7  Irvine, CA 92618 (Irvine Health and Science Co...  \n",
       "8                                San Diego, CA 92127  "
      ]
     },
     "execution_count": 23,
     "metadata": {},
     "output_type": "execute_result"
    }
   ],
   "source": [
    "#append colums keys\n",
    "New_job_location_df = pd.DataFrame(new_list, columns=['Job_Title', 'Location'])\n",
    "New_job_location_df"
   ]
  },
  {
   "cell_type": "code",
   "execution_count": 35,
   "metadata": {},
   "outputs": [],
   "source": [
    "New_job_location_df['City'] = New_job_location_df['Location'].str.split(',').str[0]"
   ]
  },
  {
   "cell_type": "code",
   "execution_count": 36,
   "metadata": {},
   "outputs": [
    {
     "data": {
      "text/html": [
       "<div>\n",
       "<style scoped>\n",
       "    .dataframe tbody tr th:only-of-type {\n",
       "        vertical-align: middle;\n",
       "    }\n",
       "\n",
       "    .dataframe tbody tr th {\n",
       "        vertical-align: top;\n",
       "    }\n",
       "\n",
       "    .dataframe thead th {\n",
       "        text-align: right;\n",
       "    }\n",
       "</style>\n",
       "<table border=\"1\" class=\"dataframe\">\n",
       "  <thead>\n",
       "    <tr style=\"text-align: right;\">\n",
       "      <th></th>\n",
       "      <th>Job_Title</th>\n",
       "      <th>Location</th>\n",
       "      <th>City</th>\n",
       "    </tr>\n",
       "  </thead>\n",
       "  <tbody>\n",
       "    <tr>\n",
       "      <td>0</td>\n",
       "      <td>Educational Data Scientist</td>\n",
       "      <td>Irvine, CA</td>\n",
       "      <td>Irvine</td>\n",
       "    </tr>\n",
       "    <tr>\n",
       "      <td>1</td>\n",
       "      <td>Data Scientistnew</td>\n",
       "      <td>Irvine, CA 92618 (East Industrial Complex area)</td>\n",
       "      <td>Irvine</td>\n",
       "    </tr>\n",
       "    <tr>\n",
       "      <td>2</td>\n",
       "      <td>Senior Data Scientistnew</td>\n",
       "      <td>Los Angeles, CA</td>\n",
       "      <td>Los Angeles</td>\n",
       "    </tr>\n",
       "    <tr>\n",
       "      <td>3</td>\n",
       "      <td>Staff Data Scientist - Analyticsnew</td>\n",
       "      <td>Pasadena, CA 91101 (South area)</td>\n",
       "      <td>Pasadena</td>\n",
       "    </tr>\n",
       "    <tr>\n",
       "      <td>4</td>\n",
       "      <td>Staff Data Scientistnew</td>\n",
       "      <td>Irvine, CA</td>\n",
       "      <td>Irvine</td>\n",
       "    </tr>\n",
       "    <tr>\n",
       "      <td>5</td>\n",
       "      <td>Senior Health Data Analyst (Remote / Tableau e...</td>\n",
       "      <td>Irvine, CA 92617 (Research Park area)</td>\n",
       "      <td>Irvine</td>\n",
       "    </tr>\n",
       "    <tr>\n",
       "      <td>6</td>\n",
       "      <td>Data Scientistnew</td>\n",
       "      <td>Irvine, CA 92617 (Research Park area)</td>\n",
       "      <td>Irvine</td>\n",
       "    </tr>\n",
       "    <tr>\n",
       "      <td>7</td>\n",
       "      <td>Data Scientist</td>\n",
       "      <td>Irvine, CA 92618 (Irvine Health and Science Co...</td>\n",
       "      <td>Irvine</td>\n",
       "    </tr>\n",
       "    <tr>\n",
       "      <td>8</td>\n",
       "      <td>Data Scientist</td>\n",
       "      <td>San Diego, CA 92127</td>\n",
       "      <td>San Diego</td>\n",
       "    </tr>\n",
       "  </tbody>\n",
       "</table>\n",
       "</div>"
      ],
      "text/plain": [
       "                                           Job_Title  \\\n",
       "0                         Educational Data Scientist   \n",
       "1                                  Data Scientistnew   \n",
       "2                           Senior Data Scientistnew   \n",
       "3                Staff Data Scientist - Analyticsnew   \n",
       "4                            Staff Data Scientistnew   \n",
       "5  Senior Health Data Analyst (Remote / Tableau e...   \n",
       "6                                  Data Scientistnew   \n",
       "7                                     Data Scientist   \n",
       "8                                     Data Scientist   \n",
       "\n",
       "                                            Location         City  \n",
       "0                                         Irvine, CA       Irvine  \n",
       "1    Irvine, CA 92618 (East Industrial Complex area)       Irvine  \n",
       "2                                    Los Angeles, CA  Los Angeles  \n",
       "3                    Pasadena, CA 91101 (South area)     Pasadena  \n",
       "4                                         Irvine, CA       Irvine  \n",
       "5              Irvine, CA 92617 (Research Park area)       Irvine  \n",
       "6              Irvine, CA 92617 (Research Park area)       Irvine  \n",
       "7  Irvine, CA 92618 (Irvine Health and Science Co...       Irvine  \n",
       "8                                San Diego, CA 92127    San Diego  "
      ]
     },
     "execution_count": 36,
     "metadata": {},
     "output_type": "execute_result"
    }
   ],
   "source": [
    "New_job_location_df"
   ]
  },
  {
   "cell_type": "code",
   "execution_count": null,
   "metadata": {},
   "outputs": [],
   "source": []
  },
  {
   "cell_type": "code",
   "execution_count": null,
   "metadata": {},
   "outputs": [],
   "source": []
  },
  {
   "cell_type": "code",
   "execution_count": 37,
   "metadata": {},
   "outputs": [
    {
     "data": {
      "text/plain": [
       "<pymongo.results.InsertManyResult at 0x1cb20752e88>"
      ]
     },
     "execution_count": 37,
     "metadata": {},
     "output_type": "execute_result"
    }
   ],
   "source": [
    "#Define database and collection\n",
    "#Database = Indeed_db\n",
    "#Collections = Data_jobs\n",
    "client.Indeed_db.Data_jobs.insert_many(New_job_location_df.to_dict('records'))"
   ]
  },
  {
   "cell_type": "code",
   "execution_count": null,
   "metadata": {},
   "outputs": [],
   "source": [
    "#Done"
   ]
  },
  {
   "cell_type": "code",
   "execution_count": null,
   "metadata": {},
   "outputs": [],
   "source": []
  }
 ],
 "metadata": {
  "kernelspec": {
   "display_name": "Python 3",
   "language": "python",
   "name": "python3"
  },
  "language_info": {
   "codemirror_mode": {
    "name": "ipython",
    "version": 3
   },
   "file_extension": ".py",
   "mimetype": "text/x-python",
   "name": "python",
   "nbconvert_exporter": "python",
   "pygments_lexer": "ipython3",
   "version": "3.7.4"
  }
 },
 "nbformat": 4,
 "nbformat_minor": 2
}
