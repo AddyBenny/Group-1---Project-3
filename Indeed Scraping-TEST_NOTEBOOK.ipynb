{
 "cells": [
  {
   "cell_type": "code",
   "execution_count": 118,
   "metadata": {},
   "outputs": [],
   "source": [
    "from splinter import Browser\n",
    "from bs4 import BeautifulSoup\n",
    "import pandas as pd\n",
    "import pymongo "
   ]
  },
  {
   "cell_type": "code",
   "execution_count": 119,
   "metadata": {},
   "outputs": [],
   "source": [
    "executable_path = {'executable_path': 'chromedriver.exe'}\n",
    "browser = Browser('chrome', **executable_path, headless=False)"
   ]
  },
  {
   "cell_type": "code",
   "execution_count": 120,
   "metadata": {},
   "outputs": [],
   "source": [
    "url = 'https://www.indeed.com/jobs?q=Data+Scientist&l=Irvine%2C+CA&radius=100'\n",
    "browser.visit(url)"
   ]
  },
  {
   "cell_type": "code",
   "execution_count": 121,
   "metadata": {},
   "outputs": [],
   "source": [
    "html = browser.html"
   ]
  },
  {
   "cell_type": "code",
   "execution_count": 122,
   "metadata": {},
   "outputs": [],
   "source": [
    "soup = BeautifulSoup(html, 'html.parser')"
   ]
  },
  {
   "cell_type": "code",
   "execution_count": 123,
   "metadata": {},
   "outputs": [
    {
     "name": "stdout",
     "output_type": "stream",
     "text": [
      "[<h2 class=\"title\">\n",
      "<a class=\"jobtitle turnstileLink\" data-tn-element=\"jobTitle\" href=\"/pagead/clk?mo=r&amp;ad=-6NYlbfkN0AnQhcI30S35noZYX7fptC9JHDBVuSQzNzWdPUWRF9nG_TgfFeJcuyvoA_Dmg8a2SWU0CWz29S6MT30H2yhzzsBpPN9y0B6egimIjGTLXX1oUyXsUX7-ksrT2fHw1ZxE675VWanqeqU3t9LUAatd_nATymTC1UVJ8jmJ9jwNZRqUxvBCMeuGpxGPeEbDnFuv3nb_XTdjTT-gcuPAtTKFRqMsUUXi-kvoeYt3JcE-9jWmdwzth4WTGq3GCH0IsWHtOWojZE-6Km9XGbe19n7cKZi8AKhfHUEcRyaDCjtfaysaUSPfuTNDMpspIwvCS746QBupVCtuWsnK1dN-7-2L3RBv7pLOAsFoFjCWQJcI15DrbCZCq2mgXo7Anq3QfQTf9-G2xm9PWXUj2o-QxYmUV7yhtl9eb3EYVSl-JL9ZRw9KR4MIneEj8UYsZ-CIeC4mxdyov845QxDR0DzqrOqhVxr&amp;p=0&amp;fvj=1&amp;vjs=3\" id=\"sja0\" onclick=\"setRefineByCookie(['radius']); sjoc('sja0', 1); convCtr('SJ'); rclk(this,jobmap[0],true,1);\" onmousedown=\"sjomd('sja0'); clk('sja0'); rclk(this,jobmap[0],1);\" rel=\"noopener nofollow\" target=\"_blank\" title=\"Educational Data Scientist\">\n",
      "Educational <b>Data</b> <b>Scientist</b></a>\n",
      "</h2>, <h2 class=\"title\">\n",
      "<a class=\"jobtitle turnstileLink\" data-tn-element=\"jobTitle\" href=\"/pagead/clk?mo=r&amp;ad=-6NYlbfkN0ClvsRMZZYbWkncYKklQZhomgGvtzxN2NDL0Yep_oEtFRBSc398mSurhg85pZ9IK4hwZENIdnfMrfT31QlmgQnUNsllJCuzCyoL6Y8z-8PyQo2okYl75ZdJ1F6hsfqRCcpp1Z-R9T2X6kucCAyUQ1kNcZZ4uY0nOY2hWVLTUMGtzL3gKa-jOv__9vGuS7Qtz00R4Fnzw2xPDsnSywQDEUsVxaB3y1PQ8KKG0YmAeJ4StidL832LukRMDPvjB_haHPHQRVSoSxmF75Dcqkti_87rv5jsIxFEUZh99Pf4vLHkvo_c8h6x9n_n90xTpb2mEzAYu2kcqgVFdFdBn0OuRhv8t4lR2vegQRUgSBc5tAnOWUuwYVn5l2NnUNokwtYrssnYftjnK8reVQ==&amp;p=1&amp;fvj=0&amp;vjs=3\" id=\"sja1\" onclick=\"setRefineByCookie(['radius']); sjoc('sja1', 0); convCtr('SJ'); rclk(this,jobmap[1],true,0);\" onmousedown=\"sjomd('sja1'); clk('sja1'); rclk(this,jobmap[1],0);\" rel=\"noopener nofollow\" target=\"_blank\" title=\"Staff Data Scientist - Analytics\">\n",
      "Staff <b>Data</b> <b>Scientist</b> - Analytics</a>\n",
      "<span class=\"new\">new</span></h2>, <h2 class=\"title\">\n",
      "<a class=\"jobtitle turnstileLink\" data-tn-element=\"jobTitle\" href=\"/pagead/clk?mo=r&amp;ad=-6NYlbfkN0AMr11YIOo206dX9CE572HoIBzjTozchv3QrfVeNVhstmAbPwFeZPDdH5w4MW3uUm59zxvwZmewuUare5btROGxqWx-_fSqJeoXHzgLaa8yIT3c-7Q_Qgpv8mTModHRHthZsuQggKKJ9TnHriBpY7kvmeTBHlvkjXeCuKGqTWnOLk1Ejk3aguHuvsJnPgkjXFcCA0Y-PNl8zy7n_mn5xTv72VlK9MSpPJx50ZZgt4KKma3YEP29aJ6obRZwqdjy9uV-M_CGfEIikxVTJ0-1wZIWT92QrhJzZxdJ-_KuMWYSbkQVegX4YUBvxOZOx_F2fxoudQ9INSGBlEK2db_DDcHNz-yfqHuEGRQ4OC4rDFWETOTZilIxLdSipG2M4_ZNfjPSD7RMsz6n4pXfvCFHBuPDo89jSVS4QYHTxImUohiDLC_eixIp08P3bkWOJo_XLr4xQOfHfhzQi2OzJJcnClNJJunVmtrixjr7IJc11ImacjycVJu90m8yuhpU_RpvbQc=&amp;p=2&amp;fvj=1&amp;vjs=3\" id=\"sja2\" onclick=\"setRefineByCookie(['radius']); sjoc('sja2', 1); convCtr('SJ'); rclk(this,jobmap[2],true,1);\" onmousedown=\"sjomd('sja2'); clk('sja2'); rclk(this,jobmap[2],1);\" rel=\"noopener nofollow\" target=\"_blank\" title=\"Data Scientist\">\n",
      "<b>Data</b> <b>Scientist</b></a>\n",
      "<span class=\"new\">new</span></h2>, <h2 class=\"title\">\n",
      "<a class=\"jobtitle turnstileLink\" data-tn-element=\"jobTitle\" href=\"/pagead/clk?mo=r&amp;ad=-6NYlbfkN0ClvsRMZZYbWkncYKklQZhomgGvtzxN2NDL0Yep_oEtFRBSc398mSurhg85pZ9IK4hwZENIdnfMrd9vgmYaldPQpYZYmqd_RWsMa-UQUHq33lrt1JtH8E7ZxWSo7ImAkgsQHQpZ3y3tmy7gmAY8NN36UpxyWZlcL0JFQovCxZj23JoJ6L08odbdsn0irE-FPLcyzrOWY_sI9tnwLJxV9xezDTV6xr7OJ8fhPDxBQoSLq4sKEn9tW-jwIbCr8rcGq9kGs0WYCJu238FGe63gPEWZuu4FkT-VjtyVHznn1Jl95q7xHDrboIUBVhQR3G90kRMAK2zCyIz1cRb8d5Rdbs5J1qCTrFzDglYftusfKRIte2qiD7y1IqLfTYAsumSp4vzuwvpErCEiWW61R-cnKwfj&amp;p=3&amp;fvj=0&amp;vjs=3\" id=\"sja3\" onclick=\"setRefineByCookie(['radius']); sjoc('sja3', 0); convCtr('SJ'); rclk(this,jobmap[3],true,0);\" onmousedown=\"sjomd('sja3'); clk('sja3'); rclk(this,jobmap[3],0);\" rel=\"noopener nofollow\" target=\"_blank\" title=\"Senior Data Scientist\">\n",
      "Senior <b>Data</b> <b>Scientist</b></a>\n",
      "<span class=\"new\">new</span></h2>, <h2 class=\"title\">\n",
      "<a class=\"jobtitle turnstileLink\" data-tn-element=\"jobTitle\" href=\"/company/Mobile-Programming/jobs/Data-Scientist-df4e6af65c173ecb?fccid=d0377b42bd69efd8&amp;vjs=3\" id=\"jl_df4e6af65c173ecb\" onclick=\"setRefineByCookie(['radius']); return rclk(this,jobmap[4],true,0);\" onmousedown=\"return rclk(this,jobmap[4],0);\" rel=\"noopener nofollow\" target=\"_blank\" title=\"Data Scientist\">\n",
      "<b>Data</b> <b>Scientist</b></a>\n",
      "<span class=\"new\">new</span></h2>, <h2 class=\"title\">\n",
      "<a class=\"jobtitle turnstileLink\" data-tn-element=\"jobTitle\" href=\"/pagead/clk?mo=r&amp;ad=-6NYlbfkN0ClvsRMZZYbWkncYKklQZhomgGvtzxN2NDL0Yep_oEtFRBSc398mSurhg85pZ9IK4hwZENIdnfMrQ6jY9y4BiMTjFetE6lV34ljRGQOt0c--tGxHypRVfT_9BDTHYVgA85tPr6gqrXWhudRWWEWingJqdA9IyWfP6AbBYmJOJd4gPk2Fk1xDAK34Mi1PwYmrQ_rJNVFT1S5p6BLDqnjmGZ2eHSP0vGDHHZkn52DKvapYvdxpbokCxarf_6bQaLP4h533oU9J3ynQe2u5HWe-S44mAmlW1ARHabxqynoRpGJXGWsCrxNZrO3WfSJZefiX3bR55-pe1azJuul8JaMrwp9xoyEZtb1mcCxD4h4k7uMJXUfQn2ILYWbDLACagG2fSggQzPEnTdvzA==&amp;p=5&amp;fvj=0&amp;vjs=3\" id=\"sja5\" onclick=\"setRefineByCookie(['radius']); sjoc('sja5', 0); convCtr('SJ'); rclk(this,jobmap[5],true,0);\" onmousedown=\"sjomd('sja5'); clk('sja5'); rclk(this,jobmap[5],0);\" rel=\"noopener nofollow\" target=\"_blank\" title=\"Staff Data Scientist\">\n",
      "Staff <b>Data</b> <b>Scientist</b></a>\n",
      "<span class=\"new\">new</span></h2>, <h2 class=\"title\">\n",
      "<a class=\"jobtitle turnstileLink\" data-tn-element=\"jobTitle\" href=\"/rc/clk?jk=8c14ad33311ec5b3&amp;fccid=87d7af0ec9cd5df0&amp;vjs=3\" id=\"jl_8c14ad33311ec5b3\" onclick=\"setRefineByCookie(['radius']); return rclk(this,jobmap[6],true,0);\" onmousedown=\"return rclk(this,jobmap[6],0);\" rel=\"noopener nofollow\" target=\"_blank\" title=\"Data Scientist\">\n",
      "<b>Data</b> <b>Scientist</b></a>\n",
      "</h2>, <h2 class=\"title\">\n",
      "<a class=\"jobtitle turnstileLink\" data-tn-element=\"jobTitle\" href=\"/company/GradTests/jobs/Data-Scientist-61369985007480f5?fccid=3b57c72e54f9233d&amp;vjs=3\" id=\"jl_61369985007480f5\" onclick=\"setRefineByCookie(['radius']); return rclk(this,jobmap[7],true,1);\" onmousedown=\"return rclk(this,jobmap[7],1);\" rel=\"noopener nofollow\" target=\"_blank\" title=\"Data Scientist\">\n",
      "<b>Data</b> <b>Scientist</b></a>\n",
      "</h2>, <h2 class=\"title\">\n",
      "<a class=\"jobtitle turnstileLink\" data-tn-element=\"jobTitle\" href=\"/rc/clk?jk=e48719183cfe2f66&amp;fccid=ba0b4ef452449c10&amp;vjs=3\" id=\"jl_e48719183cfe2f66\" onclick=\"setRefineByCookie(['radius']); return rclk(this,jobmap[8],true,0);\" onmousedown=\"return rclk(this,jobmap[8],0);\" rel=\"noopener nofollow\" target=\"_blank\" title=\"Data Scientist\">\n",
      "<b>Data</b> <b>Scientist</b></a>\n",
      "</h2>, <h2 class=\"title\">\n",
      "<a class=\"jobtitle turnstileLink\" data-tn-element=\"jobTitle\" href=\"/rc/clk?jk=a2e9b786626bdcf5&amp;fccid=5eaae7a6faec1749&amp;vjs=3\" id=\"jl_a2e9b786626bdcf5\" onclick=\"setRefineByCookie(['radius']); return rclk(this,jobmap[9],true,0);\" onmousedown=\"return rclk(this,jobmap[9],0);\" rel=\"noopener nofollow\" target=\"_blank\" title=\"Data Scientist\">\n",
      "<b>Data</b> <b>Scientist</b></a>\n",
      "</h2>, <h2 class=\"title\">\n",
      "<a class=\"jobtitle turnstileLink\" data-tn-element=\"jobTitle\" href=\"/rc/clk?jk=539843aa92aaf8ce&amp;fccid=a23e5e2f20b1aac4&amp;vjs=3\" id=\"jl_539843aa92aaf8ce\" onclick=\"setRefineByCookie(['radius']); return rclk(this,jobmap[10],true,0);\" onmousedown=\"return rclk(this,jobmap[10],0);\" rel=\"noopener nofollow\" target=\"_blank\" title=\"Data Scientist\">\n",
      "<b>Data</b> <b>Scientist</b></a>\n",
      "</h2>, <h2 class=\"title\">\n",
      "<a class=\"jobtitle turnstileLink\" data-tn-element=\"jobTitle\" href=\"/company/Nihon-Kohden-America/jobs/Senior-Data-Scientist-b456cb2212135131?fccid=54764032272f66ae&amp;vjs=3\" id=\"jl_b456cb2212135131\" onclick=\"setRefineByCookie(['radius']); return rclk(this,jobmap[11],true,1);\" onmousedown=\"return rclk(this,jobmap[11],1);\" rel=\"noopener nofollow\" target=\"_blank\" title=\"Sr. Data Scientist\">\n",
      "Sr. <b>Data</b> <b>Scientist</b></a>\n",
      "</h2>, <h2 class=\"title\">\n",
      "<a class=\"jobtitle turnstileLink\" data-tn-element=\"jobTitle\" href=\"/company/Competitive-Analytics/jobs/Accounting-Finance-Data-Scientist-170c9b75f9736574?fccid=4162bb76db63f003&amp;vjs=3\" id=\"jl_170c9b75f9736574\" onclick=\"setRefineByCookie(['radius']); return rclk(this,jobmap[12],true,1);\" onmousedown=\"return rclk(this,jobmap[12],1);\" rel=\"noopener nofollow\" target=\"_blank\" title=\"Accounting Finance Data Scientist\">\n",
      "Accounting Finance <b>Data</b> <b>Scientist</b></a>\n",
      "</h2>, <h2 class=\"title\">\n",
      "<a class=\"jobtitle turnstileLink\" data-tn-element=\"jobTitle\" href=\"/rc/clk?jk=26e1065d7f6d9c88&amp;fccid=8f3c0373bcfa5520&amp;vjs=3\" id=\"jl_26e1065d7f6d9c88\" onclick=\"setRefineByCookie(['radius']); return rclk(this,jobmap[13],true,0);\" onmousedown=\"return rclk(this,jobmap[13],0);\" rel=\"noopener nofollow\" target=\"_blank\" title=\"Data Scientist\">\n",
      "<b>Data</b> <b>Scientist</b></a>\n",
      "<span class=\"new\">new</span></h2>, <h2 class=\"title\">\n",
      "<a class=\"jobtitle turnstileLink\" data-tn-element=\"jobTitle\" href=\"/rc/clk?jk=8fccd5560141cd7c&amp;fccid=3514e173cb2d063d&amp;vjs=3\" id=\"jl_8fccd5560141cd7c\" onclick=\"setRefineByCookie(['radius']); return rclk(this,jobmap[14],true,0);\" onmousedown=\"return rclk(this,jobmap[14],0);\" rel=\"noopener nofollow\" target=\"_blank\" title=\"Data Scientist\">\n",
      "<b>Data</b> <b>Scientist</b></a>\n",
      "</h2>]\n"
     ]
    }
   ],
   "source": [
    "titles = soup.find_all(\"h2\", class_ = \"title\")\n",
    "print(titles)\n",
    "#title[1].get_text()"
   ]
  },
  {
   "cell_type": "code",
   "execution_count": 124,
   "metadata": {
    "scrolled": true
   },
   "outputs": [
    {
     "name": "stdout",
     "output_type": "stream",
     "text": [
      "\n",
      "\n",
      "Educational Data Scientist\n",
      "\n",
      "\n",
      "\n",
      "Staff Data Scientist - Analytics\n",
      "new\n",
      "\n",
      "\n",
      "Data Scientist\n",
      "new\n",
      "\n",
      "\n",
      "Senior Data Scientist\n",
      "new\n",
      "\n",
      "\n",
      "Data Scientist\n",
      "new\n",
      "\n",
      "\n",
      "Staff Data Scientist\n",
      "new\n",
      "\n",
      "\n",
      "Data Scientist\n",
      "\n",
      "\n",
      "\n",
      "Data Scientist\n",
      "\n",
      "\n",
      "\n",
      "Data Scientist\n",
      "\n",
      "\n",
      "\n",
      "Data Scientist\n",
      "\n",
      "\n",
      "\n",
      "Data Scientist\n",
      "\n",
      "\n",
      "\n",
      "Sr. Data Scientist\n",
      "\n",
      "\n",
      "\n",
      "Accounting Finance Data Scientist\n",
      "\n",
      "\n",
      "\n",
      "Data Scientist\n",
      "new\n",
      "\n",
      "\n",
      "Data Scientist\n",
      "\n"
     ]
    }
   ],
   "source": [
    "for title in titles:\n",
    "    job_title = title.get_text()\n",
    "    print(job_title)\n",
    "    "
   ]
  },
  {
   "cell_type": "code",
   "execution_count": 125,
   "metadata": {},
   "outputs": [
    {
     "name": "stdout",
     "output_type": "stream",
     "text": [
      "not found\n"
     ]
    }
   ],
   "source": [
    "try:\n",
    "    dismiss = browser.find_by_xpath('/html/body/div[2]/div/section/div/div[2]')\n",
    "    more_jobs = browser.find_by_xpath('/html/body/table[2]/tbody/tr/td/table/tbody/tr/td[1]/nav/div/ul/li[6]/a/span')\n",
    "    no_thanks = browser.find_by_xpath('/html/body/div[3]/div[2]/div[4]/div[3]/div[2]/a')\n",
    "    dismiss.first.click()\n",
    "    more_jobs.first.click()\n",
    "    no_thanks.first.click()\n",
    "except:\n",
    "    print(\"not found\")"
   ]
  },
  {
   "cell_type": "code",
   "execution_count": null,
   "metadata": {},
   "outputs": [],
   "source": []
  },
  {
   "cell_type": "code",
   "execution_count": 126,
   "metadata": {},
   "outputs": [
    {
     "name": "stdout",
     "output_type": "stream",
     "text": [
      "\n",
      "page: 1 -------------\n",
      "\n",
      "\n",
      "Educational Data Scientist\n",
      "\n",
      "page: 1 -------------\n",
      "\n",
      "\n",
      "Staff Data Scientist - Analytics\n",
      "new\n",
      "page: 1 -------------\n",
      "\n",
      "\n",
      "Data Scientist\n",
      "new\n",
      "page: 1 -------------\n",
      "\n",
      "\n",
      "Senior Data Scientist\n",
      "new\n",
      "page: 1 -------------\n",
      "\n",
      "\n",
      "Data Scientist\n",
      "new\n",
      "page: 1 -------------\n",
      "\n",
      "\n",
      "Staff Data Scientist\n",
      "new\n",
      "page: 1 -------------\n",
      "\n",
      "\n",
      "Data Scientist\n",
      "\n",
      "page: 1 -------------\n",
      "\n",
      "\n",
      "Data Scientist\n",
      "\n",
      "page: 1 -------------\n",
      "\n",
      "\n",
      "Data Scientist\n",
      "\n",
      "page: 1 -------------\n",
      "\n",
      "\n",
      "Data Scientist\n",
      "\n",
      "page: 1 -------------\n",
      "\n",
      "\n",
      "Data Scientist\n",
      "\n",
      "page: 1 -------------\n",
      "\n",
      "\n",
      "Sr. Data Scientist\n",
      "\n",
      "page: 1 -------------\n",
      "\n",
      "\n",
      "Accounting Finance Data Scientist\n",
      "\n",
      "page: 1 -------------\n",
      "\n",
      "\n",
      "Data Scientist\n",
      "new\n",
      "page: 1 -------------\n",
      "\n",
      "\n",
      "Data Scientist\n",
      "\n",
      "page: 2 -------------\n",
      "\n",
      "\n",
      "Educational Data Scientist\n",
      "\n",
      "page: 2 -------------\n",
      "\n",
      "\n",
      "Staff Data Scientist - Analytics\n",
      "new\n",
      "page: 2 -------------\n",
      "\n",
      "\n",
      "Data Scientist\n",
      "new\n",
      "page: 2 -------------\n",
      "\n",
      "\n",
      "Senior Data Scientist\n",
      "new\n",
      "page: 2 -------------\n",
      "\n",
      "\n",
      "Data Scientist\n",
      "new\n",
      "page: 2 -------------\n",
      "\n",
      "\n",
      "Staff Data Scientist\n",
      "new\n",
      "page: 2 -------------\n",
      "\n",
      "\n",
      "Data Scientist\n",
      "\n",
      "page: 2 -------------\n",
      "\n",
      "\n",
      "Data Scientist\n",
      "\n",
      "page: 2 -------------\n",
      "\n",
      "\n",
      "Data Scientist\n",
      "\n",
      "page: 2 -------------\n",
      "\n",
      "\n",
      "Data Scientist\n",
      "\n",
      "page: 2 -------------\n",
      "\n",
      "\n",
      "Data Scientist\n",
      "\n",
      "page: 2 -------------\n",
      "\n",
      "\n",
      "Sr. Data Scientist\n",
      "\n",
      "page: 2 -------------\n",
      "\n",
      "\n",
      "Accounting Finance Data Scientist\n",
      "\n",
      "page: 2 -------------\n",
      "\n",
      "\n",
      "Data Scientist\n",
      "new\n",
      "page: 2 -------------\n",
      "\n",
      "\n",
      "Data Scientist\n",
      "\n"
     ]
    },
    {
     "ename": "ElementDoesNotExist",
     "evalue": "no elements could be found with xpath \"/html/body/table[2]/tbody/tr/td/table/tbody/tr/td[1]/nav/div/ul/li[6]/a/span/span\"",
     "output_type": "error",
     "traceback": [
      "\u001b[1;31m---------------------------------------------------------------------------\u001b[0m",
      "\u001b[1;31mIndexError\u001b[0m                                Traceback (most recent call last)",
      "\u001b[1;32m~\\Anaconda3\\lib\\site-packages\\splinter\\element_list.py\u001b[0m in \u001b[0;36m__getitem__\u001b[1;34m(self, index)\u001b[0m\n\u001b[0;32m     41\u001b[0m         \u001b[1;32mtry\u001b[0m\u001b[1;33m:\u001b[0m\u001b[1;33m\u001b[0m\u001b[1;33m\u001b[0m\u001b[0m\n\u001b[1;32m---> 42\u001b[1;33m             \u001b[1;32mreturn\u001b[0m \u001b[0mself\u001b[0m\u001b[1;33m.\u001b[0m\u001b[0m_container\u001b[0m\u001b[1;33m[\u001b[0m\u001b[0mindex\u001b[0m\u001b[1;33m]\u001b[0m\u001b[1;33m\u001b[0m\u001b[1;33m\u001b[0m\u001b[0m\n\u001b[0m\u001b[0;32m     43\u001b[0m         \u001b[1;32mexcept\u001b[0m \u001b[0mIndexError\u001b[0m\u001b[1;33m:\u001b[0m\u001b[1;33m\u001b[0m\u001b[1;33m\u001b[0m\u001b[0m\n",
      "\u001b[1;31mIndexError\u001b[0m: list index out of range",
      "\nDuring handling of the above exception, another exception occurred:\n",
      "\u001b[1;31mElementDoesNotExist\u001b[0m                       Traceback (most recent call last)",
      "\u001b[1;32m<ipython-input-126-0b9059363c08>\u001b[0m in \u001b[0;36m<module>\u001b[1;34m\u001b[0m\n\u001b[0;32m     36\u001b[0m \u001b[1;33m\u001b[0m\u001b[0m\n\u001b[0;32m     37\u001b[0m     \u001b[0melem\u001b[0m \u001b[1;33m=\u001b[0m \u001b[0mbrowser\u001b[0m\u001b[1;33m.\u001b[0m\u001b[0mfind_by_xpath\u001b[0m\u001b[1;33m(\u001b[0m\u001b[1;34m'/html/body/table[2]/tbody/tr/td/table/tbody/tr/td[1]/nav/div/ul/li[6]/a/span/span'\u001b[0m\u001b[1;33m)\u001b[0m\u001b[1;33m\u001b[0m\u001b[1;33m\u001b[0m\u001b[0m\n\u001b[1;32m---> 38\u001b[1;33m     \u001b[0melem\u001b[0m\u001b[1;33m.\u001b[0m\u001b[0mclick\u001b[0m\u001b[1;33m(\u001b[0m\u001b[1;33m)\u001b[0m\u001b[1;33m\u001b[0m\u001b[1;33m\u001b[0m\u001b[0m\n\u001b[0m\u001b[0;32m     39\u001b[0m \u001b[1;33m\u001b[0m\u001b[0m\n\u001b[0;32m     40\u001b[0m \u001b[1;33m\u001b[0m\u001b[0m\n",
      "\u001b[1;32m~\\Anaconda3\\lib\\site-packages\\splinter\\element_list.py\u001b[0m in \u001b[0;36m__getattr__\u001b[1;34m(self, name)\u001b[0m\n\u001b[0;32m     74\u001b[0m     \u001b[1;32mdef\u001b[0m \u001b[0m__getattr__\u001b[0m\u001b[1;33m(\u001b[0m\u001b[0mself\u001b[0m\u001b[1;33m,\u001b[0m \u001b[0mname\u001b[0m\u001b[1;33m)\u001b[0m\u001b[1;33m:\u001b[0m\u001b[1;33m\u001b[0m\u001b[1;33m\u001b[0m\u001b[0m\n\u001b[0;32m     75\u001b[0m         \u001b[1;32mtry\u001b[0m\u001b[1;33m:\u001b[0m\u001b[1;33m\u001b[0m\u001b[1;33m\u001b[0m\u001b[0m\n\u001b[1;32m---> 76\u001b[1;33m             \u001b[1;32mreturn\u001b[0m \u001b[0mgetattr\u001b[0m\u001b[1;33m(\u001b[0m\u001b[0mself\u001b[0m\u001b[1;33m.\u001b[0m\u001b[0mfirst\u001b[0m\u001b[1;33m,\u001b[0m \u001b[0mname\u001b[0m\u001b[1;33m)\u001b[0m\u001b[1;33m\u001b[0m\u001b[1;33m\u001b[0m\u001b[0m\n\u001b[0m\u001b[0;32m     77\u001b[0m         \u001b[1;32mexcept\u001b[0m \u001b[0mAttributeError\u001b[0m\u001b[1;33m:\u001b[0m\u001b[1;33m\u001b[0m\u001b[1;33m\u001b[0m\u001b[0m\n\u001b[0;32m     78\u001b[0m             \u001b[1;32mtry\u001b[0m\u001b[1;33m:\u001b[0m\u001b[1;33m\u001b[0m\u001b[1;33m\u001b[0m\u001b[0m\n",
      "\u001b[1;32m~\\Anaconda3\\lib\\site-packages\\splinter\\element_list.py\u001b[0m in \u001b[0;36mfirst\u001b[1;34m(self)\u001b[0m\n\u001b[0;32m     55\u001b[0m             \u001b[1;33m>>\u001b[0m\u001b[1;33m>\u001b[0m \u001b[1;32massert\u001b[0m \u001b[0melement_list\u001b[0m\u001b[1;33m[\u001b[0m\u001b[1;36m0\u001b[0m\u001b[1;33m]\u001b[0m \u001b[1;33m==\u001b[0m \u001b[0melement_list\u001b[0m\u001b[1;33m.\u001b[0m\u001b[0mfirst\u001b[0m\u001b[1;33m\u001b[0m\u001b[1;33m\u001b[0m\u001b[0m\n\u001b[0;32m     56\u001b[0m         \"\"\"\n\u001b[1;32m---> 57\u001b[1;33m         \u001b[1;32mreturn\u001b[0m \u001b[0mself\u001b[0m\u001b[1;33m[\u001b[0m\u001b[1;36m0\u001b[0m\u001b[1;33m]\u001b[0m\u001b[1;33m\u001b[0m\u001b[1;33m\u001b[0m\u001b[0m\n\u001b[0m\u001b[0;32m     58\u001b[0m \u001b[1;33m\u001b[0m\u001b[0m\n\u001b[0;32m     59\u001b[0m     \u001b[1;33m@\u001b[0m\u001b[0mproperty\u001b[0m\u001b[1;33m\u001b[0m\u001b[1;33m\u001b[0m\u001b[0m\n",
      "\u001b[1;32m~\\Anaconda3\\lib\\site-packages\\splinter\\element_list.py\u001b[0m in \u001b[0;36m__getitem__\u001b[1;34m(self, index)\u001b[0m\n\u001b[0;32m     44\u001b[0m             raise ElementDoesNotExist(\n\u001b[0;32m     45\u001b[0m                 u'no elements could be found with {0} \"{1}\"'.format(\n\u001b[1;32m---> 46\u001b[1;33m                     \u001b[0mself\u001b[0m\u001b[1;33m.\u001b[0m\u001b[0mfind_by\u001b[0m\u001b[1;33m,\u001b[0m \u001b[0mself\u001b[0m\u001b[1;33m.\u001b[0m\u001b[0mquery\u001b[0m\u001b[1;33m\u001b[0m\u001b[1;33m\u001b[0m\u001b[0m\n\u001b[0m\u001b[0;32m     47\u001b[0m                 )\n\u001b[0;32m     48\u001b[0m             )\n",
      "\u001b[1;31mElementDoesNotExist\u001b[0m: no elements could be found with xpath \"/html/body/table[2]/tbody/tr/td/table/tbody/tr/td[1]/nav/div/ul/li[6]/a/span/span\""
     ]
    }
   ],
   "source": [
    "# more_titles = []\n",
    "# while (True):  \n",
    "#     try:\n",
    "#         titles = soup.find_all(\"h2\", class_ = \"title\")\n",
    "#         more_titles.append(titles)\n",
    "#         print(titles)\n",
    "#         print(len(titles))\n",
    "#         if len(more_titles) >=100:\n",
    "#             break\n",
    "#         more_jobs = browser.find_by_xpath('/html/body/table[2]/tbody/tr/td/table/tbody/tr/td[1]/nav/div/ul/li[6]/a/span')\n",
    "#         more_jobs.first.click()\n",
    "#     except:\n",
    "#         pass\n",
    "# print(\"found \" + str(len(titles)))\n",
    "# for title in titles:\n",
    "#     job_title = title.get_text()\n",
    "#     print(job_title)\n",
    "\n",
    "job_titles = []\n",
    " \n",
    "for x in range(1, 7):\n",
    "    \n",
    "    try:\n",
    "        close = browser.find_by_xpath('/html/body/div[3]/div[2]/div[4]/div[3]/div[2]/a')\n",
    "        close.first.click()\n",
    "    except:\n",
    "        print('')\n",
    "    \n",
    "    titles = soup.find_all(\"h2\", class_ = \"title\")\n",
    "    for title in titles:\n",
    "        job_titles.append(title.text)\n",
    "        print('page:', x, '-------------')\n",
    "        print(title.text)\n",
    "    \n",
    "   \n",
    "        \n",
    "    elem = browser.find_by_xpath('/html/body/table[2]/tbody/tr/td/table/tbody/tr/td[1]/nav/div/ul/li[6]/a/span/span')\n",
    "    elem.click()  \n",
    "    \n",
    " \n",
    "        \n",
    "        "
   ]
  },
  {
   "cell_type": "code",
   "execution_count": null,
   "metadata": {},
   "outputs": [],
   "source": [
    "#clean_job_titles = job_titles.strip\n",
    "clean_job_titles = []\n",
    "\n",
    "for job in job_titles[1:]:\n",
    "    clean_job_title = job.replace('\\n', '')\n",
    "    clean_job_titles.append(clean_job_title)"
   ]
  },
  {
   "cell_type": "code",
   "execution_count": null,
   "metadata": {},
   "outputs": [],
   "source": [
    "print(clean_job_titles)"
   ]
  },
  {
   "cell_type": "code",
   "execution_count": null,
   "metadata": {},
   "outputs": [],
   "source": [
    "locations = soup.find_all(\"span\", class_ = \"location accessible-contrast-color-location\")\n",
    "locations"
   ]
  },
  {
   "cell_type": "code",
   "execution_count": null,
   "metadata": {},
   "outputs": [],
   "source": [
    "job_locations = []\n",
    "\n",
    "for x in range(1, 7):\n",
    "    \n",
    "    try:\n",
    "        close = browser.find_by_xpath('/html/body/div[3]/div[2]/div[4]/div[3]/div[2]/a')\n",
    "        close.first.click()\n",
    "    except:\n",
    "        print('') \n",
    "    \n",
    "    locations = soup.find_all(\"span\", class_ = \"location accessible-contrast-color-location\")\n",
    "    for location in locations:\n",
    "        job_locations.append(location.text)\n",
    "        print('page:', x, '-------------')\n",
    "        print(location.text)\n",
    "        \n",
    "\n",
    "        \n",
    "    elem = browser.find_by_xpath('/html/body/table[2]/tbody/tr/td/table/tbody/tr/td[1]/nav/div/ul/li[6]/a/span/span')\n",
    "    elem.first.click()  \n",
    "    \n",
    " \n",
    "    \n",
    " \n",
    "    "
   ]
  },
  {
   "cell_type": "code",
   "execution_count": null,
   "metadata": {},
   "outputs": [],
   "source": [
    "print(job_locations)"
   ]
  },
  {
   "cell_type": "code",
   "execution_count": null,
   "metadata": {},
   "outputs": [],
   "source": [
    "new_list = list(zip(clean_job_titles, job_locations))"
   ]
  },
  {
   "cell_type": "code",
   "execution_count": null,
   "metadata": {},
   "outputs": [],
   "source": [
    "print(new_list)"
   ]
  },
  {
   "cell_type": "code",
   "execution_count": null,
   "metadata": {},
   "outputs": [],
   "source": [
    "updated_list = dict(new_list)\n",
    "updated_list"
   ]
  },
  {
   "cell_type": "code",
   "execution_count": null,
   "metadata": {},
   "outputs": [],
   "source": [
    "#transfer to MongoDB\n",
    "\n",
    "#CONNECT MONGO DB\n",
    "\n",
    "# conn = 'mongodb://localhost:27017'\n",
    "# client = pymongo.MongoClient(conn)"
   ]
  },
  {
   "cell_type": "code",
   "execution_count": null,
   "metadata": {},
   "outputs": [],
   "source": [
    "# client.jobs_db.new_list.insert_many(new_list.to_dict('records'))"
   ]
  },
  {
   "cell_type": "code",
   "execution_count": null,
   "metadata": {},
   "outputs": [],
   "source": []
  }
 ],
 "metadata": {
  "kernelspec": {
   "display_name": "Python 3",
   "language": "python",
   "name": "python3"
  },
  "language_info": {
   "codemirror_mode": {
    "name": "ipython",
    "version": 3
   },
   "file_extension": ".py",
   "mimetype": "text/x-python",
   "name": "python",
   "nbconvert_exporter": "python",
   "pygments_lexer": "ipython3",
   "version": "3.7.4"
  }
 },
 "nbformat": 4,
 "nbformat_minor": 2
}
